{
 "cells": [
  {
   "cell_type": "markdown",
   "metadata": {
    "application/vnd.databricks.v1+cell": {
     "cellMetadata": {
      "byteLimit": 2048000,
      "rowLimit": 10000
     },
     "inputWidgets": {},
     "nuid": "7371167a-ae91-4a2d-8ed2-188186353aa0",
     "showTitle": false,
     "tableResultSettingsMap": {},
     "title": ""
    }
   },
   "source": [
    "# DSPy Workshop"
   ]
  },
  {
   "cell_type": "code",
   "execution_count": 0,
   "metadata": {
    "application/vnd.databricks.v1+cell": {
     "cellMetadata": {
      "byteLimit": 2048000,
      "rowLimit": 10000
     },
     "inputWidgets": {},
     "nuid": "3537c664-f758-435a-baaf-c01d66754f45",
     "showTitle": false,
     "tableResultSettingsMap": {},
     "title": ""
    }
   },
   "outputs": [],
   "source": [
    "%pip install -q dspy mlflow\n",
    "%restart_python"
   ]
  },
  {
   "cell_type": "markdown",
   "metadata": {
    "application/vnd.databricks.v1+cell": {
     "cellMetadata": {},
     "inputWidgets": {},
     "nuid": "ca0fb327-a361-459a-9ef8-eb91dd376e95",
     "showTitle": false,
     "tableResultSettingsMap": {},
     "title": ""
    }
   },
   "source": [
    "### Setup MLflow Tracing\n",
    "\n",
    "Let's set up MLflow tracing for the entire lab for interpretability. This lab is prepared with Databricks managed MLflow service, so we don't need to handle the MLflow server management. If you are running the notebook on your local machine, you will need to spin up your own MLflow server. To do so, make sure you have `mlflow` installed, then execute the command below in your terminal:\n",
    "\n",
    "```bash\n",
    "mlflow ui  --host 127.0.0.1 --port 8080\n",
    "```\n",
    "\n",
    "Then add the following line to the jupyter notebook:\n",
    "\n",
    "```python\n",
    "mlflow.set_tracking_uri(\"http://127.0.0.1:8080\")\n",
    "```\n",
    "\n",
    "Then you can run the following lab without issues! If you are having trouble setting up the local MLflow server, please refer to the [MLflow Quickstart](https://mlflow.org/docs/latest/getting-started/intro-quickstart/)"
   ]
  },
  {
   "cell_type": "code",
   "execution_count": 0,
   "metadata": {
    "application/vnd.databricks.v1+cell": {
     "cellMetadata": {
      "byteLimit": 2048000,
      "rowLimit": 10000
     },
     "inputWidgets": {},
     "nuid": "c861e74a-bdb5-4fe1-9544-e2ab94ba0d61",
     "showTitle": false,
     "tableResultSettingsMap": {},
     "title": ""
    }
   },
   "outputs": [],
   "source": [
    "import mlflow\n",
    "\n",
    "mlflow.dspy.autolog()"
   ]
  },
  {
   "cell_type": "markdown",
   "metadata": {
    "application/vnd.databricks.v1+cell": {
     "cellMetadata": {
      "byteLimit": 2048000,
      "rowLimit": 10000
     },
     "inputWidgets": {},
     "nuid": "2857311b-27dd-4578-933e-2dcbb9aab3dd",
     "showTitle": false,
     "tableResultSettingsMap": {},
     "title": ""
    }
   },
   "source": [
    "## DSPy Backbone - Signature and Modules\n",
    "\n",
    "In this lab, we will demonstrate the fundamentals of DSPy by walking through an end to end demo of building a DSPy program. You will learn how to set the LM for the program, and use DSPy signature to define your input/output data and format, then build a DSPy program with dspy modules to achieve your task. You will also learn how to save/load your DSPy program for future usage and sharing."
   ]
  },
  {
   "cell_type": "code",
   "execution_count": 0,
   "metadata": {
    "application/vnd.databricks.v1+cell": {
     "cellMetadata": {
      "byteLimit": 2048000,
      "rowLimit": 10000
     },
     "inputWidgets": {},
     "nuid": "9e1a5dbd-058d-400e-83c1-5606b5e9040f",
     "showTitle": false,
     "tableResultSettingsMap": {},
     "title": ""
    }
   },
   "outputs": [],
   "source": [
    "import dspy\n",
    "import os\n",
    "\n",
    "os.environ[\"OPENAI_API_KEY\"] = \"{your_openai_api_key}\""
   ]
  },
  {
   "cell_type": "code",
   "execution_count": 0,
   "metadata": {
    "application/vnd.databricks.v1+cell": {
     "cellMetadata": {
      "byteLimit": 2048000,
      "rowLimit": 10000
     },
     "inputWidgets": {},
     "nuid": "907baff1-933f-4b1c-9d92-5a982158dcc2",
     "showTitle": false,
     "tableResultSettingsMap": {},
     "title": ""
    }
   },
   "outputs": [],
   "source": [
    "import litellm\n",
    "import logging\n",
    "\n",
    "litellm._logging._disable_debugging()\n",
    "httpx_logger = logging.getLogger(\"httpx\")\n",
    "httpx_logger.setLevel(logging.WARNING)"
   ]
  },
  {
   "cell_type": "markdown",
   "metadata": {
    "application/vnd.databricks.v1+cell": {
     "cellMetadata": {},
     "inputWidgets": {},
     "nuid": "bf460df5-5db1-4cf0-831c-771d11b36577",
     "showTitle": false,
     "tableResultSettingsMap": {},
     "title": ""
    }
   },
   "source": [
    "### Configure the LM\n",
    "\n",
    "Configure the LM behind our DSPy workflow. The identifier is of the format `{provider_name}/{lm_name}`, e.g., `databricks/databricks-claude-3-7-sonnet` or `openai/gpt-4o` To find the the complete list of provider and supported models, please refer to the [Litellm documentation](https://docs.litellm.ai/docs/providers).\n",
    "\n",
    "In this lab, we will be using the `openai/gpt-4o-mini` model. If you decide to switch to a different LM in the future, simply call `dspy.settings.configure(lm=dspy.LM({new_lm_identifier}))`, and the rest of the code can stay unchanged!"
   ]
  },
  {
   "cell_type": "code",
   "execution_count": 0,
   "metadata": {
    "application/vnd.databricks.v1+cell": {
     "cellMetadata": {
      "byteLimit": 2048000,
      "rowLimit": 10000
     },
     "inputWidgets": {},
     "nuid": "f19646f9-9f0b-49bb-b708-db077c5dd636",
     "showTitle": false,
     "tableResultSettingsMap": {},
     "title": ""
    }
   },
   "outputs": [],
   "source": [
    "dspy.settings.configure(lm=dspy.LM(\"openai/gpt-4o-mini\"))"
   ]
  },
  {
   "cell_type": "markdown",
   "metadata": {
    "application/vnd.databricks.v1+cell": {
     "cellMetadata": {},
     "inputWidgets": {},
     "nuid": "53efa941-5fdd-4a87-b59a-d781acc528b9",
     "showTitle": false,
     "tableResultSettingsMap": {},
     "title": ""
    }
   },
   "source": [
    "## Use DSPy built-in Module to Build a Sentiment Classifier\n",
    "\n",
    "Now let's start simple by building a sentiment classifier with a single DSPy built-in module. The goal is to classify the text into sentiment of a scale of 10. A higher score means a more positive sentiment."
   ]
  },
  {
   "cell_type": "markdown",
   "metadata": {
    "application/vnd.databricks.v1+cell": {
     "cellMetadata": {},
     "inputWidgets": {},
     "nuid": "a60dc1c4-75d9-4b64-8b80-ff59872e759e",
     "showTitle": false,
     "tableResultSettingsMap": {},
     "title": ""
    }
   },
   "source": [
    "### Build the Signature to Define Input/Output Data and Format\n",
    "\n",
    "The next step is creating a signature to define your input/output data and format. We have two different options:\n",
    "\n",
    "- String-based signature: easy to authorize, but not suitable for complex use cases.\n",
    "- Class-based signature: powerful, slightly more complex than string-based signature.\n",
    "\n",
    "Let's explore both options."
   ]
  },
  {
   "cell_type": "markdown",
   "metadata": {
    "application/vnd.databricks.v1+cell": {
     "cellMetadata": {},
     "inputWidgets": {},
     "nuid": "adcd07dd-bf2a-4ac7-b807-a3bbbf9aa416",
     "showTitle": false,
     "tableResultSettingsMap": {},
     "title": ""
    }
   },
   "source": [
    "#### String-based Signature\n",
    "\n",
    "String-based signature separates input and output fields by `->`, and separates each field by `,`. For example, `question, context -> answer` means the input has 2 fields, `question` and `context`, and the output has a single field `answer`. To use a string-based signature, we can use `dspy.make_signature()`, or directly feed it to a DSPy module, e.g., `dspy.Predict(\"question, context -> answer\")`. \n",
    "\n",
    "Below we create the string-based signature for sentiment classifier."
   ]
  },
  {
   "cell_type": "code",
   "execution_count": 0,
   "metadata": {
    "application/vnd.databricks.v1+cell": {
     "cellMetadata": {
      "byteLimit": 2048000,
      "rowLimit": 10000
     },
     "inputWidgets": {},
     "nuid": "f0df7380-d3ac-4c47-b9e4-3cd15e93b9bb",
     "showTitle": false,
     "tableResultSettingsMap": {},
     "title": ""
    }
   },
   "outputs": [],
   "source": [
    "str_signature = dspy.make_signature(\"text -> sentiment\")"
   ]
  },
  {
   "cell_type": "markdown",
   "metadata": {
    "application/vnd.databricks.v1+cell": {
     "cellMetadata": {},
     "inputWidgets": {},
     "nuid": "7fae0928-d127-41c3-8c80-83b44e9209bb",
     "showTitle": false,
     "tableResultSettingsMap": {},
     "title": ""
    }
   },
   "source": [
    "Class-based Signature\n",
    "\n",
    "To use class-based signature, we need to define a class subclassing from `dspy.Signature`, and configure input and output fields as class attrs, similar to [Pydantic model](https://docs.pydantic.dev/latest/concepts/models/) if you are familar with it."
   ]
  },
  {
   "cell_type": "code",
   "execution_count": 0,
   "metadata": {
    "application/vnd.databricks.v1+cell": {
     "cellMetadata": {
      "byteLimit": 2048000,
      "rowLimit": 10000
     },
     "inputWidgets": {},
     "nuid": "0b09de9b-3dd1-4446-be39-6aeaadccc4b8",
     "showTitle": false,
     "tableResultSettingsMap": {},
     "title": ""
    }
   },
   "outputs": [],
   "source": [
    "class SentimentClassifier(dspy.Signature):\n",
    "    \"\"\"Classify the sentiment of a text.\"\"\"\n",
    "\n",
    "    text: str = dspy.InputField(desc=\"input text to classify sentiment\")\n",
    "    sentiment: int = dspy.OutputField(desc=\"sentiment, the higher the more positive\", ge=0, le=10)"
   ]
  },
  {
   "cell_type": "markdown",
   "metadata": {
    "application/vnd.databricks.v1+cell": {
     "cellMetadata": {},
     "inputWidgets": {},
     "nuid": "71c4a8fd-4838-423e-ad5f-4e2ff5ab5af3",
     "showTitle": false,
     "tableResultSettingsMap": {},
     "title": ""
    }
   },
   "source": [
    "In order to distinguish between input fields and output fields, simply assign `dspy.InputField` to input fields, and `dspy.OutputField` to output fields. Fields support the following custom configs:\n",
    "\n",
    "- type: you can specify the type of the field using format `: {type}`, similar as Python type hint.\n",
    "- desc: a string explaining the purpose of this field. \n",
    "- pydantic constraints: additional constraint on the fields, such as `ge` means must be greater or equal to.\n",
    "\n",
    "Please refer to [signature tutorial](https://dspy.ai/learn/programming/signatures/) for a thorough guide on defining a signature."
   ]
  },
  {
   "cell_type": "markdown",
   "metadata": {
    "application/vnd.databricks.v1+cell": {
     "cellMetadata": {},
     "inputWidgets": {},
     "nuid": "e8307666-b645-4a7d-bbe5-2dbd192d4f7c",
     "showTitle": false,
     "tableResultSettingsMap": {},
     "title": ""
    }
   },
   "source": [
    "### Create a Module to Interact with the LM\n",
    "\n",
    "Now we have defined the input/output by creating a signature, the next step is to call LM to classify the sentiment of user text. We can simply pass the signature to the very basic DSPy module `dspy.Predict` to get the job done."
   ]
  },
  {
   "cell_type": "code",
   "execution_count": 0,
   "metadata": {
    "application/vnd.databricks.v1+cell": {
     "cellMetadata": {
      "byteLimit": 2048000,
      "rowLimit": 10000
     },
     "inputWidgets": {},
     "nuid": "0d5c00b5-44d3-4b36-8562-e4d9cb425ae1",
     "showTitle": false,
     "tableResultSettingsMap": {},
     "title": ""
    }
   },
   "outputs": [],
   "source": [
    "predict = dspy.Predict(SentimentClassifier)"
   ]
  },
  {
   "cell_type": "markdown",
   "metadata": {
    "application/vnd.databricks.v1+cell": {
     "cellMetadata": {},
     "inputWidgets": {},
     "nuid": "c4ee6b1c-2536-4670-97f9-ba861db0eb65",
     "showTitle": false,
     "tableResultSettingsMap": {},
     "title": ""
    }
   },
   "source": [
    "You can also use `predict = dspy.Predict(str_signature)` or `predict = dspy.Predict(\"text -> sentiment\")` to replace the code above. \n",
    "\n",
    "Now you can interact with the LM by calling the `predict` with `text` as the input."
   ]
  },
  {
   "cell_type": "code",
   "execution_count": 0,
   "metadata": {
    "application/vnd.databricks.v1+cell": {
     "cellMetadata": {
      "byteLimit": 2048000,
      "rowLimit": 10000
     },
     "inputWidgets": {},
     "nuid": "b0132247-d0a1-4e44-a2b5-9085782cff92",
     "showTitle": false,
     "tableResultSettingsMap": {},
     "title": ""
    }
   },
   "outputs": [
    {
     "name": "stdout",
     "output_type": "stream",
     "text": [
      "Prediction(\n",
      "    sentiment=8\n",
      ")\n"
     ]
    },
    {
     "data": {
      "application/databricks.mlflow.trace": "\"tr-2944b148f1044a339f4bf2996a098a93\"",
      "text/plain": [
       "Trace(request_id=tr-2944b148f1044a339f4bf2996a098a93)"
      ]
     },
     "metadata": {},
     "output_type": "display_data"
    }
   ],
   "source": [
    "output = predict(text=\"I am feeling pretty happy!\")\n",
    "print(output)"
   ]
  },
  {
   "cell_type": "markdown",
   "metadata": {
    "application/vnd.databricks.v1+cell": {
     "cellMetadata": {},
     "inputWidgets": {},
     "nuid": "e730e12f-1e5f-425f-946a-304d850be743",
     "showTitle": false,
     "tableResultSettingsMap": {},
     "title": ""
    }
   },
   "source": [
    "The output is a `dspy.Prediction` instance with a single field `sentiment` of type int (as requested in the signature). You can directly access the field by dot access, or dict access."
   ]
  },
  {
   "cell_type": "code",
   "execution_count": 0,
   "metadata": {
    "application/vnd.databricks.v1+cell": {
     "cellMetadata": {
      "byteLimit": 2048000,
      "rowLimit": 10000
     },
     "inputWidgets": {},
     "nuid": "3cbed1b9-958b-4993-8c0c-fcb4a2bd5d5b",
     "showTitle": false,
     "tableResultSettingsMap": {},
     "title": ""
    }
   },
   "outputs": [
    {
     "name": "stdout",
     "output_type": "stream",
     "text": [
      "The sentiment is: 8\n",
      "The sentiment is: 8\n"
     ]
    }
   ],
   "source": [
    "print(f\"The sentiment is: {output.sentiment}\")\n",
    "print(f\"The sentiment is: {output['sentiment']}\")"
   ]
  },
  {
   "cell_type": "markdown",
   "metadata": {
    "application/vnd.databricks.v1+cell": {
     "cellMetadata": {},
     "inputWidgets": {},
     "nuid": "84b067e5-0bae-49fc-ad4c-0800a8485cd0",
     "showTitle": false,
     "tableResultSettingsMap": {},
     "title": ""
    }
   },
   "source": [
    "### Wait, Where is My Prompt? \n",
    "\n",
    "It's a bit counterintuitive that with the code above, we never compose the multiturn prompts as requested by LLM providers, e.g., OpenAI, Anthropic, Google and so on. Instead, we are just making calls to a python callable. The magic is under the hood we format the signature together with user input into the multiturn prompt, and we can inspect it by utilizing the util function `dspy.inspect_history()`."
   ]
  },
  {
   "cell_type": "code",
   "execution_count": 0,
   "metadata": {
    "application/vnd.databricks.v1+cell": {
     "cellMetadata": {
      "byteLimit": 2048000,
      "rowLimit": 10000
     },
     "inputWidgets": {},
     "nuid": "9644b008-0c97-4a51-ac65-3749b92a2a02",
     "showTitle": false,
     "tableResultSettingsMap": {},
     "title": ""
    }
   },
   "outputs": [
    {
     "name": "stdout",
     "output_type": "stream",
     "text": [
      "\n",
      "\n",
      "\n",
      "\n",
      "\u001b[34m[2025-04-22T22:13:39.300194]\u001b[0m\n",
      "\n",
      "\u001b[31mSystem message:\u001b[0m\n",
      "\n",
      "Your input fields are:\n",
      "1. `text` (str): input text to classify sentiment\n",
      "Your output fields are:\n",
      "1. `sentiment` (int): sentiment, the higher the more positive\n",
      "Constraints: greater than or equal to: 0, less than or equal to: 10\n",
      "All interactions will be structured in the following way, with the appropriate values filled in.\n",
      "\n",
      "[[ ## text ## ]]\n",
      "{text}\n",
      "\n",
      "[[ ## sentiment ## ]]\n",
      "{sentiment}        # note: the value you produce must be a single int value\n",
      "\n",
      "[[ ## completed ## ]]\n",
      "In adhering to this structure, your objective is: \n",
      "        Classify the sentiment of a text.\n",
      "\n",
      "\n",
      "\u001b[31mUser message:\u001b[0m\n",
      "\n",
      "[[ ## text ## ]]\n",
      "I am feeling pretty happy!\n",
      "\n",
      "Respond with the corresponding output fields, starting with the field `[[ ## sentiment ## ]]` (must be formatted as a valid Python int), and then ending with the marker for `[[ ## completed ## ]]`.\n",
      "\n",
      "\n",
      "\u001b[31mResponse:\u001b[0m\n",
      "\n",
      "\u001b[32m[[ ## sentiment ## ]]\n",
      "8\n",
      "\n",
      "[[ ## completed ## ]]\u001b[0m\n",
      "\n",
      "\n",
      "\n",
      "\n",
      "\n"
     ]
    }
   ],
   "source": [
    "dspy.inspect_history(n=1)"
   ]
  },
  {
   "cell_type": "markdown",
   "metadata": {
    "application/vnd.databricks.v1+cell": {
     "cellMetadata": {},
     "inputWidgets": {},
     "nuid": "d67f14c2-274b-48b1-a016-7ae95dbdefce",
     "showTitle": false,
     "tableResultSettingsMap": {},
     "title": ""
    }
   },
   "source": [
    "In the above console print, the \"System message: \" section is the the message of role `system`, and \"User message: \" is the message of role `user`. \"Response: \" section is the actual response we get from the LLM."
   ]
  },
  {
   "cell_type": "markdown",
   "metadata": {
    "application/vnd.databricks.v1+cell": {
     "cellMetadata": {},
     "inputWidgets": {},
     "nuid": "c9ace71d-a5b1-4816-8dfa-731a9b1a61f8",
     "showTitle": false,
     "tableResultSettingsMap": {},
     "title": ""
    }
   },
   "source": [
    "### Try a Different Built-in Module\n",
    "\n",
    "We have tried out the very basic module `dspy.Predict` above, let's try something more powerful. Another common built-in module we recommend is the `dspy.ChainOfThought`, which is almost the same as `dspy.Predict`, but in addition to the normal `dspy.Predict`'s output, we also request LM to provide `reasoning` for its response. Let's check it out."
   ]
  },
  {
   "cell_type": "code",
   "execution_count": 0,
   "metadata": {
    "application/vnd.databricks.v1+cell": {
     "cellMetadata": {
      "byteLimit": 2048000,
      "rowLimit": 10000
     },
     "inputWidgets": {},
     "nuid": "12c99182-6d33-415f-9754-86a072590e31",
     "showTitle": false,
     "tableResultSettingsMap": {},
     "title": ""
    }
   },
   "outputs": [
    {
     "name": "stderr",
     "output_type": "stream",
     "text": [
      "INFO:httpx:HTTP Request: POST https://api.openai.com/v1/chat/completions \"HTTP/1.1 200 OK\"\n"
     ]
    },
    {
     "name": "stdout",
     "output_type": "stream",
     "text": [
      "Prediction(\n",
      "    reasoning='The text expresses frustration regarding the potential trade of a beloved player, Luka, which indicates a negative sentiment. The use of the word \"frustrated\" clearly conveys disappointment and concern, leading to a lower sentiment score.',\n",
      "    sentiment=3\n",
      ")\n"
     ]
    },
    {
     "data": {
      "application/databricks.mlflow.trace": "\"tr-a561bf8f251d4e59a23a04a3c52972a4\"",
      "text/plain": [
       "Trace(request_id=tr-a561bf8f251d4e59a23a04a3c52972a4)"
      ]
     },
     "metadata": {},
     "output_type": "display_data"
    }
   ],
   "source": [
    "cot = dspy.ChainOfThought(SentimentClassifier)\n",
    "\n",
    "output = cot(text=\"As a Mavericks fan, I am feeling a bit frustrated about Luka gets traded...\")\n",
    "print(output)"
   ]
  },
  {
   "cell_type": "markdown",
   "metadata": {
    "application/vnd.databricks.v1+cell": {
     "cellMetadata": {},
     "inputWidgets": {},
     "nuid": "3fb1bdc3-674e-4f9b-bf9d-85c453471aed",
     "showTitle": false,
     "tableResultSettingsMap": {},
     "title": ""
    }
   },
   "source": [
    "You can see above that the output includes a `reasoning` field explaining why we reach this sentiment score. Now let's check the LM interaction history."
   ]
  },
  {
   "cell_type": "code",
   "execution_count": 0,
   "metadata": {
    "application/vnd.databricks.v1+cell": {
     "cellMetadata": {
      "byteLimit": 2048000,
      "rowLimit": 10000
     },
     "inputWidgets": {},
     "nuid": "16160e26-d993-45a6-b10a-61d3680b157f",
     "showTitle": false,
     "tableResultSettingsMap": {},
     "title": ""
    }
   },
   "outputs": [
    {
     "name": "stdout",
     "output_type": "stream",
     "text": [
      "\n",
      "\n",
      "\n",
      "\n",
      "\u001b[34m[2025-04-22T22:13:49.858819]\u001b[0m\n",
      "\n",
      "\u001b[31mSystem message:\u001b[0m\n",
      "\n",
      "Your input fields are:\n",
      "1. `text` (str): input text to classify sentiment\n",
      "Your output fields are:\n",
      "1. `reasoning` (str)\n",
      "2. `sentiment` (int): sentiment, the higher the more positive\n",
      "Constraints: greater than or equal to: 0, less than or equal to: 10\n",
      "All interactions will be structured in the following way, with the appropriate values filled in.\n",
      "\n",
      "[[ ## text ## ]]\n",
      "{text}\n",
      "\n",
      "[[ ## reasoning ## ]]\n",
      "{reasoning}\n",
      "\n",
      "[[ ## sentiment ## ]]\n",
      "{sentiment}        # note: the value you produce must be a single int value\n",
      "\n",
      "[[ ## completed ## ]]\n",
      "In adhering to this structure, your objective is: \n",
      "        Classify the sentiment of a text.\n",
      "\n",
      "\n",
      "\u001b[31mUser message:\u001b[0m\n",
      "\n",
      "[[ ## text ## ]]\n",
      "As a Mavericks fan, I am feeling a bit frustrated about Luka gets traded...\n",
      "\n",
      "Respond with the corresponding output fields, starting with the field `[[ ## reasoning ## ]]`, then `[[ ## sentiment ## ]]` (must be formatted as a valid Python int), and then ending with the marker for `[[ ## completed ## ]]`.\n",
      "\n",
      "\n",
      "\u001b[31mResponse:\u001b[0m\n",
      "\n",
      "\u001b[32m[[ ## reasoning ## ]]\n",
      "The text expresses frustration regarding the potential trade of a beloved player, Luka, which indicates a negative sentiment. The use of the word \"frustrated\" clearly conveys disappointment and concern, leading to a lower sentiment score.\n",
      "\n",
      "[[ ## sentiment ## ]]\n",
      "3\n",
      "\n",
      "[[ ## completed ## ]]\u001b[0m\n",
      "\n",
      "\n",
      "\n",
      "\n",
      "\n"
     ]
    }
   ],
   "source": [
    "dspy.inspect_history(n=1)"
   ]
  },
  {
   "cell_type": "markdown",
   "metadata": {
    "application/vnd.databricks.v1+cell": {
     "cellMetadata": {},
     "inputWidgets": {},
     "nuid": "ac7ddb89-d5f3-4f73-8346-d1bf250e26af",
     "showTitle": false,
     "tableResultSettingsMap": {},
     "title": ""
    }
   },
   "source": [
    "Comparing it to the history of `dspy.Predict`, we can see that with `dspy.ChainOfThought` we are explicitly requesting reasoning from the LM. \n",
    "\n",
    "For information of other pre-built modules, please refer to the [API Reference](https://dspy.ai/api/modules/BestOfN/).\n"
   ]
  },
  {
   "cell_type": "markdown",
   "metadata": {
    "application/vnd.databricks.v1+cell": {
     "cellMetadata": {},
     "inputWidgets": {},
     "nuid": "28a09c60-288d-4edb-a3a3-29aa85871d50",
     "showTitle": false,
     "tableResultSettingsMap": {},
     "title": ""
    }
   },
   "source": [
    "### [Optional] Use a Different Adapter\n",
    "\n",
    "Sometimes the default adapter may not be able to have LLM provide the requested output fields, when it happens you can try a different adapter. To change the adapter, we can make a call to `dspy.configure` like below, where we switch the adapter to be `dspy.JSONAdapter()`, which leverages the structured output feature of the provider. "
   ]
  },
  {
   "cell_type": "code",
   "execution_count": 0,
   "metadata": {
    "application/vnd.databricks.v1+cell": {
     "cellMetadata": {
      "byteLimit": 2048000,
      "rowLimit": 10000
     },
     "inputWidgets": {},
     "nuid": "28bf94e9-9997-4f15-974d-e82e4070f766",
     "showTitle": false,
     "tableResultSettingsMap": {},
     "title": ""
    }
   },
   "outputs": [],
   "source": [
    "dspy.configure(adapter=dspy.JSONAdapter())"
   ]
  },
  {
   "cell_type": "markdown",
   "metadata": {
    "application/vnd.databricks.v1+cell": {
     "cellMetadata": {},
     "inputWidgets": {},
     "nuid": "c422f94d-0870-4f01-9d5e-77f5fc6921fe",
     "showTitle": false,
     "tableResultSettingsMap": {},
     "title": ""
    }
   },
   "source": [
    "Let's interact with LM again and see what's getting changed."
   ]
  },
  {
   "cell_type": "code",
   "execution_count": 0,
   "metadata": {
    "application/vnd.databricks.v1+cell": {
     "cellMetadata": {
      "byteLimit": 2048000,
      "rowLimit": 10000
     },
     "inputWidgets": {},
     "nuid": "77d6940e-2301-4dce-9d0c-9fea38ae9054",
     "showTitle": false,
     "tableResultSettingsMap": {},
     "title": ""
    }
   },
   "outputs": [
    {
     "name": "stderr",
     "output_type": "stream",
     "text": [
      "INFO:httpx:HTTP Request: POST https://api.openai.com/v1/chat/completions \"HTTP/1.1 200 OK\"\n"
     ]
    },
    {
     "name": "stdout",
     "output_type": "stream",
     "text": [
      "Prediction(\n",
      "    reasoning=\"The text expresses excitement and happiness about the acquisition of Luka Doncic, indicating a strong positive sentiment. The use of the word 'thrilled' suggests a high level of enthusiasm and satisfaction, which contributes to a positive sentiment score.\",\n",
      "    sentiment=9\n",
      ")\n",
      "\n",
      "\n",
      "\n",
      "\n",
      "\u001b[34m[2025-04-22T22:14:04.443384]\u001b[0m\n",
      "\n",
      "\u001b[31mSystem message:\u001b[0m\n",
      "\n",
      "Your input fields are:\n",
      "1. `text` (str): input text to classify sentiment\n",
      "Your output fields are:\n",
      "1. `reasoning` (str)\n",
      "2. `sentiment` (int): sentiment, the higher the more positive\n",
      "Constraints: greater than or equal to: 0, less than or equal to: 10\n",
      "All interactions will be structured in the following way, with the appropriate values filled in.\n",
      "\n",
      "Inputs will have the following structure:\n",
      "\n",
      "[[ ## text ## ]]\n",
      "{text}\n",
      "\n",
      "Outputs will be a JSON object with the following fields.\n",
      "\n",
      "[[ ## reasoning ## ]]\n",
      "{reasoning}\n",
      "\n",
      "[[ ## sentiment ## ]]\n",
      "{sentiment}        # note: the value you produce must be a single int value\n",
      "In adhering to this structure, your objective is: \n",
      "        Classify the sentiment of a text.\n",
      "\n",
      "\n",
      "\u001b[31mUser message:\u001b[0m\n",
      "\n",
      "[[ ## text ## ]]\n",
      "As a Lakers fan, I feel thrilled of getting Luka Doncic\n",
      "\n",
      "Respond with a JSON object in the following order of fields: `reasoning`, then `sentiment` (must be formatted as a valid Python int).\n",
      "\n",
      "\n",
      "\u001b[31mResponse:\u001b[0m\n",
      "\n",
      "\u001b[32m{\"reasoning\":\"The text expresses excitement and happiness about the acquisition of Luka Doncic, indicating a strong positive sentiment. The use of the word 'thrilled' suggests a high level of enthusiasm and satisfaction, which contributes to a positive sentiment score.\",\"sentiment\":9}\u001b[0m\n",
      "\n",
      "\n",
      "\n",
      "\n",
      "\n"
     ]
    },
    {
     "data": {
      "application/databricks.mlflow.trace": "\"tr-64bc28e80a824c6293ef0750b6409399\"",
      "text/plain": [
       "Trace(request_id=tr-64bc28e80a824c6293ef0750b6409399)"
      ]
     },
     "metadata": {},
     "output_type": "display_data"
    }
   ],
   "source": [
    "print(cot(text=\"As a Lakers fan, I feel thrilled of getting Luka Doncic\"))\n",
    "dspy.inspect_history(n=1)"
   ]
  },
  {
   "cell_type": "markdown",
   "metadata": {
    "application/vnd.databricks.v1+cell": {
     "cellMetadata": {},
     "inputWidgets": {},
     "nuid": "765f24ad-d907-4516-a208-e1bb9a415922",
     "showTitle": false,
     "tableResultSettingsMap": {},
     "title": ""
    }
   },
   "source": [
    "By a careful comparison, you can see that the new Response comes in the format of a dictionary (json) instead of a string broken down into a few sections."
   ]
  },
  {
   "cell_type": "markdown",
   "metadata": {
    "application/vnd.databricks.v1+cell": {
     "cellMetadata": {},
     "inputWidgets": {},
     "nuid": "45cf0b4c-3b66-4e67-a9df-c64ed0965da4",
     "showTitle": false,
     "tableResultSettingsMap": {},
     "title": ""
    }
   },
   "source": [
    "## Build a Program with Custom Module\n",
    "\n",
    "So far we have explored how to use built-in DSPy module to build a single-module DSPy program. In actual production cases, we usually need to build multi-module programs which also involves custom function calling. Let's get started with it!"
   ]
  },
  {
   "cell_type": "markdown",
   "metadata": {
    "application/vnd.databricks.v1+cell": {
     "cellMetadata": {},
     "inputWidgets": {},
     "nuid": "967796d8-92ed-4e37-b16c-579ae223dfbf",
     "showTitle": false,
     "tableResultSettingsMap": {},
     "title": ""
    }
   },
   "source": [
    "### Define Your Program by Customizing DSPy Module\n",
    "\n",
    "In order to define a custom DSPy program, you will need to define a class subclassing from `dspy.Module`, and write your custom logic in the `forward` method. This is similar PyTorch and Keras if you are familiar with those.\n",
    "\n",
    "For demo, let's build a celebrity guessing game with DSPy. The game setup is:\n",
    "- User is asked to think about a celebrity name, and keep it in mind.\n",
    "- LLM starts by asking a series of yes/no questions. User must response with yes/no. \n",
    "- When the max number of questions is reached, LLM must make its guess, and user needs to response to if that's correct.\n",
    "- LLM will tell users about its reasoning process."
   ]
  },
  {
   "cell_type": "code",
   "execution_count": 0,
   "metadata": {
    "application/vnd.databricks.v1+cell": {
     "cellMetadata": {
      "byteLimit": 2048000,
      "rowLimit": 10000
     },
     "inputWidgets": {},
     "nuid": "3dc69a50-c9f2-4219-b4b1-08e138dd49c2",
     "showTitle": false,
     "tableResultSettingsMap": {},
     "title": ""
    }
   },
   "outputs": [],
   "source": [
    "class QuestionGenerator(dspy.Signature):\n",
    "    \"\"\"Generate a yes or no question in order to guess the celebrity name in users' mind. You can ask in general or directly guess the name if you think the signal is enough. You should never ask the same question in the past_questions.\"\"\"\n",
    "    past_questions: list[str] = dspy.InputField(desc=\"past questions asked\")\n",
    "    past_answers: list[bool] = dspy.InputField(desc=\"past answers\")\n",
    "    new_question: str = dspy.OutputField(desc=\"new question that can help narrow down the celebrity name\")\n",
    "    guess_made: bool = dspy.OutputField(desc=\"If the new_question is the celebrity name guess, set to True, if it is still a general question set to False\")\n",
    "\n",
    "\n",
    "class Reflection(dspy.Signature):\n",
    "    \"\"\"Provide reflection on the guessing process\"\"\"\n",
    "    correct_celebrity_name: str = dspy.InputField(desc=\"the celebrity name in user's mind\")\n",
    "    final_guessor_question: str = dspy.InputField(desc=\"the final guess or question LM made\")\n",
    "    past_questions: list[str] = dspy.InputField(desc=\"past questions asked\")\n",
    "    past_answers: list[bool] = dspy.InputField(desc=\"past answers\")\n",
    "\n",
    "    reflection: str = dspy.OutputField(\n",
    "        desc=\"reflection on the guessing process, including what was done well and what can be improved\"\n",
    "    )\n",
    "\n",
    "def ask(prompt, valid_responses=(\"y\", \"n\")):\n",
    "    while True:\n",
    "        response = input(f\"{prompt} ({'/'.join(valid_responses)}): \").strip().lower()\n",
    "        if response in valid_responses:\n",
    "            return response\n",
    "        print(f\"Please enter one of: {', '.join(valid_responses)}\")\n",
    "\n",
    "class CelebrityGuess(dspy.Module):\n",
    "    def __init__(self, max_tries=10):\n",
    "        super().__init__()\n",
    "\n",
    "        self.question_generator = dspy.ChainOfThought(QuestionGenerator)\n",
    "        self.reflection = dspy.ChainOfThought(Reflection)\n",
    "\n",
    "        self.max_tries = 20\n",
    "\n",
    "    def forward(self):\n",
    "        celebrity_name = input(\"Please think of a celebrity name, once you are ready, type the name and press enter...\")\n",
    "        past_questions = []\n",
    "        past_answers = []\n",
    "\n",
    "        correct_guess = False\n",
    "\n",
    "        for i in range(self.max_tries):\n",
    "            question = self.question_generator(\n",
    "                past_questions=past_questions,\n",
    "                past_answers=past_answers,\n",
    "            )\n",
    "            answer = ask(f\"{question.new_question}\").lower() == \"y\"\n",
    "            past_questions.append(question.new_question)\n",
    "            past_answers.append(answer)\n",
    "\n",
    "            if question.guess_made and answer:\n",
    "                correct_guess = True\n",
    "                break\n",
    "\n",
    "        if correct_guess:\n",
    "            print(\"Yay! I got it right!\")\n",
    "        else:\n",
    "            print(\"Oops, I couldn't guess it right.\")\n",
    "\n",
    "        reflection = self.reflection(\n",
    "            correct_celebrity_name=celebrity_name,\n",
    "            final_guessor_question=question.new_question,\n",
    "            past_questions=past_questions,\n",
    "            past_answers=past_answers,\n",
    "        )\n",
    "        print(reflection.reflection)\n"
   ]
  },
  {
   "cell_type": "code",
   "execution_count": 0,
   "metadata": {
    "application/vnd.databricks.v1+cell": {
     "cellMetadata": {
      "byteLimit": 2048000,
      "rowLimit": 10000
     },
     "inputWidgets": {},
     "nuid": "12d6f035-bf1d-440b-aed6-b936566973db",
     "showTitle": false,
     "tableResultSettingsMap": {},
     "title": ""
    }
   },
   "outputs": [
    {
     "data": {
      "text/plain": [
       "Please think of a celebrity name, once you are ready, type the name and press enter... Lebron James"
      ]
     },
     "metadata": {},
     "output_type": "display_data"
    },
    {
     "name": "stderr",
     "output_type": "stream",
     "text": [
      "INFO:httpx:HTTP Request: POST https://api.openai.com/v1/chat/completions \"HTTP/1.1 200 OK\"\n"
     ]
    },
    {
     "data": {
      "text/plain": [
       "Is the celebrity you are thinking of an actor or actress? (y/n):  n"
      ]
     },
     "metadata": {},
     "output_type": "display_data"
    },
    {
     "name": "stderr",
     "output_type": "stream",
     "text": [
      "INFO:httpx:HTTP Request: POST https://api.openai.com/v1/chat/completions \"HTTP/1.1 200 OK\"\n"
     ]
    },
    {
     "data": {
      "text/plain": [
       "Is the celebrity you are thinking of a musician? (y/n):  n"
      ]
     },
     "metadata": {},
     "output_type": "display_data"
    },
    {
     "name": "stderr",
     "output_type": "stream",
     "text": [
      "INFO:httpx:HTTP Request: POST https://api.openai.com/v1/chat/completions \"HTTP/1.1 200 OK\"\n"
     ]
    },
    {
     "data": {
      "text/plain": [
       "Is the celebrity you are thinking of a sports figure? (y/n):  y"
      ]
     },
     "metadata": {},
     "output_type": "display_data"
    },
    {
     "name": "stderr",
     "output_type": "stream",
     "text": [
      "INFO:httpx:HTTP Request: POST https://api.openai.com/v1/chat/completions \"HTTP/1.1 200 OK\"\n"
     ]
    },
    {
     "data": {
      "text/plain": [
       "Is the celebrity you are thinking of known for playing basketball? (y/n):  y"
      ]
     },
     "metadata": {},
     "output_type": "display_data"
    },
    {
     "name": "stderr",
     "output_type": "stream",
     "text": [
      "INFO:httpx:HTTP Request: POST https://api.openai.com/v1/chat/completions \"HTTP/1.1 200 OK\"\n"
     ]
    },
    {
     "data": {
      "text/plain": [
       "Is the celebrity you are thinking of currently active in the NBA? (y/n):  y"
      ]
     },
     "metadata": {},
     "output_type": "display_data"
    },
    {
     "name": "stderr",
     "output_type": "stream",
     "text": [
      "INFO:httpx:HTTP Request: POST https://api.openai.com/v1/chat/completions \"HTTP/1.1 200 OK\"\n"
     ]
    },
    {
     "data": {
      "text/plain": [
       "Is the celebrity you are thinking of LeBron James? (y/n):  y"
      ]
     },
     "metadata": {},
     "output_type": "display_data"
    },
    {
     "name": "stdout",
     "output_type": "stream",
     "text": [
      "Yay! I got it right!\n"
     ]
    },
    {
     "name": "stderr",
     "output_type": "stream",
     "text": [
      "INFO:httpx:HTTP Request: POST https://api.openai.com/v1/chat/completions \"HTTP/1.1 200 OK\"\n"
     ]
    },
    {
     "name": "stdout",
     "output_type": "stream",
     "text": [
      "The guessing process was well-structured, starting with broad categories and progressively narrowing down to specific traits related to the celebrity. The questions were relevant and guided the guessing effectively. One area for improvement could be to include a question about the celebrity's achievements or specific teams they are associated with, which could further refine the guessing process in future interactions.\n"
     ]
    },
    {
     "data": {
      "application/databricks.mlflow.trace": "\"tr-861d7ce35195430d8f1fa026f3cbed39\"",
      "text/plain": [
       "Trace(request_id=tr-861d7ce35195430d8f1fa026f3cbed39)"
      ]
     },
     "metadata": {},
     "output_type": "display_data"
    }
   ],
   "source": [
    "celebrity_guess = CelebrityGuess()\n",
    "\n",
    "celebrity_guess()"
   ]
  },
  {
   "cell_type": "markdown",
   "metadata": {
    "application/vnd.databricks.v1+cell": {
     "cellMetadata": {},
     "inputWidgets": {},
     "nuid": "2e837f7a-0ff8-413c-accb-dbbdbcaa8df7",
     "showTitle": false,
     "tableResultSettingsMap": {},
     "title": ""
    }
   },
   "source": [
    "That's it! With DSPy, it's very easy to combine custom logic with multiple LLM calls to build a compound AI system."
   ]
  },
  {
   "cell_type": "markdown",
   "metadata": {
    "application/vnd.databricks.v1+cell": {
     "cellMetadata": {},
     "inputWidgets": {},
     "nuid": "d567d405-1e16-400d-9ce0-1e8a1bc0c151",
     "showTitle": false,
     "tableResultSettingsMap": {},
     "title": ""
    }
   },
   "source": [
    "## Save and Load\n",
    "\n",
    "DSPy provides functionality to save/load your program effortlessly. Simply use the `Module.save(path)` method to save your model, which has two modes:\n",
    "- State-only: only save the internal states into a json file.\n",
    "- Entire program: save the whole program's information in a pickle file together with metadata like dspy version in a json file. "
   ]
  },
  {
   "cell_type": "markdown",
   "metadata": {
    "application/vnd.databricks.v1+cell": {
     "cellMetadata": {},
     "inputWidgets": {},
     "nuid": "ea1c5ab9-06a4-4231-9bc3-44dccd83a1aa",
     "showTitle": false,
     "tableResultSettingsMap": {},
     "title": ""
    }
   },
   "source": [
    "### State-only Saving"
   ]
  },
  {
   "cell_type": "code",
   "execution_count": 0,
   "metadata": {
    "application/vnd.databricks.v1+cell": {
     "cellMetadata": {
      "byteLimit": 2048000,
      "rowLimit": 10000
     },
     "inputWidgets": {},
     "nuid": "ecaeda3a-169b-4756-a98b-2c394e2de1f0",
     "showTitle": false,
     "tableResultSettingsMap": {},
     "title": ""
    }
   },
   "outputs": [],
   "source": [
    "celebrity_guess.save(\"dspy_program/celebrity.json\", save_program=False)"
   ]
  },
  {
   "cell_type": "markdown",
   "metadata": {
    "application/vnd.databricks.v1+cell": {
     "cellMetadata": {},
     "inputWidgets": {},
     "nuid": "7a930e12-f26d-4154-b071-747212573b81",
     "showTitle": false,
     "tableResultSettingsMap": {},
     "title": ""
    }
   },
   "source": [
    "You can load the state back from an instance of the same type. This is useful if we have changed the internal state of the module. In this use case it's a no-op."
   ]
  },
  {
   "cell_type": "code",
   "execution_count": 0,
   "metadata": {
    "application/vnd.databricks.v1+cell": {
     "cellMetadata": {
      "byteLimit": 2048000,
      "rowLimit": 10000
     },
     "inputWidgets": {},
     "nuid": "9fc41477-7c2b-48f9-8ae9-7b5575eafef1",
     "showTitle": false,
     "tableResultSettingsMap": {},
     "title": ""
    }
   },
   "outputs": [],
   "source": [
    "celebrity_guess.load(\"dspy_program/celebrity.json\")"
   ]
  },
  {
   "cell_type": "markdown",
   "metadata": {
    "application/vnd.databricks.v1+cell": {
     "cellMetadata": {},
     "inputWidgets": {},
     "nuid": "7ab1ced4-11b3-4dbf-887e-4342694fbdcb",
     "showTitle": false,
     "tableResultSettingsMap": {},
     "title": ""
    }
   },
   "source": [
    "## Whole-program Saving"
   ]
  },
  {
   "cell_type": "code",
   "execution_count": 0,
   "metadata": {
    "application/vnd.databricks.v1+cell": {
     "cellMetadata": {
      "byteLimit": 2048000,
      "rowLimit": 10000
     },
     "inputWidgets": {},
     "nuid": "f0213035-9199-4c7c-a5e2-ebf2f61efef9",
     "showTitle": false,
     "tableResultSettingsMap": {},
     "title": ""
    }
   },
   "outputs": [],
   "source": [
    "celebrity_guess.save(\"dspy_program/celebrity/\", save_program=True)"
   ]
  },
  {
   "cell_type": "markdown",
   "metadata": {
    "application/vnd.databricks.v1+cell": {
     "cellMetadata": {},
     "inputWidgets": {},
     "nuid": "d30e3b3f-076f-4b2b-9ae9-9e775e3a3952",
     "showTitle": false,
     "tableResultSettingsMap": {},
     "title": ""
    }
   },
   "source": [
    "You can load it back by `dspy.load()`, and it will create a new instance the same as `celebrity_guess`."
   ]
  },
  {
   "cell_type": "code",
   "execution_count": 0,
   "metadata": {
    "application/vnd.databricks.v1+cell": {
     "cellMetadata": {
      "byteLimit": 2048000,
      "rowLimit": 10000
     },
     "inputWidgets": {},
     "nuid": "025a72f3-1e1b-4c31-af46-74cc7ebeebf2",
     "showTitle": false,
     "tableResultSettingsMap": {},
     "title": ""
    }
   },
   "outputs": [],
   "source": [
    "loaded = dspy.load(\"dspy_program/celebrity/\")"
   ]
  },
  {
   "cell_type": "markdown",
   "metadata": {
    "application/vnd.databricks.v1+cell": {
     "cellMetadata": {},
     "inputWidgets": {},
     "nuid": "c06ccc17-38ee-4203-ba89-5c241bce8e6d",
     "showTitle": false,
     "tableResultSettingsMap": {},
     "title": ""
    }
   },
   "source": [
    "## Debug DSPy with MLflow Tracing\n",
    "\n",
    "In this section, we will demonstrate how to use mlflow tracing to help visualize and debug DSPy program. As of the demo, we will build a tool calling agent with DSPy ReAct module. ReAct stands for reasoning and acting, which uses LLM to determine the next tool to call, then execute the tool and send the execution result back to LLM to decide if more tools calls are required or return the answer. "
   ]
  },
  {
   "cell_type": "markdown",
   "metadata": {
    "application/vnd.databricks.v1+cell": {
     "cellMetadata": {},
     "inputWidgets": {},
     "nuid": "2e1b7e5d-2a89-4886-a51e-7fed996528b6",
     "showTitle": false,
     "tableResultSettingsMap": {},
     "title": ""
    }
   },
   "source": [
    "### Setup MLflow Tracing\n",
    "\n",
    "Let's first install MLflow and set up MLflow tracing."
   ]
  },
  {
   "cell_type": "markdown",
   "metadata": {
    "application/vnd.databricks.v1+cell": {
     "cellMetadata": {},
     "inputWidgets": {},
     "nuid": "db210b15-9c2d-493e-9554-d837ad7cf2c4",
     "showTitle": false,
     "tableResultSettingsMap": {},
     "title": ""
    }
   },
   "source": [
    "### Build a Airline Customer Service Agent with DSPy\n",
    "\n",
    "Let's build a simple airline customer service agent that helps user automatically manage the flight booking, which can do the following:\n",
    "\n",
    "- Booking new trips.\n",
    "- Modify existing trips, including flight change and cancellation. \n",
    "\n",
    "To build this agent, we need to interact with the following tools:\n",
    "\n",
    "- `fetch_flight_info`: get flight information for certain dates. \n",
    "- `fetch_itinerary`: get the information about booked itinerary. \n",
    "- `book_itinerary`: book a flight on behalf of the user.\n",
    "- `modify_itinerary`: modify the iternary, either flight change or cancellation.\n",
    "- `get_user_info`: get users' information.\n",
    "- `file_ticket`: file a backlog ticket to have human assist. \n",
    "\n",
    "Let's define the tools. "
   ]
  },
  {
   "cell_type": "code",
   "execution_count": 0,
   "metadata": {
    "application/vnd.databricks.v1+cell": {
     "cellMetadata": {
      "byteLimit": 2048000,
      "rowLimit": 10000
     },
     "inputWidgets": {},
     "nuid": "1f6880ee-c45a-4ca4-97a2-325933d245bf",
     "showTitle": false,
     "tableResultSettingsMap": {},
     "title": ""
    }
   },
   "outputs": [],
   "source": [
    "from pydantic import BaseModel\n",
    "\n",
    "class Date(BaseModel):\n",
    "    # Somehow LLM is bad at specifying `datetime.datetime`\n",
    "    year: int\n",
    "    month: int\n",
    "    day: int\n",
    "    hour: int\n",
    "\n",
    "class UserProfile(BaseModel):\n",
    "    user_id: str\n",
    "    name: str\n",
    "    email: str\n",
    "\n",
    "class Flight(BaseModel):\n",
    "    flight_id: str\n",
    "    date_time: Date\n",
    "    origin: str\n",
    "    destination: str\n",
    "    duration: float\n",
    "    price: float\n",
    "\n",
    "class Itinerary(BaseModel):\n",
    "    confirmation_number: str\n",
    "    user_profile: UserProfile\n",
    "    flight: Flight\n",
    "\n",
    "class Ticket(BaseModel):\n",
    "    user_request: str\n",
    "    user_profile: UserProfile\n"
   ]
  },
  {
   "cell_type": "markdown",
   "metadata": {
    "application/vnd.databricks.v1+cell": {
     "cellMetadata": {},
     "inputWidgets": {},
     "nuid": "404ce0c2-50de-4046-9505-3e8734849845",
     "showTitle": false,
     "tableResultSettingsMap": {},
     "title": ""
    }
   },
   "source": [
    "Let's make a few fake data for the demo."
   ]
  },
  {
   "cell_type": "code",
   "execution_count": 0,
   "metadata": {
    "application/vnd.databricks.v1+cell": {
     "cellMetadata": {
      "byteLimit": 2048000,
      "rowLimit": 10000
     },
     "inputWidgets": {},
     "nuid": "d9ab6321-6e1c-4143-8f48-a71a99f67719",
     "showTitle": false,
     "tableResultSettingsMap": {},
     "title": ""
    }
   },
   "outputs": [],
   "source": [
    "user_database = {\n",
    "    \"Adam\": UserProfile(user_id=\"1\", name=\"Adam\", email=\"adam@gmail.com\"),\n",
    "    \"Bob\": UserProfile(user_id=\"2\", name=\"Bob\", email=\"bob@gmail.com\"),\n",
    "    \"Chelsie\": UserProfile(user_id=\"3\", name=\"Chelsie\", email=\"chelsie@gmail.com\"),\n",
    "    \"David\": UserProfile(user_id=\"4\", name=\"David\", email=\"david@gmail.com\"),\n",
    "}\n",
    "\n",
    "flight_database = {\n",
    "    \"DA123\": Flight(\n",
    "        flight_id=\"DA123\",\n",
    "        origin=\"SFO\",\n",
    "        destination=\"JFK\",\n",
    "        date_time=Date(year=2025, month=9, day=1, hour=1),\n",
    "        duration=3,\n",
    "        price=200,\n",
    "    ),\n",
    "    \"DA125\": Flight(\n",
    "        flight_id=\"DA125\",\n",
    "        origin=\"SFO\",\n",
    "        destination=\"JFK\",\n",
    "        date_time=Date(year=2025, month=9, day=1, hour=7),\n",
    "        duration=9,\n",
    "        price=500,\n",
    "    ),\n",
    "    \"DA456\": Flight(\n",
    "        flight_id=\"DA456\",\n",
    "        origin=\"SFO\",\n",
    "        destination=\"SNA\",\n",
    "        date_time=Date(year=2025, month=10, day=1, hour=1),\n",
    "        duration=2,\n",
    "        price=100,\n",
    "    ),\n",
    "    \"DA460\": Flight(\n",
    "        flight_id=\"DA460\",\n",
    "        origin=\"SFO\",\n",
    "        destination=\"SNA\",\n",
    "        date_time=Date(year=2025, month=10, day=1, hour=9),\n",
    "        duration=2,\n",
    "        price=120,\n",
    "    ),\n",
    "}\n",
    "\n",
    "itinery_database = {}\n",
    "ticket_database = {}"
   ]
  },
  {
   "cell_type": "markdown",
   "metadata": {
    "application/vnd.databricks.v1+cell": {
     "cellMetadata": {},
     "inputWidgets": {},
     "nuid": "fafb53bf-b63b-4789-9d61-818e17cb28a6",
     "showTitle": false,
     "tableResultSettingsMap": {},
     "title": ""
    }
   },
   "source": [
    "Now let's define the tools."
   ]
  },
  {
   "cell_type": "code",
   "execution_count": 0,
   "metadata": {
    "application/vnd.databricks.v1+cell": {
     "cellMetadata": {
      "byteLimit": 2048000,
      "rowLimit": 10000
     },
     "inputWidgets": {},
     "nuid": "dd7ad249-fcf0-4c90-be87-c833339e3d6b",
     "showTitle": false,
     "tableResultSettingsMap": {},
     "title": ""
    }
   },
   "outputs": [],
   "source": [
    "import random\n",
    "import string\n",
    "\n",
    "\n",
    "def fetch_flight_info(date: Date, origin: str, destination: str):\n",
    "    \"\"\"Fetch flight information from origin to destination on the given date\"\"\"\n",
    "    flights = []\n",
    "\n",
    "    for flight_id, flight in flight_database.items():\n",
    "        if (\n",
    "            flight.date_time.year == date.year\n",
    "            and flight.date_time.month == date.month\n",
    "            and flight.date_time.day == date.day\n",
    "            and flight.origin == origin\n",
    "            and flight.destination == destination\n",
    "        ):\n",
    "            flights.append(flight)\n",
    "    return flights\n",
    "\n",
    "\n",
    "def fetch_itinerary(confirmation_number: str):\n",
    "    \"\"\"Fetch a booked itinerary information from database\"\"\"\n",
    "    return itinery_database.get(confirmation_number)\n",
    "\n",
    "\n",
    "def pick_flight(flights: list[Flight]):\n",
    "    \"\"\"Pick up the best flight that matches users' request.\"\"\"\n",
    "    sorted_flights = sorted(\n",
    "        flights,\n",
    "        key=lambda x: (\n",
    "            x.get(\"duration\") if isinstance(x, dict) else x.duration,\n",
    "            x.get(\"price\") if isinstance(x, dict) else x.price,\n",
    "        ),\n",
    "    )\n",
    "    return sorted_flights[0]\n",
    "\n",
    "\n",
    "def generate_id(length=8):\n",
    "    chars = string.ascii_lowercase + string.digits\n",
    "    return \"\".join(random.choices(chars, k=length))\n",
    "\n",
    "\n",
    "def book_itinerary(flight: Flight, user_profile: UserProfile):\n",
    "    \"\"\"Book a flight on behalf of the user.\"\"\"\n",
    "    confirmation_number = generate_id()\n",
    "    while confirmation_number in itinery_database:\n",
    "        confirmation_number = generate_id()\n",
    "    itinery_database[confirmation_number] = Itinerary(\n",
    "        confirmation_number=confirmation_number,\n",
    "        user_profile=user_profile,\n",
    "        flight=flight,\n",
    "    )\n",
    "    return confirmation_number, itinery_database[confirmation_number]\n",
    "\n",
    "\n",
    "def cancel_itinerary(confirmation_number: str, user_profile: UserProfile):\n",
    "    \"\"\"Cancel an itinerary on behalf of the user.\"\"\"\n",
    "    if confirmation_number in itinery_database:\n",
    "        del itinery_database[confirmation_number]\n",
    "        return\n",
    "    raise ValueError(\"Cannot find the itinerary, please check your confirmation number.\")\n",
    "\n",
    "\n",
    "def get_user_info(name: str):\n",
    "    \"\"\"Fetch the user profile from database with given name.\"\"\"\n",
    "    return user_database.get(name)\n",
    "\n",
    "\n",
    "def file_ticket(user_request: str, user_profile: UserProfile):\n",
    "    \"\"\"File a customer support ticket if this is something the agent cannot handle.\"\"\"\n",
    "    ticket_id = generate_id(length=6)\n",
    "    ticket_database[ticket_id] = Ticket(\n",
    "        user_request=user_request,\n",
    "        user_profile=user_profile,\n",
    "    )\n",
    "    return ticket_id\n"
   ]
  },
  {
   "cell_type": "markdown",
   "metadata": {
    "application/vnd.databricks.v1+cell": {
     "cellMetadata": {},
     "inputWidgets": {},
     "nuid": "43597a70-033e-489e-8e22-404a74739163",
     "showTitle": false,
     "tableResultSettingsMap": {},
     "title": ""
    }
   },
   "source": [
    "The next step is to define the DSPy program, which takes in a user request, and return the process result. "
   ]
  },
  {
   "cell_type": "code",
   "execution_count": 0,
   "metadata": {
    "application/vnd.databricks.v1+cell": {
     "cellMetadata": {
      "byteLimit": 2048000,
      "rowLimit": 10000
     },
     "inputWidgets": {},
     "nuid": "a89035cc-fe08-4fa8-83a9-b3d1ba4a964b",
     "showTitle": false,
     "tableResultSettingsMap": {},
     "title": ""
    }
   },
   "outputs": [],
   "source": [
    "class DSPyAirlineCustomerSerice(dspy.Signature):\n",
    "    \"\"\"You are an airline customer service agent. You are given a list of tools to handle user request. You should decide the right tool to use in order to fullfil users' request.\"\"\"\n",
    "    user_request: str = dspy.InputField()\n",
    "    process_result: str = dspy.OutputField(desc=\"Message that summarizes the process result, and the information users need, e.g., the confirmation_number if it's a flight booking request.\")"
   ]
  },
  {
   "cell_type": "code",
   "execution_count": 0,
   "metadata": {
    "application/vnd.databricks.v1+cell": {
     "cellMetadata": {
      "byteLimit": 2048000,
      "rowLimit": 10000
     },
     "inputWidgets": {},
     "nuid": "d6f8e611-d2b6-4d98-b707-f21889a74673",
     "showTitle": false,
     "tableResultSettingsMap": {},
     "title": ""
    }
   },
   "outputs": [],
   "source": [
    "react = dspy.ReAct(\n",
    "    DSPyAirlineCustomerSerice,\n",
    "    tools = [\n",
    "        fetch_flight_info,\n",
    "        fetch_itinerary,\n",
    "        pick_flight,\n",
    "        book_itinerary,\n",
    "        cancel_itinerary,\n",
    "        get_user_info,\n",
    "        file_ticket,\n",
    "    ]\n",
    ")"
   ]
  },
  {
   "cell_type": "code",
   "execution_count": 0,
   "metadata": {
    "application/vnd.databricks.v1+cell": {
     "cellMetadata": {
      "byteLimit": 2048000,
      "rowLimit": 10000
     },
     "inputWidgets": {},
     "nuid": "7ef90a10-657c-422a-b021-404eced24fcc",
     "showTitle": false,
     "tableResultSettingsMap": {},
     "title": ""
    }
   },
   "outputs": [
    {
     "name": "stderr",
     "output_type": "stream",
     "text": [
      "INFO:httpx:HTTP Request: POST https://api.openai.com/v1/chat/completions \"HTTP/1.1 200 OK\"\n",
      "INFO:httpx:HTTP Request: POST https://api.openai.com/v1/chat/completions \"HTTP/1.1 200 OK\"\n",
      "INFO:httpx:HTTP Request: POST https://api.openai.com/v1/chat/completions \"HTTP/1.1 200 OK\"\n",
      "INFO:httpx:HTTP Request: POST https://api.openai.com/v1/chat/completions \"HTTP/1.1 200 OK\"\n"
     ]
    },
    {
     "data": {
      "application/databricks.mlflow.trace": "\"tr-eeff5fe411a3460b9fc6dc4f2584d9dd\"",
      "text/plain": [
       "Trace(request_id=tr-eeff5fe411a3460b9fc6dc4f2584d9dd)"
      ]
     },
     "metadata": {},
     "output_type": "display_data"
    }
   ],
   "source": [
    "result = react(user_request=\"please help me book a flight from SFO to JFK on 09/01/2025, my name is Adam\")"
   ]
  },
  {
   "cell_type": "markdown",
   "metadata": {
    "application/vnd.databricks.v1+cell": {
     "cellMetadata": {},
     "inputWidgets": {},
     "nuid": "ea2df422-1eee-440a-b8bb-faf7412a326c",
     "showTitle": false,
     "tableResultSettingsMap": {},
     "title": ""
    }
   },
   "source": [
    "## DSPy Magic - Automatic Program Optimization\n",
    "\n",
    "In this section, we will explore how to optimize our DSPy program with DSPy optimizer. "
   ]
  },
  {
   "cell_type": "code",
   "execution_count": 0,
   "metadata": {
    "application/vnd.databricks.v1+cell": {
     "cellMetadata": {
      "byteLimit": 2048000,
      "rowLimit": 10000
     },
     "inputWidgets": {},
     "nuid": "b6eb6649-a95b-443a-b01a-c22c0be25238",
     "showTitle": false,
     "tableResultSettingsMap": {},
     "title": ""
    }
   },
   "outputs": [],
   "source": [
    "os.environ[\"HF_DATASETS_CACHE\"] = \".\""
   ]
  },
  {
   "cell_type": "markdown",
   "metadata": {
    "application/vnd.databricks.v1+cell": {
     "cellMetadata": {},
     "inputWidgets": {},
     "nuid": "8f1f721a-0dae-4819-ac6f-3253ab2983c1",
     "showTitle": false,
     "tableResultSettingsMap": {},
     "title": ""
    }
   },
   "source": [
    "### Define the Evaluate Metrics\n",
    "\n",
    "Similar to training a machine learning model, we need to define a metric to represent how well our program functions. In this example, we are tackling a math Q&A task, and the metric we use is \"equivalence\", which means the LM generated answer is equivalent to the golden answer."
   ]
  },
  {
   "cell_type": "code",
   "execution_count": 0,
   "metadata": {
    "application/vnd.databricks.v1+cell": {
     "cellMetadata": {
      "byteLimit": 2048000,
      "rowLimit": 10000
     },
     "inputWidgets": {},
     "nuid": "5d8cf3cc-87df-4003-a0c6-b944262e8400",
     "showTitle": false,
     "tableResultSettingsMap": {},
     "title": ""
    }
   },
   "outputs": [],
   "source": [
    "def _fix_fracs(string):\n",
    "    substrs = string.split(\"\\\\frac\")\n",
    "    new_str = substrs[0]\n",
    "    if len(substrs) > 1:\n",
    "        substrs = substrs[1:]\n",
    "        for substr in substrs:\n",
    "            new_str += \"\\\\frac\"\n",
    "            if substr[0] == \"{\":\n",
    "                new_str += substr\n",
    "            else:\n",
    "                try:\n",
    "                    assert len(substr) >= 2\n",
    "                except:\n",
    "                    return string\n",
    "                a = substr[0]\n",
    "                b = substr[1]\n",
    "                if b != \"{\":\n",
    "                    if len(substr) > 2:\n",
    "                        post_substr = substr[2:]\n",
    "                        new_str += \"{\" + a + \"}{\" + b + \"}\" + post_substr\n",
    "                    else:\n",
    "                        new_str += \"{\" + a + \"}{\" + b + \"}\"\n",
    "                else:\n",
    "                    if len(substr) > 2:\n",
    "                        post_substr = substr[2:]\n",
    "                        new_str += \"{\" + a + \"}\" + b + post_substr\n",
    "                    else:\n",
    "                        new_str += \"{\" + a + \"}\" + b\n",
    "    string = new_str\n",
    "    return string\n",
    "\n",
    "\n",
    "def _fix_a_slash_b(string):\n",
    "    if len(string.split(\"/\")) != 2:\n",
    "        return string\n",
    "    a = string.split(\"/\")[0]\n",
    "    b = string.split(\"/\")[1]\n",
    "    try:\n",
    "        a = int(a)\n",
    "        b = int(b)\n",
    "        assert string == \"{}/{}\".format(a, b)\n",
    "        new_string = \"\\\\frac{\" + str(a) + \"}{\" + str(b) + \"}\"\n",
    "        return new_string\n",
    "    except:\n",
    "        return string\n",
    "\n",
    "\n",
    "def _remove_right_units(string):\n",
    "    # \"\\\\text{ \" only ever occurs (at least in the val set) when describing units\n",
    "    if \"\\\\text{ \" in string:\n",
    "        splits = string.split(\"\\\\text{ \")\n",
    "        assert len(splits) == 2\n",
    "        return splits[0]\n",
    "    else:\n",
    "        return string\n",
    "\n",
    "\n",
    "def _fix_sqrt(string):\n",
    "    if \"\\\\sqrt\" not in string:\n",
    "        return string\n",
    "    splits = string.split(\"\\\\sqrt\")\n",
    "    new_string = splits[0]\n",
    "    for split in splits[1:]:\n",
    "        if split[0] != \"{\":\n",
    "            a = split[0]\n",
    "            new_substr = \"\\\\sqrt{\" + a + \"}\" + split[1:]\n",
    "        else:\n",
    "            new_substr = \"\\\\sqrt\" + split\n",
    "        new_string += new_substr\n",
    "    return new_string\n",
    "\n",
    "\n",
    "def _strip_string(string):\n",
    "    # linebreaks\n",
    "    string = string.replace(\"\\n\", \"\")\n",
    "    # print(string)\n",
    "\n",
    "    # remove inverse spaces\n",
    "    string = string.replace(\"\\\\!\", \"\")\n",
    "    # print(string)\n",
    "\n",
    "    # replace \\\\ with \\\n",
    "    string = string.replace(\"\\\\\\\\\", \"\\\\\")\n",
    "    # print(string)\n",
    "\n",
    "    # replace tfrac and dfrac with frac\n",
    "    string = string.replace(\"tfrac\", \"frac\")\n",
    "    string = string.replace(\"dfrac\", \"frac\")\n",
    "    # print(string)\n",
    "\n",
    "    # remove \\left and \\right\n",
    "    string = string.replace(\"\\\\left\", \"\")\n",
    "    string = string.replace(\"\\\\right\", \"\")\n",
    "    # print(string)\n",
    "\n",
    "    # Remove circ (degrees)\n",
    "    string = string.replace(\"^{\\\\circ}\", \"\")\n",
    "    string = string.replace(\"^\\\\circ\", \"\")\n",
    "\n",
    "    # remove dollar signs\n",
    "    string = string.replace(\"\\\\$\", \"\")\n",
    "\n",
    "    # remove units (on the right)\n",
    "    string = _remove_right_units(string)\n",
    "\n",
    "    # remove percentage\n",
    "    string = string.replace(\"\\\\%\", \"\")\n",
    "    string = string.replace(\"\\%\", \"\")\n",
    "\n",
    "    # \" 0.\" equivalent to \" .\" and \"{0.\" equivalent to \"{.\" Alternatively, add \"0\" if \".\" is the start of the string\n",
    "    string = string.replace(\" .\", \" 0.\")\n",
    "    string = string.replace(\"{.\", \"{0.\")\n",
    "    # if empty, return empty string\n",
    "    if len(string) == 0:\n",
    "        return string\n",
    "    if string[0] == \".\":\n",
    "        string = \"0\" + string\n",
    "\n",
    "    # to consider: get rid of e.g. \"k = \" or \"q = \" at beginning\n",
    "    if len(string.split(\"=\")) == 2:\n",
    "        if len(string.split(\"=\")[0]) <= 2:\n",
    "            string = string.split(\"=\")[1]\n",
    "\n",
    "    # fix sqrt3 --> sqrt{3}\n",
    "    string = _fix_sqrt(string)\n",
    "\n",
    "    # remove spaces\n",
    "    string = string.replace(\" \", \"\")\n",
    "\n",
    "    # \\frac1b or \\frac12 --> \\frac{1}{b} and \\frac{1}{2}, etc. Even works with \\frac1{72} (but not \\frac{72}1). Also does a/b --> \\\\frac{a}{b}\n",
    "    string = _fix_fracs(string)\n",
    "\n",
    "    # manually change 0.5 --> \\frac{1}{2}\n",
    "    if string == \"0.5\":\n",
    "        string = \"\\\\frac{1}{2}\"\n",
    "\n",
    "    # NOTE: X/Y changed to \\frac{X}{Y} in dataset, but in simple cases fix in case the model output is X/Y\n",
    "    string = _fix_a_slash_b(string)\n",
    "\n",
    "    return string\n",
    "\n",
    "\n",
    "def is_equiv(str1, str2, verbose=False):\n",
    "    if str1 is None and str2 is None:\n",
    "        print(\"WARNING: Both None\")\n",
    "        return True\n",
    "    if str1 is None or str2 is None:\n",
    "        return False\n",
    "\n",
    "    try:\n",
    "        ss1 = _strip_string(str1)\n",
    "        ss2 = _strip_string(str2)\n",
    "        if verbose:\n",
    "            print(ss1, ss2)\n",
    "        return ss1 == ss2\n",
    "    except:\n",
    "        return str1 == str2\n",
    "\n",
    "\n",
    "def last_boxed_only_string(string):\n",
    "    idx = string.rfind(\"\\\\boxed\")\n",
    "    if idx < 0:\n",
    "        idx = string.rfind(\"\\\\fbox\")\n",
    "        if idx < 0:\n",
    "            return None\n",
    "\n",
    "    i = idx\n",
    "    right_brace_idx = None\n",
    "    num_left_braces_open = 0\n",
    "    while i < len(string):\n",
    "        if string[i] == \"{\":\n",
    "            num_left_braces_open += 1\n",
    "        if string[i] == \"}\":\n",
    "            num_left_braces_open -= 1\n",
    "            if num_left_braces_open == 0:\n",
    "                right_brace_idx = i\n",
    "                break\n",
    "        i += 1\n",
    "\n",
    "    if right_brace_idx == None:\n",
    "        retval = None\n",
    "    else:\n",
    "        retval = string[idx : right_brace_idx + 1]\n",
    "\n",
    "    return retval\n",
    "\n",
    "\n",
    "def remove_boxed(s):\n",
    "    left = \"\\\\boxed{\"\n",
    "    try:\n",
    "        assert s[: len(left)] == left\n",
    "        assert s[-1] == \"}\"\n",
    "        return s[len(left) : -1]\n",
    "    except:\n",
    "        return None\n",
    "\n",
    "\n",
    "def remove_format(s):\n",
    "    # remove \\(\\)\n",
    "    s = s.replace(\"\\\\(\", \"\")\n",
    "    s = s.replace(\"\\\\)\", \"\")\n",
    "    return s\n",
    "\n",
    "\n",
    "def math_evaluate(gold, pred, trace=None):\n",
    "    return is_equiv(\n",
    "        remove_boxed(last_boxed_only_string(gold.solution)),\n",
    "        remove_format(pred.answer),\n",
    "        verbose=False,\n",
    "    )"
   ]
  },
  {
   "cell_type": "markdown",
   "metadata": {
    "application/vnd.databricks.v1+cell": {
     "cellMetadata": {},
     "inputWidgets": {},
     "nuid": "5dddda4c-2f42-4f57-be0c-ee6b78d49048",
     "showTitle": false,
     "tableResultSettingsMap": {},
     "title": ""
    }
   },
   "source": [
    "### Convert the Dataset into a List of dspy.Example\n",
    "\n",
    "In order for the optimizer to work smoothly, it's recommended to convert each data record into a `dspy.Example`. "
   ]
  },
  {
   "cell_type": "code",
   "execution_count": 0,
   "metadata": {
    "application/vnd.databricks.v1+cell": {
     "cellMetadata": {
      "byteLimit": 2048000,
      "rowLimit": 10000
     },
     "inputWidgets": {},
     "nuid": "11f2f07d-4b1b-4df7-bb29-90283c5c108e",
     "showTitle": false,
     "tableResultSettingsMap": {},
     "title": ""
    }
   },
   "outputs": [
    {
     "name": "stderr",
     "output_type": "stream",
     "text": [
      "/databricks/python_shell/lib/dbruntime/huggingface_patches/datasets.py:49: UserWarning: The cache_dir for this dataset is ., which is not a persistent path.Therefore, if/when the cluster restarts, the downloaded dataset will be lost.The persistent storage options for this workspace/cluster config are: [UC Volumes].Please update either `cache_dir` or the environment variable `HF_DATASETS_CACHE`to be under one of the following root directories: ['/Volumes/']\n",
      "  warnings.warn(warning_message)\n",
      "/databricks/python_shell/lib/dbruntime/huggingface_patches/datasets.py:18: UserWarning: During large dataset downloads, there could be multiple progress bar widgets that can cause performance issues for your notebook or browser. To avoid these issues, use `datasets.utils.logging.disable_progress_bar()` to turn off the progress bars.\n",
      "  warnings.warn(\n"
     ]
    }
   ],
   "source": [
    "from datasets import load_dataset\n",
    "\n",
    "dataset_math = load_dataset(\"DigitalLearningGmbH/MATH-lighteval\", \"default\")\n",
    "math_train = [\n",
    "    dspy.Example(**x).with_inputs(\"problem\") for x in dataset_math[\"train\"]\n",
    "]\n",
    "math_val = [\n",
    "    dspy.Example(**x).with_inputs(\"problem\") for x in dataset_math[\"test\"]\n",
    "]"
   ]
  },
  {
   "cell_type": "code",
   "execution_count": 0,
   "metadata": {
    "application/vnd.databricks.v1+cell": {
     "cellMetadata": {
      "byteLimit": 2048000,
      "rowLimit": 10000
     },
     "inputWidgets": {},
     "nuid": "c58295a9-bd98-44b0-b5eb-5613704acee1",
     "showTitle": false,
     "tableResultSettingsMap": {},
     "title": ""
    }
   },
   "outputs": [],
   "source": [
    "math_program = dspy.ChainOfThought(\"problem->answer\")"
   ]
  },
  {
   "cell_type": "markdown",
   "metadata": {
    "application/vnd.databricks.v1+cell": {
     "cellMetadata": {},
     "inputWidgets": {},
     "nuid": "0cb2ebad-d286-4504-af56-bb04293dbce4",
     "showTitle": false,
     "tableResultSettingsMap": {},
     "title": ""
    }
   },
   "source": [
    "### Track Optimization with MLflow\n",
    "\n",
    "We can track DSPy optimization process with mlflow autologging, to enable it, we need to configure a few flags."
   ]
  },
  {
   "cell_type": "code",
   "execution_count": 0,
   "metadata": {
    "application/vnd.databricks.v1+cell": {
     "cellMetadata": {
      "byteLimit": 2048000,
      "rowLimit": 10000
     },
     "inputWidgets": {},
     "nuid": "8ba128be-a870-4504-b09a-82cfbe4c4a07",
     "showTitle": false,
     "tableResultSettingsMap": {},
     "title": ""
    }
   },
   "outputs": [],
   "source": [
    "import mlflow\n",
    "\n",
    "mlflow.dspy.autolog(log_evals=True, log_compiles=True, log_traces_from_compile=True)"
   ]
  },
  {
   "cell_type": "code",
   "execution_count": 0,
   "metadata": {
    "application/vnd.databricks.v1+cell": {
     "cellMetadata": {
      "byteLimit": 2048000,
      "rowLimit": 10000
     },
     "inputWidgets": {},
     "nuid": "912d6e80-b71c-4879-b168-e86dfb7f1862",
     "showTitle": false,
     "tableResultSettingsMap": {},
     "title": ""
    }
   },
   "outputs": [],
   "source": [
    "from dspy.evaluate import Evaluate\n",
    "\n",
    "math_evaluator = Evaluate(devset=math_val[:100], num_threads=10, display_progress=True, display_table=20)"
   ]
  },
  {
   "cell_type": "code",
   "execution_count": 0,
   "metadata": {
    "application/vnd.databricks.v1+cell": {
     "cellMetadata": {
      "byteLimit": 2048000,
      "rowLimit": 10000
     },
     "inputWidgets": {},
     "nuid": "fe7084eb-1dc5-4646-9e4d-56effbfab109",
     "showTitle": false,
     "tableResultSettingsMap": {},
     "title": ""
    }
   },
   "outputs": [
    {
     "name": "stdout",
     "output_type": "stream",
     "text": [
      "\r  0%|          | 0/100 [00:00<?, ?it/s]\rAverage Metric: 1.00 / 1 (100.0%):   0%|          | 0/100 [00:00<?, ?it/s]\rAverage Metric: 1.00 / 1 (100.0%):   1%|          | 1/100 [00:00<00:39,  2.48it/s]\rAverage Metric: 2.00 / 2 (100.0%):   1%|          | 1/100 [00:00<00:39,  2.48it/s]\rAverage Metric: 2.00 / 3 (66.7%):   2%|▏         | 2/100 [00:00<00:39,  2.48it/s] \rAverage Metric: 3.00 / 4 (75.0%):   3%|▎         | 3/100 [00:00<00:39,  2.48it/s]\rAverage Metric: 4.00 / 5 (80.0%):   4%|▍         | 4/100 [00:00<00:38,  2.48it/s]\rAverage Metric: 4.00 / 6 (66.7%):   5%|▌         | 5/100 [00:00<00:38,  2.48it/s]\rAverage Metric: 5.00 / 7 (71.4%):   6%|▌         | 6/100 [00:00<00:37,  2.48it/s]\rAverage Metric: 6.00 / 8 (75.0%):   7%|▋         | 7/100 [00:01<00:37,  2.48it/s]\rAverage Metric: 6.00 / 8 (75.0%):   8%|▊         | 8/100 [00:01<00:20,  4.55it/s]\rAverage Metric: 7.00 / 9 (77.8%):   8%|▊         | 8/100 [00:01<00:20,  4.55it/s]\rAverage Metric: 7.00 / 10 (70.0%):   9%|▉         | 9/100 [00:01<00:19,  4.55it/s]\rAverage Metric: 8.00 / 11 (72.7%):  10%|█         | 10/100 [00:02<00:19,  4.55it/s]\rAverage Metric: 8.00 / 11 (72.7%):  11%|█         | 11/100 [00:02<00:15,  5.69it/s]\rAverage Metric: 9.00 / 12 (75.0%):  11%|█         | 11/100 [00:02<00:15,  5.69it/s]\rAverage Metric: 9.00 / 13 (69.2%):  12%|█▏        | 12/100 [00:02<00:15,  5.69it/s]\rAverage Metric: 10.00 / 14 (71.4%):  13%|█▎        | 13/100 [00:02<00:15,  5.69it/s]\rAverage Metric: 11.00 / 15 (73.3%):  14%|█▍        | 14/100 [00:02<00:15,  5.69it/s]\rAverage Metric: 11.00 / 15 (73.3%):  15%|█▌        | 15/100 [00:02<00:09,  8.56it/s]\rAverage Metric: 12.00 / 16 (75.0%):  15%|█▌        | 15/100 [00:02<00:09,  8.56it/s]\rAverage Metric: 12.00 / 17 (70.6%):  16%|█▌        | 16/100 [00:03<00:09,  8.56it/s]\rAverage Metric: 12.00 / 17 (70.6%):  17%|█▋        | 17/100 [00:03<00:21,  3.80it/s]\rAverage Metric: 13.00 / 18 (72.2%):  17%|█▋        | 17/100 [00:03<00:21,  3.80it/s]\rAverage Metric: 14.00 / 19 (73.7%):  18%|█▊        | 18/100 [00:04<00:21,  3.80it/s]\rAverage Metric: 14.00 / 19 (73.7%):  19%|█▉        | 19/100 [00:04<00:19,  4.21it/s]\rAverage Metric: 14.00 / 20 (70.0%):  19%|█▉        | 19/100 [00:04<00:19,  4.21it/s]\rAverage Metric: 14.00 / 20 (70.0%):  20%|██        | 20/100 [00:04<00:19,  4.01it/s]\rAverage Metric: 15.00 / 21 (71.4%):  20%|██        | 20/100 [00:04<00:19,  4.01it/s]\rAverage Metric: 16.00 / 22 (72.7%):  21%|██        | 21/100 [00:04<00:19,  4.01it/s]\rAverage Metric: 16.00 / 22 (72.7%):  22%|██▏       | 22/100 [00:04<00:15,  5.04it/s]\rAverage Metric: 17.00 / 23 (73.9%):  22%|██▏       | 22/100 [00:04<00:15,  5.04it/s]\rAverage Metric: 17.00 / 23 (73.9%):  23%|██▎       | 23/100 [00:04<00:14,  5.36it/s]\rAverage Metric: 18.00 / 24 (75.0%):  23%|██▎       | 23/100 [00:04<00:14,  5.36it/s]\rAverage Metric: 19.00 / 25 (76.0%):  24%|██▍       | 24/100 [00:04<00:14,  5.36it/s]\rAverage Metric: 20.00 / 26 (76.9%):  25%|██▌       | 25/100 [00:04<00:14,  5.36it/s]\rAverage Metric: 20.00 / 26 (76.9%):  26%|██▌       | 26/100 [00:04<00:10,  7.35it/s]\rAverage Metric: 21.00 / 27 (77.8%):  26%|██▌       | 26/100 [00:04<00:10,  7.35it/s]\rAverage Metric: 22.00 / 28 (78.6%):  27%|██▋       | 27/100 [00:05<00:09,  7.35it/s]\rAverage Metric: 22.00 / 28 (78.6%):  28%|██▊       | 28/100 [00:05<00:08,  8.38it/s]\rAverage Metric: 22.00 / 29 (75.9%):  28%|██▊       | 28/100 [00:05<00:08,  8.38it/s]\rAverage Metric: 22.00 / 30 (73.3%):  29%|██▉       | 29/100 [00:05<00:08,  8.38it/s]\rAverage Metric: 23.00 / 31 (74.2%):  30%|███       | 30/100 [00:05<00:08,  8.38it/s]\rAverage Metric: 23.00 / 31 (74.2%):  31%|███       | 31/100 [00:05<00:06, 10.86it/s]\rAverage Metric: 23.00 / 32 (71.9%):  31%|███       | 31/100 [00:05<00:06, 10.86it/s]\rAverage Metric: 24.00 / 33 (72.7%):  32%|███▏      | 32/100 [00:06<00:06, 10.86it/s]\rAverage Metric: 24.00 / 33 (72.7%):  33%|███▎      | 33/100 [00:06<00:19,  3.39it/s]\rAverage Metric: 25.00 / 34 (73.5%):  33%|███▎      | 33/100 [00:07<00:19,  3.39it/s]\rAverage Metric: 26.00 / 35 (74.3%):  34%|███▍      | 34/100 [00:07<00:19,  3.39it/s]\rAverage Metric: 26.00 / 35 (74.3%):  35%|███▌      | 35/100 [00:07<00:18,  3.59it/s]\rAverage Metric: 27.00 / 36 (75.0%):  35%|███▌      | 35/100 [00:07<00:18,  3.59it/s]\rAverage Metric: 27.00 / 36 (75.0%):  36%|███▌      | 36/100 [00:07<00:16,  3.89it/s]\rAverage Metric: 28.00 / 37 (75.7%):  36%|███▌      | 36/100 [00:07<00:16,  3.89it/s]\rAverage Metric: 28.00 / 37 (75.7%):  37%|███▋      | 37/100 [00:07<00:14,  4.21it/s]\rAverage Metric: 29.00 / 38 (76.3%):  37%|███▋      | 37/100 [00:07<00:14,  4.21it/s]\rAverage Metric: 29.00 / 38 (76.3%):  38%|███▊      | 38/100 [00:07<00:13,  4.55it/s]\rAverage Metric: 29.00 / 39 (74.4%):  38%|███▊      | 38/100 [00:07<00:13,  4.55it/s]\rAverage Metric: 30.00 / 40 (75.0%):  39%|███▉      | 39/100 [00:08<00:13,  4.55it/s]\rAverage Metric: 30.00 / 40 (75.0%):  40%|████      | 40/100 [00:08<00:10,  5.70it/s]\rAverage Metric: 31.00 / 41 (75.6%):  40%|████      | 40/100 [00:08<00:10,  5.70it/s]\rAverage Metric: 32.00 / 42 (76.2%):  41%|████      | 41/100 [00:08<00:10,  5.70it/s]\rAverage Metric: 32.00 / 42 (76.2%):  42%|████▏     | 42/100 [00:08<00:08,  7.13it/s]\rAverage Metric: 32.00 / 43 (74.4%):  42%|████▏     | 42/100 [00:08<00:08,  7.13it/s]\rAverage Metric: 33.00 / 44 (75.0%):  43%|████▎     | 43/100 [00:08<00:07,  7.13it/s]\rAverage Metric: 33.00 / 44 (75.0%):  44%|████▍     | 44/100 [00:08<00:06,  8.57it/s]\rAverage Metric: 33.00 / 45 (73.3%):  44%|████▍     | 44/100 [00:08<00:06,  8.57it/s]\rAverage Metric: 33.00 / 46 (71.7%):  45%|████▌     | 45/100 [00:08<00:06,  8.57it/s]\rAverage Metric: 33.00 / 46 (71.7%):  46%|████▌     | 46/100 [00:08<00:09,  5.47it/s]\rAverage Metric: 34.00 / 47 (72.3%):  46%|████▌     | 46/100 [00:09<00:09,  5.47it/s]\rAverage Metric: 34.00 / 47 (72.3%):  47%|████▋     | 47/100 [00:09<00:14,  3.67it/s]\rAverage Metric: 35.00 / 48 (72.9%):  47%|████▋     | 47/100 [00:09<00:14,  3.67it/s]\rAverage Metric: 36.00 / 49 (73.5%):  48%|████▊     | 48/100 [00:09<00:14,  3.67it/s]\rAverage Metric: 36.00 / 49 (73.5%):  49%|████▉     | 49/100 [00:09<00:12,  4.09it/s]\rAverage Metric: 37.00 / 50 (74.0%):  49%|████▉     | 49/100 [00:10<00:12,  4.09it/s]\rAverage Metric: 38.00 / 51 (74.5%):  50%|█████     | 50/100 [00:10<00:12,  4.09it/s]\rAverage Metric: 38.00 / 51 (74.5%):  51%|█████     | 51/100 [00:10<00:09,  5.03it/s]\rAverage Metric: 39.00 / 52 (75.0%):  51%|█████     | 51/100 [00:10<00:09,  5.03it/s]\rAverage Metric: 39.00 / 52 (75.0%):  52%|█████▏    | 52/100 [00:10<00:08,  5.35it/s]\rAverage Metric: 40.00 / 53 (75.5%):  52%|█████▏    | 52/100 [00:10<00:08,  5.35it/s]\rAverage Metric: 40.00 / 53 (75.5%):  53%|█████▎    | 53/100 [00:10<00:07,  5.94it/s]\rAverage Metric: 41.00 / 54 (75.9%):  53%|█████▎    | 53/100 [00:10<00:07,  5.94it/s]\rAverage Metric: 42.00 / 55 (76.4%):  54%|█████▍    | 54/100 [00:10<00:07,  5.94it/s]\rAverage Metric: 43.00 / 56 (76.8%):  55%|█████▌    | 55/100 [00:10<00:07,  5.94it/s]\rAverage Metric: 43.00 / 56 (76.8%):  56%|█████▌    | 56/100 [00:10<00:07,  6.17it/s]\rAverage Metric: 44.00 / 57 (77.2%):  56%|█████▌    | 56/100 [00:11<00:07,  6.17it/s]\rAverage Metric: 44.00 / 57 (77.2%):  57%|█████▋    | 57/100 [00:11<00:08,  5.35it/s]\rAverage Metric: 45.00 / 58 (77.6%):  57%|█████▋    | 57/100 [00:12<00:08,  5.35it/s]\rAverage Metric: 45.00 / 58 (77.6%):  58%|█████▊    | 58/100 [00:12<00:13,  3.17it/s]\rAverage Metric: 46.00 / 59 (78.0%):  58%|█████▊    | 58/100 [00:12<00:13,  3.17it/s]\rAverage Metric: 46.00 / 59 (78.0%):  59%|█████▉    | 59/100 [00:12<00:11,  3.63it/s]\rAverage Metric: 47.00 / 60 (78.3%):  59%|█████▉    | 59/100 [00:12<00:11,  3.63it/s]\rAverage Metric: 47.00 / 60 (78.3%):  60%|██████    | 60/100 [00:12<00:09,  4.31it/s]\rAverage Metric: 47.00 / 61 (77.0%):  60%|██████    | 60/100 [00:12<00:09,  4.31it/s]\rAverage Metric: 47.00 / 62 (75.8%):  61%|██████    | 61/100 [00:12<00:09,  4.31it/s]\rAverage Metric: 47.00 / 62 (75.8%):  62%|██████▏   | 62/100 [00:12<00:06,  5.61it/s]\rAverage Metric: 48.00 / 63 (76.2%):  62%|██████▏   | 62/100 [00:12<00:06,  5.61it/s]\rAverage Metric: 49.00 / 64 (76.6%):  63%|██████▎   | 63/100 [00:12<00:06,  5.61it/s]\rAverage Metric: 49.00 / 64 (76.6%):  64%|██████▍   | 64/100 [00:12<00:04,  7.62it/s]\rAverage Metric: 49.00 / 65 (75.4%):  64%|██████▍   | 64/100 [00:14<00:04,  7.62it/s]\rAverage Metric: 50.00 / 66 (75.8%):  65%|██████▌   | 65/100 [00:14<00:04,  7.62it/s]\rAverage Metric: 50.00 / 66 (75.8%):  66%|██████▌   | 66/100 [00:14<00:12,  2.79it/s]\rAverage Metric: 51.00 / 67 (76.1%):  66%|██████▌   | 66/100 [00:14<00:12,  2.79it/s]\rAverage Metric: 51.00 / 67 (76.1%):  67%|██████▋   | 67/100 [00:14<00:10,  3.02it/s]\rAverage Metric: 52.00 / 68 (76.5%):  67%|██████▋   | 67/100 [00:14<00:10,  3.02it/s]\rAverage Metric: 53.00 / 69 (76.8%):  68%|██████▊   | 68/100 [00:14<00:10,  3.02it/s]\rAverage Metric: 54.00 / 70 (77.1%):  69%|██████▉   | 69/100 [00:14<00:10,  3.02it/s]\rAverage Metric: 54.00 / 70 (77.1%):  70%|███████   | 70/100 [00:14<00:06,  4.45it/s]\rAverage Metric: 55.00 / 71 (77.5%):  70%|███████   | 70/100 [00:15<00:06,  4.45it/s]\rAverage Metric: 55.00 / 71 (77.5%):  71%|███████   | 71/100 [00:15<00:07,  4.04it/s]\rAverage Metric: 56.00 / 72 (77.8%):  71%|███████   | 71/100 [00:15<00:07,  4.04it/s]\rAverage Metric: 56.00 / 72 (77.8%):  72%|███████▏  | 72/100 [00:15<00:07,  3.62it/s]\rAverage Metric: 57.00 / 73 (78.1%):  72%|███████▏  | 72/100 [00:15<00:07,  3.62it/s]\rAverage Metric: 58.00 / 74 (78.4%):  73%|███████▎  | 73/100 [00:15<00:07,  3.62it/s]\rAverage Metric: 58.00 / 74 (78.4%):  74%|███████▍  | 74/100 [00:15<00:06,  3.98it/s]\rAverage Metric: 59.00 / 75 (78.7%):  74%|███████▍  | 74/100 [00:15<00:06,  3.98it/s]\rAverage Metric: 60.00 / 76 (78.9%):  75%|███████▌  | 75/100 [00:15<00:06,  3.98it/s]\rAverage Metric: 61.00 / 77 (79.2%):  76%|███████▌  | 76/100 [00:15<00:06,  3.98it/s]\rAverage Metric: 62.00 / 78 (79.5%):  77%|███████▋  | 77/100 [00:15<00:05,  3.98it/s]\rAverage Metric: 62.00 / 78 (79.5%):  78%|███████▊  | 78/100 [00:15<00:03,  7.11it/s]\rAverage Metric: 63.00 / 79 (79.7%):  78%|███████▊  | 78/100 [00:16<00:03,  7.11it/s]\rAverage Metric: 63.00 / 80 (78.8%):  79%|███████▉  | 79/100 [00:16<00:02,  7.11it/s]\rAverage Metric: 63.00 / 80 (78.8%):  80%|████████  | 80/100 [00:16<00:02,  7.52it/s]\rAverage Metric: 64.00 / 81 (79.0%):  80%|████████  | 80/100 [00:16<00:02,  7.52it/s]\rAverage Metric: 65.00 / 82 (79.3%):  81%|████████  | 81/100 [00:16<00:02,  7.52it/s]\rAverage Metric: 66.00 / 83 (79.5%):  82%|████████▏ | 82/100 [00:16<00:02,  7.52it/s]\rAverage Metric: 67.00 / 84 (79.8%):  83%|████████▎ | 83/100 [00:16<00:02,  7.52it/s]\rAverage Metric: 67.00 / 84 (79.8%):  84%|████████▍ | 84/100 [00:16<00:01, 11.36it/s]\rAverage Metric: 68.00 / 85 (80.0%):  84%|████████▍ | 84/100 [00:17<00:01, 11.36it/s]\rAverage Metric: 69.00 / 86 (80.2%):  85%|████████▌ | 85/100 [00:17<00:01, 11.36it/s]\rAverage Metric: 69.00 / 86 (80.2%):  86%|████████▌ | 86/100 [00:17<00:03,  4.20it/s]\rAverage Metric: 70.00 / 87 (80.5%):  86%|████████▌ | 86/100 [00:17<00:03,  4.20it/s]\rAverage Metric: 71.00 / 88 (80.7%):  87%|████████▋ | 87/100 [00:17<00:03,  4.20it/s]\rAverage Metric: 71.00 / 88 (80.7%):  88%|████████▊ | 88/100 [00:17<00:02,  4.91it/s]\rAverage Metric: 72.00 / 89 (80.9%):  88%|████████▊ | 88/100 [00:18<00:02,  4.91it/s]\rAverage Metric: 72.00 / 90 (80.0%):  89%|████████▉ | 89/100 [00:18<00:02,  4.91it/s]\rAverage Metric: 72.00 / 90 (80.0%):  90%|█████████ | 90/100 [00:18<00:01,  5.89it/s]\rAverage Metric: 72.00 / 91 (79.1%):  90%|█████████ | 90/100 [00:18<00:01,  5.89it/s]\rAverage Metric: 73.00 / 92 (79.3%):  91%|█████████ | 91/100 [00:18<00:01,  5.89it/s]\rAverage Metric: 73.00 / 92 (79.3%):  92%|█████████▏| 92/100 [00:18<00:01,  6.19it/s]\rAverage Metric: 74.00 / 93 (79.6%):  92%|█████████▏| 92/100 [00:18<00:01,  6.19it/s]\rAverage Metric: 75.00 / 94 (79.8%):  93%|█████████▎| 93/100 [00:18<00:01,  6.19it/s]\rAverage Metric: 75.00 / 94 (79.8%):  94%|█████████▍| 94/100 [00:18<00:01,  4.94it/s]\rAverage Metric: 76.00 / 95 (80.0%):  94%|█████████▍| 94/100 [00:19<00:01,  4.94it/s]\rAverage Metric: 76.00 / 95 (80.0%):  95%|█████████▌| 95/100 [00:19<00:01,  4.43it/s]\rAverage Metric: 77.00 / 96 (80.2%):  95%|█████████▌| 95/100 [00:19<00:01,  4.43it/s]\rAverage Metric: 77.00 / 96 (80.2%):  96%|█████████▌| 96/100 [00:19<00:01,  3.70it/s]\rAverage Metric: 78.00 / 97 (80.4%):  96%|█████████▌| 96/100 [00:20<00:01,  3.70it/s]\rAverage Metric: 78.00 / 97 (80.4%):  97%|█████████▋| 97/100 [00:20<00:00,  3.73it/s]\rAverage Metric: 79.00 / 98 (80.6%):  97%|█████████▋| 97/100 [00:20<00:00,  3.73it/s]\rAverage Metric: 79.00 / 98 (80.6%):  98%|█████████▊| 98/100 [00:20<00:00,  3.84it/s]\rAverage Metric: 80.00 / 99 (80.8%):  98%|█████████▊| 98/100 [00:20<00:00,  3.84it/s]\rAverage Metric: 80.00 / 100 (80.0%):  99%|█████████▉| 99/100 [00:21<00:00,  3.84it/s]\rAverage Metric: 80.00 / 100 (80.0%): 100%|██████████| 100/100 [00:21<00:00,  3.30it/s]\rAverage Metric: 80.00 / 100 (80.0%): 100%|██████████| 100/100 [00:21<00:00,  4.76it/s]"
     ]
    },
    {
     "name": "stderr",
     "output_type": "stream",
     "text": [
      "2025/04/22 22:22:48 INFO dspy.evaluate.evaluate: Average Metric: 80 / 100 (80.0%)\n",
      "INFO:py4j.clientserver:Closing down clientserver connection\n",
      "INFO:py4j.clientserver:Closing down clientserver connection\n",
      "INFO:py4j.clientserver:Closing down clientserver connection\n",
      "INFO:py4j.clientserver:Closing down clientserver connection\n"
     ]
    },
    {
     "name": "stdout",
     "output_type": "stream",
     "text": [
      "\n"
     ]
    },
    {
     "name": "stderr",
     "output_type": "stream",
     "text": [
      "INFO:py4j.clientserver:Closing down clientserver connection\n",
      "INFO:py4j.clientserver:Closing down clientserver connection\n"
     ]
    },
    {
     "data": {
      "text/html": [
       "<div>\n",
       "<style scoped>\n",
       "    .dataframe tbody tr th:only-of-type {\n",
       "        vertical-align: middle;\n",
       "    }\n",
       "\n",
       "    .dataframe tbody tr th {\n",
       "        vertical-align: top;\n",
       "    }\n",
       "\n",
       "    .dataframe thead th {\n",
       "        text-align: right;\n",
       "    }\n",
       "</style>\n",
       "<table border=\"1\" class=\"dataframe\">\n",
       "  <thead>\n",
       "    <tr style=\"text-align: right;\">\n",
       "      <th></th>\n",
       "      <th>problem</th>\n",
       "      <th>level</th>\n",
       "      <th>solution</th>\n",
       "      <th>type</th>\n",
       "      <th>reasoning</th>\n",
       "      <th>answer</th>\n",
       "      <th>math_evaluate</th>\n",
       "    </tr>\n",
       "  </thead>\n",
       "  <tbody>\n",
       "    <tr>\n",
       "      <th>0</th>\n",
       "      <td>How many vertical asymptotes does the graph of $y=\\frac{2}{x^2+x-6...</td>\n",
       "      <td>Level 3</td>\n",
       "      <td>The denominator of the rational function factors into $x^2+x-6=(x-...</td>\n",
       "      <td>Algebra</td>\n",
       "      <td>To find the vertical asymptotes of the function \\( y = \\frac{2}{x^...</td>\n",
       "      <td>2</td>\n",
       "      <td>✔️ [True]</td>\n",
       "    </tr>\n",
       "    <tr>\n",
       "      <th>1</th>\n",
       "      <td>What is the positive difference between $120\\%$ of 30 and $130\\%$ ...</td>\n",
       "      <td>Level 1</td>\n",
       "      <td>One hundred twenty percent of 30 is $120\\cdot30\\cdot\\frac{1}{100}=...</td>\n",
       "      <td>Algebra</td>\n",
       "      <td>To find the positive difference between $120\\%$ of 30 and $130\\%$ ...</td>\n",
       "      <td>10</td>\n",
       "      <td>✔️ [True]</td>\n",
       "    </tr>\n",
       "    <tr>\n",
       "      <th>2</th>\n",
       "      <td>Find $x$ such that $\\lceil x \\rceil + x = \\dfrac{23}{7}$. Express ...</td>\n",
       "      <td>Level 4</td>\n",
       "      <td>First, we note that $x$ must be positive, since otherwise $\\lceil ...</td>\n",
       "      <td>Algebra</td>\n",
       "      <td>Let \\( x = n + f \\) where \\( n = \\lfloor x \\rfloor \\) (the greates...</td>\n",
       "      <td>\\frac{2}{7}</td>\n",
       "      <td></td>\n",
       "    </tr>\n",
       "    <tr>\n",
       "      <th>3</th>\n",
       "      <td>Evaluate $i^5+i^{-25}+i^{45}$.</td>\n",
       "      <td>Level 5</td>\n",
       "      <td>We have $i^5 = i^4\\cdot i = 1\\cdot (i) = i$. We also have $i^{-25}...</td>\n",
       "      <td>Algebra</td>\n",
       "      <td>To evaluate the expression $i^5 + i^{-25} + i^{45}$, we first need...</td>\n",
       "      <td>i</td>\n",
       "      <td>✔️ [True]</td>\n",
       "    </tr>\n",
       "    <tr>\n",
       "      <th>4</th>\n",
       "      <td>If $2^8=4^x$, what is the value of $x$?</td>\n",
       "      <td>Level 1</td>\n",
       "      <td>Rewrite $4$ as $2^2$ to find $4^x=2^{2x}$.  Since $2^8=2^{2x}$, we...</td>\n",
       "      <td>Algebra</td>\n",
       "      <td>To solve the equation \\(2^8 = 4^x\\), we can express \\(4\\) in terms...</td>\n",
       "      <td>4</td>\n",
       "      <td>✔️ [True]</td>\n",
       "    </tr>\n",
       "    <tr>\n",
       "      <th>5</th>\n",
       "      <td>What is the 100th term of the arithmetic sequence 6, 10, 14, 18, ...?</td>\n",
       "      <td>Level 2</td>\n",
       "      <td>The common difference is $10 - 6 = 4$, so the 100th term is $6+99\\...</td>\n",
       "      <td>Algebra</td>\n",
       "      <td>In an arithmetic sequence, the nth term can be calculated using th...</td>\n",
       "      <td>402</td>\n",
       "      <td>✔️ [True]</td>\n",
       "    </tr>\n",
       "    <tr>\n",
       "      <th>6</th>\n",
       "      <td>For what values of $x$ is it true that $x^2 - 5x - 4 \\le 10$? Expr...</td>\n",
       "      <td>Level 4</td>\n",
       "      <td>Re-arranging, $x^2 - 5x - 14 \\le 0$. The left-hand quadratic facto...</td>\n",
       "      <td>Algebra</td>\n",
       "      <td>To solve the inequality \\( x^2 - 5x - 4 \\le 10 \\), we first rearra...</td>\n",
       "      <td>[-2, 7]</td>\n",
       "      <td></td>\n",
       "    </tr>\n",
       "    <tr>\n",
       "      <th>7</th>\n",
       "      <td>Mr. Madoff invests 1000 dollars in a fund that compounds annually ...</td>\n",
       "      <td>Level 4</td>\n",
       "      <td>Let $r$ be the annual interest rate. Then after three years, Mr. M...</td>\n",
       "      <td>Algebra</td>\n",
       "      <td>To find the annual interest rate, we can use the formula for compo...</td>\n",
       "      <td>8</td>\n",
       "      <td></td>\n",
       "    </tr>\n",
       "    <tr>\n",
       "      <th>8</th>\n",
       "      <td>Four distinct integers $a$, $b$, $c$ and $d$ have the property tha...</td>\n",
       "      <td>Level 4</td>\n",
       "      <td>WLOG, let $a&lt;b&lt;c&lt;d$. The smallest sum is $a+b=10$. The second-smal...</td>\n",
       "      <td>Algebra</td>\n",
       "      <td>Let the four distinct integers be denoted as a, b, c, and d. The s...</td>\n",
       "      <td>4, 6, 14, 15</td>\n",
       "      <td>✔️ [True]</td>\n",
       "    </tr>\n",
       "    <tr>\n",
       "      <th>9</th>\n",
       "      <td>What is the smallest value of $x$ such that $|5x - 1| = |3x + 2|$?...</td>\n",
       "      <td>Level 5</td>\n",
       "      <td>There are two cases, when $5x-1=3x+2$ and when $5x-1=-(3x+2).$ The...</td>\n",
       "      <td>Algebra</td>\n",
       "      <td>To solve the equation |5x - 1| = |3x + 2|, we need to consider the...</td>\n",
       "      <td>-\\frac{1}{8}</td>\n",
       "      <td>✔️ [True]</td>\n",
       "    </tr>\n",
       "    <tr>\n",
       "      <th>10</th>\n",
       "      <td>Let $f(x)=7x+5$ and $g(x)=x-1$.  If $h(x)=f(g(x))$, then what is t...</td>\n",
       "      <td>Level 4</td>\n",
       "      <td>\\[h(x)=f(g(x))=7(x-1)+5=7x-2.\\]Let's replace $h(x)$ with $y$ for s...</td>\n",
       "      <td>Algebra</td>\n",
       "      <td>To find the inverse of the function h(x) = f(g(x)), we first need ...</td>\n",
       "      <td>h^(-1)(x) = (x + 2)/7</td>\n",
       "      <td></td>\n",
       "    </tr>\n",
       "    <tr>\n",
       "      <th>11</th>\n",
       "      <td>Find the sum of all integers that satisfy these conditions: \\[\\n|x...</td>\n",
       "      <td>Level 5</td>\n",
       "      <td>First, let's deal with $|x| + 1 &gt; 7$. Subtracting 1 from both side...</td>\n",
       "      <td>Algebra</td>\n",
       "      <td>To solve the inequalities, we start with the first inequality: |x|...</td>\n",
       "      <td>-15</td>\n",
       "      <td>✔️ [True]</td>\n",
       "    </tr>\n",
       "    <tr>\n",
       "      <th>12</th>\n",
       "      <td>What is the number of units in the distance from the origin to the...</td>\n",
       "      <td>Level 2</td>\n",
       "      <td>We use the distance formula: $\\sqrt{(-8 - 0)^2 + (6 - 0)^2} = \\sqr...</td>\n",
       "      <td>Algebra</td>\n",
       "      <td>To find the distance from the origin (0,0) to the point (-8,6), we...</td>\n",
       "      <td>10</td>\n",
       "      <td>✔️ [True]</td>\n",
       "    </tr>\n",
       "    <tr>\n",
       "      <th>13</th>\n",
       "      <td>The two endpoints of a segment are at $(1,4)$ and $(1,10)$. What i...</td>\n",
       "      <td>Level 1</td>\n",
       "      <td>The midpoint of the segment is at $\\left(\\frac{1+1}{2},\\frac{4+10}...</td>\n",
       "      <td>Algebra</td>\n",
       "      <td>To find the midpoint of a segment with endpoints at (x1, y1) and (...</td>\n",
       "      <td>8</td>\n",
       "      <td>✔️ [True]</td>\n",
       "    </tr>\n",
       "    <tr>\n",
       "      <th>14</th>\n",
       "      <td>Kite $ABCD$ (a quadrilateral with two pairs of adjacent equal side...</td>\n",
       "      <td>Level 3</td>\n",
       "      <td>As the problem suggests, we need to compute the lengths of the dia...</td>\n",
       "      <td>Algebra</td>\n",
       "      <td>To find the area of kite ABCD, we need to calculate the lengths of...</td>\n",
       "      <td>75</td>\n",
       "      <td>✔️ [True]</td>\n",
       "    </tr>\n",
       "    <tr>\n",
       "      <th>15</th>\n",
       "      <td>What is the smallest real number $x$ in the domain of the function...</td>\n",
       "      <td>Level 5</td>\n",
       "      <td>A real number $x$ is in the domain of $g$ if and only if $$(x-3)^2...</td>\n",
       "      <td>Algebra</td>\n",
       "      <td>To find the smallest real number x in the domain of the function g...</td>\n",
       "      <td>5.5</td>\n",
       "      <td></td>\n",
       "    </tr>\n",
       "    <tr>\n",
       "      <th>16</th>\n",
       "      <td>Let \\[f(x) =\\n\\begin{cases}\\n3x + 5 &amp;\\text{if }x&lt;-3, \\\\\\n7-4x&amp;\\tex...</td>\n",
       "      <td>Level 2</td>\n",
       "      <td>Because $-10&lt;-3$, we use the first case to determine that $f(-10) ...</td>\n",
       "      <td>Algebra</td>\n",
       "      <td>To find f(-10), we need to determine which case of the piecewise f...</td>\n",
       "      <td>-25</td>\n",
       "      <td>✔️ [True]</td>\n",
       "    </tr>\n",
       "    <tr>\n",
       "      <th>17</th>\n",
       "      <td>If $A$, $B$ and $C$ are positive integers such that $\\frac{A\\sqrt{...</td>\n",
       "      <td>Level 3</td>\n",
       "      <td>Multiplying the numerator and denominator of the right hand side o...</td>\n",
       "      <td>Algebra</td>\n",
       "      <td>We start with the equation \\( \\frac{A\\sqrt{B}}{C} = \\frac{9}{2\\sqr...</td>\n",
       "      <td>8</td>\n",
       "      <td>✔️ [True]</td>\n",
       "    </tr>\n",
       "    <tr>\n",
       "      <th>18</th>\n",
       "      <td>Ten treeks weigh as much as three squigs and one goolee. Two treek...</td>\n",
       "      <td>Level 3</td>\n",
       "      <td>Let $t,s,g$ be the weight of one treek, the weight of one squig, a...</td>\n",
       "      <td>Algebra</td>\n",
       "      <td>Let's denote the weights of the treek, squig, and goolee as T, S, ...</td>\n",
       "      <td>3</td>\n",
       "      <td>✔️ [True]</td>\n",
       "    </tr>\n",
       "    <tr>\n",
       "      <th>19</th>\n",
       "      <td>In a 8 fluid ounce bottle of Vitamin Water, there are 125 calories...</td>\n",
       "      <td>Level 1</td>\n",
       "      <td>We know that there are 125 calories in 8 fluid ounces of Vitamin W...</td>\n",
       "      <td>Algebra</td>\n",
       "      <td>To find the number of calories in a 12 fluid ounce bottle of Vitam...</td>\n",
       "      <td>187.5</td>\n",
       "      <td>✔️ [True]</td>\n",
       "    </tr>\n",
       "  </tbody>\n",
       "</table>\n",
       "</div>"
      ],
      "text/plain": [
       "                                                                  problem  ... math_evaluate\n",
       "0   How many vertical asymptotes does the graph of $y=\\frac{2}{x^2+x-6...  ...     ✔️ [True]\n",
       "1   What is the positive difference between $120\\%$ of 30 and $130\\%$ ...  ...     ✔️ [True]\n",
       "2   Find $x$ such that $\\lceil x \\rceil + x = \\dfrac{23}{7}$. Express ...  ...              \n",
       "3                                          Evaluate $i^5+i^{-25}+i^{45}$.  ...     ✔️ [True]\n",
       "4                                 If $2^8=4^x$, what is the value of $x$?  ...     ✔️ [True]\n",
       "5   What is the 100th term of the arithmetic sequence 6, 10, 14, 18, ...?  ...     ✔️ [True]\n",
       "6   For what values of $x$ is it true that $x^2 - 5x - 4 \\le 10$? Expr...  ...              \n",
       "7   Mr. Madoff invests 1000 dollars in a fund that compounds annually ...  ...              \n",
       "8   Four distinct integers $a$, $b$, $c$ and $d$ have the property tha...  ...     ✔️ [True]\n",
       "9   What is the smallest value of $x$ such that $|5x - 1| = |3x + 2|$?...  ...     ✔️ [True]\n",
       "10  Let $f(x)=7x+5$ and $g(x)=x-1$.  If $h(x)=f(g(x))$, then what is t...  ...              \n",
       "11  Find the sum of all integers that satisfy these conditions: \\[\\n|x...  ...     ✔️ [True]\n",
       "12  What is the number of units in the distance from the origin to the...  ...     ✔️ [True]\n",
       "13  The two endpoints of a segment are at $(1,4)$ and $(1,10)$. What i...  ...     ✔️ [True]\n",
       "14  Kite $ABCD$ (a quadrilateral with two pairs of adjacent equal side...  ...     ✔️ [True]\n",
       "15  What is the smallest real number $x$ in the domain of the function...  ...              \n",
       "16  Let \\[f(x) =\\n\\begin{cases}\\n3x + 5 &\\text{if }x<-3, \\\\\\n7-4x&\\tex...  ...     ✔️ [True]\n",
       "17  If $A$, $B$ and $C$ are positive integers such that $\\frac{A\\sqrt{...  ...     ✔️ [True]\n",
       "18  Ten treeks weigh as much as three squigs and one goolee. Two treek...  ...     ✔️ [True]\n",
       "19  In a 8 fluid ounce bottle of Vitamin Water, there are 125 calories...  ...     ✔️ [True]\n",
       "\n",
       "[20 rows x 7 columns]"
      ]
     },
     "metadata": {},
     "output_type": "display_data"
    },
    {
     "name": "stderr",
     "output_type": "stream",
     "text": [
      "INFO:py4j.clientserver:Closing down clientserver connection\n",
      "INFO:py4j.clientserver:Closing down clientserver connection\n",
      "INFO:py4j.clientserver:Closing down clientserver connection\n",
      "INFO:py4j.clientserver:Closing down clientserver connection\n"
     ]
    },
    {
     "data": {
      "text/html": [
       "\n",
       "            <div style='\n",
       "                text-align: center;\n",
       "                font-size: 16px;\n",
       "                font-weight: bold;\n",
       "                color: #555;\n",
       "                margin: 10px 0;'>\n",
       "                ... 80 more rows not displayed ...\n",
       "            </div>\n",
       "            "
      ],
      "text/plain": [
       "<IPython.core.display.HTML object>"
      ]
     },
     "metadata": {},
     "output_type": "display_data"
    },
    {
     "data": {
      "application/databricks.mlflow.trace": "[\"tr-0cbe9e72c90a4aa7afab179c090c6b21\", \"tr-2cf5ffe35df742c0aced23f86c595d5b\", \"tr-9b31230805924151b157855539365e42\", \"tr-1350ad22e27140b893cd064a6d31d18a\", \"tr-7c565b2aba0c4b75824d0b93168758e8\", \"tr-78d669c8f11a49a69dd5d8613494bd40\", \"tr-b39318de04984f45a6f8e84d275b902f\", \"tr-3d518355b32e4d71845b1aabeb3e69f9\", \"tr-d142aadb684c46a6973c5468f0191ca5\", \"tr-dba0f58f19b846b7b110326c6f63509c\"]",
      "text/plain": [
       "[Trace(request_id=tr-0cbe9e72c90a4aa7afab179c090c6b21), Trace(request_id=tr-2cf5ffe35df742c0aced23f86c595d5b), Trace(request_id=tr-9b31230805924151b157855539365e42), Trace(request_id=tr-1350ad22e27140b893cd064a6d31d18a), Trace(request_id=tr-7c565b2aba0c4b75824d0b93168758e8), Trace(request_id=tr-78d669c8f11a49a69dd5d8613494bd40), Trace(request_id=tr-b39318de04984f45a6f8e84d275b902f), Trace(request_id=tr-3d518355b32e4d71845b1aabeb3e69f9), Trace(request_id=tr-d142aadb684c46a6973c5468f0191ca5), Trace(request_id=tr-dba0f58f19b846b7b110326c6f63509c)]"
      ]
     },
     "metadata": {},
     "output_type": "display_data"
    }
   ],
   "source": [
    "math_eval_score_baseline = math_evaluator(math_program, metric=math_evaluate)"
   ]
  },
  {
   "cell_type": "markdown",
   "metadata": {
    "application/vnd.databricks.v1+cell": {
     "cellMetadata": {},
     "inputWidgets": {},
     "nuid": "9d272ede-7bb2-476e-a2a5-51c76c8c4397",
     "showTitle": false,
     "tableResultSettingsMap": {},
     "title": ""
    }
   },
   "source": [
    "Check out a sample data input/output."
   ]
  },
  {
   "cell_type": "code",
   "execution_count": 0,
   "metadata": {
    "application/vnd.databricks.v1+cell": {
     "cellMetadata": {
      "byteLimit": 2048000,
      "rowLimit": 10000
     },
     "inputWidgets": {},
     "nuid": "b8a4e6b4-3fd7-43c2-b74e-bcc7f633be60",
     "showTitle": false,
     "tableResultSettingsMap": {},
     "title": ""
    }
   },
   "outputs": [
    {
     "data": {
      "text/plain": [
       "Prediction(\n",
       "    reasoning='To ensure that the piecewise function \\\\( f(x) \\\\) is continuous, we need to check the continuity at the points where the definition of the function changes, which are at \\\\( x = -2 \\\\) and \\\\( x = 2 \\\\).\\\\n\\\\n1. **Continuity at \\\\( x = 2 \\\\)**:\\\\n   - From the left (using the second piece): \\\\( f(2) = 2 - 5 = -3 \\\\)\\\\n   - From the right (using the first piece): \\\\( f(2) = a(2) + 3 = 2a + 3 \\\\)\\\\n   - For continuity at \\\\( x = 2 \\\\): \\\\( 2a + 3 = -3 \\\\)\\\\n   - Solving for \\\\( a \\\\): \\\\( 2a = -6 \\\\) \\\\( \\\\Rightarrow a = -3 \\\\)\\\\n\\\\n2. **Continuity at \\\\( x = -2 \\\\)**:\\\\n   - From the left (using the third piece): \\\\( f(-2) = 2(-2) - b = -4 - b \\\\)\\\\n   - From the right (using the second piece): \\\\( f(-2) = -2 - 5 = -7 \\\\)\\\\n   - For continuity at \\\\( x = -2 \\\\): \\\\( -4 - b = -7 \\\\)\\\\n   - Solving for \\\\( b \\\\): \\\\( -b = -3 \\\\) \\\\( \\\\Rightarrow b = 3 \\\\)\\\\n\\\\nNow we have \\\\( a = -3 \\\\) and \\\\( b = 3 \\\\). Therefore, \\\\( a + b = -3 + 3 = 0 \\\\).',\n",
       "    answer='0'\n",
       ")"
      ]
     },
     "execution_count": 48,
     "metadata": {},
     "output_type": "execute_result"
    },
    {
     "data": {
      "application/databricks.mlflow.trace": "\"tr-1708a05f716e44f1911bda3a2d97174a\"",
      "text/plain": [
       "Trace(request_id=tr-1708a05f716e44f1911bda3a2d97174a)"
      ]
     },
     "metadata": {},
     "output_type": "display_data"
    }
   ],
   "source": [
    "math_program(**math_train[0].inputs())"
   ]
  },
  {
   "cell_type": "markdown",
   "metadata": {
    "application/vnd.databricks.v1+cell": {
     "cellMetadata": {},
     "inputWidgets": {},
     "nuid": "6d03d4ec-8dc7-43f6-a1e1-4c46faf7f0f6",
     "showTitle": false,
     "tableResultSettingsMap": {},
     "title": ""
    }
   },
   "source": [
    "### Configure the Optimizer and Kick Off Optimization\n",
    "\n",
    "The last step is configuring the optimizer, and kick off the optimization process. Here we are using `MIPROv2` optimizer, which optimizes both the `instruction` (system prompt) and `demos` (few-shot examples)."
   ]
  },
  {
   "cell_type": "code",
   "execution_count": 0,
   "metadata": {
    "application/vnd.databricks.v1+cell": {
     "cellMetadata": {
      "byteLimit": 2048000,
      "rowLimit": 10000
     },
     "inputWidgets": {},
     "nuid": "a01bee34-3178-4f95-81da-12320fa41d8a",
     "showTitle": false,
     "tableResultSettingsMap": {},
     "title": ""
    }
   },
   "outputs": [
    {
     "name": "stderr",
     "output_type": "stream",
     "text": [
      "2025/04/22 22:23:41 INFO mlflow.utils.autologging_utils: Created MLflow autologging run with ID 'f3e835cef9f8448c81be5c8966ee62d5', which will track hyperparameters, performance metrics, model artifacts, and lineage information for the current dspy workflow\n"
     ]
    },
    {
     "data": {
      "text/plain": [
       "\u001b[93m\u001b[1mProjected Language Model (LM) Calls\u001b[0m\n",
       "\n",
       "Based on the parameters you have set, the maximum number of LM calls is projected as follows:\n",
       "\n",
       "\u001b[93m- Prompt Generation: \u001b[94m\u001b[1m10\u001b[0m\u001b[93m data ... y"
      ]
     },
     "metadata": {},
     "output_type": "display_data"
    },
    {
     "name": "stderr",
     "output_type": "stream",
     "text": [
      "2025/04/22 22:23:44 INFO dspy.teleprompt.mipro_optimizer_v2: \n",
      "==> STEP 1: BOOTSTRAP FEWSHOT EXAMPLES <==\n",
      "2025/04/22 22:23:44 INFO dspy.teleprompt.mipro_optimizer_v2: These will be used as few-shot example candidates for our program and for creating instructions.\n",
      "\n",
      "2025/04/22 22:23:44 INFO dspy.teleprompt.mipro_optimizer_v2: Bootstrapping N=4 sets of demonstrations...\n"
     ]
    },
    {
     "name": "stdout",
     "output_type": "stream",
     "text": [
      "Bootstrapping set 1/4\n",
      "Bootstrapping set 2/4\n",
      "Bootstrapping set 3/4\n"
     ]
    },
    {
     "data": {
      "application/vnd.jupyter.widget-view+json": {
       "model_id": "bba6d20babf54b558ec5f12166302256",
       "version_major": 2,
       "version_minor": 0
      },
      "text/plain": [
       "Downloading artifacts:   0%|          | 0/1 [00:00<?, ?it/s]"
      ]
     },
     "metadata": {},
     "output_type": "display_data"
    },
    {
     "name": "stderr",
     "output_type": "stream",
     "text": [
      "\r  0%|          | 0/100 [00:00<?, ?it/s]INFO:py4j.clientserver:Closing down clientserver connection\n",
      "\r  1%|          | 1/100 [00:00<00:35,  2.81it/s]\r  2%|▏         | 2/100 [00:11<10:27,  6.41s/it]\r  3%|▎         | 3/100 [00:13<07:37,  4.72s/it]\r  4%|▍         | 4/100 [00:15<06:00,  3.76s/it]\r  4%|▍         | 4/100 [00:15<06:23,  4.00s/it]\n"
     ]
    },
    {
     "name": "stdout",
     "output_type": "stream",
     "text": [
      "Bootstrapped 4 full traces after 4 examples for up to 1 rounds, amounting to 4 attempts.\n"
     ]
    },
    {
     "data": {
      "application/vnd.jupyter.widget-view+json": {
       "model_id": "3cbc35a5e8fa45268aa8abfe4de494f6",
       "version_major": 2,
       "version_minor": 0
      },
      "text/plain": [
       "Downloading artifacts:   0%|          | 0/1 [00:00<?, ?it/s]"
      ]
     },
     "metadata": {},
     "output_type": "display_data"
    },
    {
     "name": "stdout",
     "output_type": "stream",
     "text": [
      "Bootstrapping set 4/4\n"
     ]
    },
    {
     "data": {
      "application/vnd.jupyter.widget-view+json": {
       "model_id": "a310bc98b2e54fc79479546a4e5466bf",
       "version_major": 2,
       "version_minor": 0
      },
      "text/plain": [
       "Downloading artifacts:   0%|          | 0/1 [00:00<?, ?it/s]"
      ]
     },
     "metadata": {},
     "output_type": "display_data"
    },
    {
     "name": "stderr",
     "output_type": "stream",
     "text": [
      "\r  0%|          | 0/100 [00:00<?, ?it/s]INFO:py4j.clientserver:Closing down clientserver connection\n",
      "INFO:py4j.clientserver:Closing down clientserver connection\n",
      "\r  1%|          | 1/100 [00:03<05:43,  3.47s/it]\r  2%|▏         | 2/100 [00:09<07:45,  4.75s/it]\r  3%|▎         | 3/100 [00:15<09:03,  5.60s/it]\r  3%|▎         | 3/100 [00:15<08:28,  5.25s/it]\n"
     ]
    },
    {
     "name": "stdout",
     "output_type": "stream",
     "text": [
      "Bootstrapped 3 full traces after 3 examples for up to 1 rounds, amounting to 3 attempts.\n"
     ]
    },
    {
     "data": {
      "application/vnd.jupyter.widget-view+json": {
       "model_id": "4d0a9bed2ca94c1289eab3b7e29ed5df",
       "version_major": 2,
       "version_minor": 0
      },
      "text/plain": [
       "Downloading artifacts:   0%|          | 0/1 [00:00<?, ?it/s]"
      ]
     },
     "metadata": {},
     "output_type": "display_data"
    },
    {
     "name": "stderr",
     "output_type": "stream",
     "text": [
      "2025/04/22 22:24:21 INFO dspy.teleprompt.mipro_optimizer_v2: \n",
      "==> STEP 2: PROPOSE INSTRUCTION CANDIDATES <==\n",
      "2025/04/22 22:24:21 INFO dspy.teleprompt.mipro_optimizer_v2: We will use the few-shot examples from the previous step, a generated dataset summary, a summary of the program code, and a randomly selected prompting tip to propose instructions.\n",
      "INFO:py4j.clientserver:Closing down clientserver connection\n",
      "2025/04/22 22:25:00 INFO dspy.teleprompt.mipro_optimizer_v2: \n",
      "Proposing instructions...\n",
      "\n",
      "2025/04/22 22:25:26 INFO dspy.teleprompt.mipro_optimizer_v2: Proposed Instructions for Predictor 0:\n",
      "\n",
      "2025/04/22 22:25:26 INFO dspy.teleprompt.mipro_optimizer_v2: 0: Given the fields `problem`, produce the fields `answer`.\n",
      "\n",
      "2025/04/22 22:25:26 INFO dspy.teleprompt.mipro_optimizer_v2: 1: You are a mathematician tasked with solving critical algebraic problems that will determine the fate of a prestigious mathematics competition. Given the problem statement, provide a thorough step-by-step reasoning process leading to the final answer. Make sure to connect theoretical concepts with practical applications, ensuring clarity and rigor in your solution. Use the fields `problem` to guide your response and produce the fields `reasoning` and `answer` accordingly.\n",
      "\n",
      "2025/04/22 22:25:26 INFO dspy.teleprompt.mipro_optimizer_v2: 2: Using the provided problem statement, generate a structured response that includes detailed reasoning and the final answer. Ensure that the reasoning outlines the thought process and calculations step-by-step, leading to the solution.\n",
      "\n",
      "2025/04/22 22:25:26 INFO dspy.teleprompt.mipro_optimizer_v2: 3: Given the mathematical problem described in the `problem` field, analyze it step by step to produce a detailed `reasoning` explanation. Then, derive the final `answer` based on that reasoning. Please structure your response as a JSON object containing the fields: `reasoning` and `answer`.\n",
      "\n",
      "2025/04/22 22:25:26 INFO dspy.teleprompt.mipro_optimizer_v2: \n",
      "\n",
      "2025/04/22 22:25:26 INFO dspy.teleprompt.mipro_optimizer_v2: ==> STEP 3: FINDING OPTIMAL PROMPT PARAMETERS <==\n",
      "2025/04/22 22:25:26 INFO dspy.teleprompt.mipro_optimizer_v2: We will evaluate the program over a series of trials with different combinations of instructions and few-shot examples to find the optimal combination using Bayesian Optimization.\n",
      "\n",
      "2025/04/22 22:25:26 INFO dspy.teleprompt.mipro_optimizer_v2: == Trial 1 / 11 - Full Evaluation of Default Program ==\n"
     ]
    },
    {
     "name": "stdout",
     "output_type": "stream",
     "text": [
      "\r  0%|          | 0/100 [00:00<?, ?it/s]\rAverage Metric: 1.00 / 1 (100.0%):   0%|          | 0/100 [00:02<?, ?it/s]\rAverage Metric: 1.00 / 1 (100.0%):   1%|          | 1/100 [00:02<04:34,  2.77s/it]\rAverage Metric: 2.00 / 2 (100.0%):   1%|          | 1/100 [00:04<04:34,  2.77s/it]\rAverage Metric: 2.00 / 2 (100.0%):   2%|▏         | 2/100 [00:04<03:05,  1.89s/it]\rAverage Metric: 3.00 / 3 (100.0%):   2%|▏         | 2/100 [00:07<03:05,  1.89s/it]\rAverage Metric: 3.00 / 3 (100.0%):   3%|▎         | 3/100 [00:07<03:53,  2.41s/it]\rAverage Metric: 4.00 / 4 (100.0%):   3%|▎         | 3/100 [00:08<03:53,  2.41s/it]\rAverage Metric: 4.00 / 4 (100.0%):   4%|▍         | 4/100 [00:08<02:56,  1.84s/it]\rAverage Metric: 5.00 / 5 (100.0%):   4%|▍         | 4/100 [00:09<02:56,  1.84s/it]\rAverage Metric: 5.00 / 5 (100.0%):   5%|▌         | 5/100 [00:09<02:40,  1.69s/it]\rAverage Metric: 6.00 / 6 (100.0%):   5%|▌         | 5/100 [00:10<02:40,  1.69s/it]\rAverage Metric: 6.00 / 6 (100.0%):   6%|▌         | 6/100 [00:10<02:17,  1.46s/it]\rAverage Metric: 7.00 / 7 (100.0%):   6%|▌         | 6/100 [00:10<02:17,  1.46s/it]\rAverage Metric: 7.00 / 7 (100.0%):   7%|▋         | 7/100 [00:10<01:44,  1.13s/it]\rAverage Metric: 8.00 / 8 (100.0%):   7%|▋         | 7/100 [00:12<01:44,  1.13s/it]\rAverage Metric: 8.00 / 8 (100.0%):   8%|▊         | 8/100 [00:12<01:53,  1.23s/it]\rAverage Metric: 9.00 / 9 (100.0%):   8%|▊         | 8/100 [00:13<01:53,  1.23s/it]\rAverage Metric: 9.00 / 9 (100.0%):   9%|▉         | 9/100 [00:13<02:00,  1.32s/it]\rAverage Metric: 10.00 / 10 (100.0%):   9%|▉         | 9/100 [00:13<02:00,  1.32s/it]\rAverage Metric: 11.00 / 11 (100.0%):  10%|█         | 10/100 [00:14<01:59,  1.32s/it]\rAverage Metric: 11.00 / 11 (100.0%):  11%|█         | 11/100 [00:14<01:22,  1.07it/s]\rAverage Metric: 12.00 / 12 (100.0%):  11%|█         | 11/100 [00:16<01:22,  1.07it/s]\rAverage Metric: 12.00 / 12 (100.0%):  12%|█▏        | 12/100 [00:16<01:27,  1.01it/s]\rAverage Metric: 12.00 / 13 (92.3%):  12%|█▏        | 12/100 [00:16<01:27,  1.01it/s] \rAverage Metric: 12.00 / 13 (92.3%):  13%|█▎        | 13/100 [00:16<01:23,  1.04it/s]\rAverage Metric: 13.00 / 14 (92.9%):  13%|█▎        | 13/100 [00:17<01:23,  1.04it/s]\rAverage Metric: 13.00 / 14 (92.9%):  14%|█▍        | 14/100 [00:17<01:14,  1.16it/s]\rAverage Metric: 14.00 / 15 (93.3%):  14%|█▍        | 14/100 [00:18<01:14,  1.16it/s]\rAverage Metric: 14.00 / 15 (93.3%):  15%|█▌        | 15/100 [00:18<01:15,  1.12it/s]\rAverage Metric: 15.00 / 16 (93.8%):  15%|█▌        | 15/100 [00:19<01:15,  1.12it/s]\rAverage Metric: 15.00 / 16 (93.8%):  16%|█▌        | 16/100 [00:19<01:06,  1.27it/s]\rAverage Metric: 15.00 / 17 (88.2%):  16%|█▌        | 16/100 [00:21<01:06,  1.27it/s]\rAverage Metric: 15.00 / 17 (88.2%):  17%|█▋        | 17/100 [00:21<01:37,  1.18s/it]\rAverage Metric: 15.00 / 18 (83.3%):  17%|█▋        | 17/100 [00:22<01:37,  1.18s/it]\rAverage Metric: 15.00 / 18 (83.3%):  18%|█▊        | 18/100 [00:22<01:31,  1.11s/it]\rAverage Metric: 16.00 / 19 (84.2%):  18%|█▊        | 18/100 [00:22<01:31,  1.11s/it]\rAverage Metric: 16.00 / 19 (84.2%):  19%|█▉        | 19/100 [00:22<01:10,  1.14it/s]\rAverage Metric: 16.00 / 20 (80.0%):  19%|█▉        | 19/100 [00:23<01:10,  1.14it/s]\rAverage Metric: 16.00 / 20 (80.0%):  20%|██        | 20/100 [00:23<01:04,  1.23it/s]\rAverage Metric: 16.00 / 21 (76.2%):  20%|██        | 20/100 [00:24<01:04,  1.23it/s]\rAverage Metric: 16.00 / 21 (76.2%):  21%|██        | 21/100 [00:24<01:14,  1.07it/s]\rAverage Metric: 17.00 / 22 (77.3%):  21%|██        | 21/100 [00:24<01:14,  1.07it/s]\rAverage Metric: 17.00 / 22 (77.3%):  22%|██▏       | 22/100 [00:24<01:05,  1.19it/s]\rAverage Metric: 18.00 / 23 (78.3%):  22%|██▏       | 22/100 [00:26<01:05,  1.19it/s]\rAverage Metric: 18.00 / 23 (78.3%):  23%|██▎       | 23/100 [00:26<01:17,  1.00s/it]\rAverage Metric: 19.00 / 24 (79.2%):  23%|██▎       | 23/100 [00:28<01:17,  1.00s/it]\rAverage Metric: 19.00 / 24 (79.2%):  24%|██▍       | 24/100 [00:28<01:45,  1.39s/it]\rAverage Metric: 19.00 / 25 (76.0%):  24%|██▍       | 24/100 [00:32<01:45,  1.39s/it]\rAverage Metric: 19.00 / 25 (76.0%):  25%|██▌       | 25/100 [00:32<02:37,  2.10s/it]\rAverage Metric: 20.00 / 26 (76.9%):  25%|██▌       | 25/100 [00:33<02:37,  2.10s/it]\rAverage Metric: 20.00 / 26 (76.9%):  26%|██▌       | 26/100 [00:33<02:18,  1.87s/it]\rAverage Metric: 21.00 / 27 (77.8%):  26%|██▌       | 26/100 [00:34<02:18,  1.87s/it]\rAverage Metric: 21.00 / 27 (77.8%):  27%|██▋       | 27/100 [00:34<01:56,  1.59s/it]\rAverage Metric: 22.00 / 28 (78.6%):  27%|██▋       | 27/100 [00:35<01:56,  1.59s/it]\rAverage Metric: 22.00 / 28 (78.6%):  28%|██▊       | 28/100 [00:35<01:33,  1.30s/it]\rAverage Metric: 23.00 / 29 (79.3%):  28%|██▊       | 28/100 [00:36<01:33,  1.30s/it]\rAverage Metric: 23.00 / 29 (79.3%):  29%|██▉       | 29/100 [00:36<01:22,  1.16s/it]\rAverage Metric: 24.00 / 30 (80.0%):  29%|██▉       | 29/100 [00:38<01:22,  1.16s/it]\rAverage Metric: 24.00 / 30 (80.0%):  30%|███       | 30/100 [00:38<01:48,  1.56s/it]\rAverage Metric: 25.00 / 31 (80.6%):  30%|███       | 30/100 [00:39<01:48,  1.56s/it]\rAverage Metric: 25.00 / 31 (80.6%):  31%|███       | 31/100 [00:39<01:34,  1.37s/it]\rAverage Metric: 26.00 / 32 (81.2%):  31%|███       | 31/100 [00:39<01:34,  1.37s/it]\rAverage Metric: 26.00 / 32 (81.2%):  32%|███▏      | 32/100 [00:39<01:08,  1.00s/it]\rAverage Metric: 27.00 / 33 (81.8%):  32%|███▏      | 32/100 [00:40<01:08,  1.00s/it]\rAverage Metric: 27.00 / 33 (81.8%):  33%|███▎      | 33/100 [00:40<00:54,  1.23it/s]\rAverage Metric: 27.00 / 34 (79.4%):  33%|███▎      | 33/100 [00:40<00:54,  1.23it/s]\rAverage Metric: 28.00 / 35 (80.0%):  34%|███▍      | 34/100 [00:41<00:53,  1.23it/s]\rAverage Metric: 28.00 / 35 (80.0%):  35%|███▌      | 35/100 [00:41<00:45,  1.43it/s]\rAverage Metric: 29.00 / 36 (80.6%):  35%|███▌      | 35/100 [00:42<00:45,  1.43it/s]\rAverage Metric: 29.00 / 36 (80.6%):  36%|███▌      | 36/100 [00:42<00:57,  1.10it/s]\rAverage Metric: 30.00 / 37 (81.1%):  36%|███▌      | 36/100 [00:43<00:57,  1.10it/s]\rAverage Metric: 30.00 / 37 (81.1%):  37%|███▋      | 37/100 [00:43<01:02,  1.01it/s]\rAverage Metric: 31.00 / 38 (81.6%):  37%|███▋      | 37/100 [00:45<01:02,  1.01it/s]\rAverage Metric: 31.00 / 38 (81.6%):  38%|███▊      | 38/100 [00:45<01:07,  1.08s/it]\rAverage Metric: 31.00 / 39 (79.5%):  38%|███▊      | 38/100 [00:47<01:07,  1.08s/it]\rAverage Metric: 31.00 / 39 (79.5%):  39%|███▉      | 39/100 [00:47<01:24,  1.39s/it]\rAverage Metric: 32.00 / 40 (80.0%):  39%|███▉      | 39/100 [00:48<01:24,  1.39s/it]\rAverage Metric: 32.00 / 40 (80.0%):  40%|████      | 40/100 [00:48<01:13,  1.23s/it]\rAverage Metric: 33.00 / 41 (80.5%):  40%|████      | 40/100 [00:48<01:13,  1.23s/it]\rAverage Metric: 33.00 / 42 (78.6%):  41%|████      | 41/100 [00:48<01:12,  1.23s/it]\rAverage Metric: 33.00 / 42 (78.6%):  42%|████▏     | 42/100 [00:48<00:45,  1.27it/s]\rAverage Metric: 34.00 / 43 (79.1%):  42%|████▏     | 42/100 [00:52<00:45,  1.27it/s]\rAverage Metric: 34.00 / 43 (79.1%):  43%|████▎     | 43/100 [00:52<01:19,  1.40s/it]\rAverage Metric: 35.00 / 44 (79.5%):  43%|████▎     | 43/100 [00:52<01:19,  1.40s/it]\rAverage Metric: 35.00 / 44 (79.5%):  44%|████▍     | 44/100 [00:52<01:04,  1.14s/it]\rAverage Metric: 36.00 / 45 (80.0%):  44%|████▍     | 44/100 [00:52<01:04,  1.14s/it]\rAverage Metric: 36.00 / 45 (80.0%):  45%|████▌     | 45/100 [00:52<00:47,  1.15it/s]\rAverage Metric: 37.00 / 46 (80.4%):  45%|████▌     | 45/100 [00:52<00:47,  1.15it/s]\rAverage Metric: 38.00 / 47 (80.9%):  46%|████▌     | 46/100 [00:52<00:46,  1.15it/s]\rAverage Metric: 38.00 / 47 (80.9%):  47%|████▋     | 47/100 [00:52<00:29,  1.82it/s]\rAverage Metric: 39.00 / 48 (81.2%):  47%|████▋     | 47/100 [00:53<00:29,  1.82it/s]\rAverage Metric: 39.00 / 48 (81.2%):  48%|████▊     | 48/100 [00:53<00:27,  1.89it/s]\rAverage Metric: 40.00 / 49 (81.6%):  48%|████▊     | 48/100 [00:56<00:27,  1.89it/s]\rAverage Metric: 40.00 / 49 (81.6%):  49%|████▉     | 49/100 [00:56<00:55,  1.09s/it]\rAverage Metric: 41.00 / 50 (82.0%):  49%|████▉     | 49/100 [00:56<00:55,  1.09s/it]\rAverage Metric: 42.00 / 51 (82.4%):  50%|█████     | 50/100 [00:56<00:54,  1.09s/it]\rAverage Metric: 42.00 / 51 (82.4%):  51%|█████     | 51/100 [00:56<00:37,  1.31it/s]\rAverage Metric: 43.00 / 52 (82.7%):  51%|█████     | 51/100 [00:57<00:37,  1.31it/s]\rAverage Metric: 43.00 / 52 (82.7%):  52%|█████▏    | 52/100 [00:57<00:38,  1.25it/s]\rAverage Metric: 44.00 / 53 (83.0%):  52%|█████▏    | 52/100 [00:58<00:38,  1.25it/s]\rAverage Metric: 44.00 / 53 (83.0%):  53%|█████▎    | 53/100 [00:58<00:41,  1.12it/s]\rAverage Metric: 45.00 / 54 (83.3%):  53%|█████▎    | 53/100 [01:00<00:41,  1.12it/s]\rAverage Metric: 45.00 / 54 (83.3%):  54%|█████▍    | 54/100 [01:00<00:47,  1.03s/it]\rAverage Metric: 45.00 / 55 (81.8%):  54%|█████▍    | 54/100 [01:00<00:47,  1.03s/it]\rAverage Metric: 45.00 / 55 (81.8%):  55%|█████▌    | 55/100 [01:00<00:43,  1.04it/s]\rAverage Metric: 46.00 / 56 (82.1%):  55%|█████▌    | 55/100 [01:02<00:43,  1.04it/s]\rAverage Metric: 46.00 / 56 (82.1%):  56%|█████▌    | 56/100 [01:02<00:47,  1.07s/it]\rAverage Metric: 47.00 / 57 (82.5%):  56%|█████▌    | 56/100 [01:03<00:47,  1.07s/it]\rAverage Metric: 47.00 / 57 (82.5%):  57%|█████▋    | 57/100 [01:03<00:41,  1.02it/s]\rAverage Metric: 48.00 / 58 (82.8%):  57%|█████▋    | 57/100 [01:03<00:41,  1.02it/s]\rAverage Metric: 49.00 / 59 (83.1%):  58%|█████▊    | 58/100 [01:03<00:41,  1.02it/s]\rAverage Metric: 49.00 / 59 (83.1%):  59%|█████▉    | 59/100 [01:03<00:24,  1.66it/s]\rAverage Metric: 50.00 / 60 (83.3%):  59%|█████▉    | 59/100 [01:05<00:24,  1.66it/s]\rAverage Metric: 50.00 / 60 (83.3%):  60%|██████    | 60/100 [01:05<00:43,  1.08s/it]\rAverage Metric: 51.00 / 61 (83.6%):  60%|██████    | 60/100 [01:06<00:43,  1.08s/it]\rAverage Metric: 51.00 / 61 (83.6%):  61%|██████    | 61/100 [01:06<00:41,  1.06s/it]\rAverage Metric: 52.00 / 62 (83.9%):  61%|██████    | 61/100 [01:06<00:41,  1.06s/it]\rAverage Metric: 53.00 / 63 (84.1%):  62%|██████▏   | 62/100 [01:07<00:40,  1.06s/it]\rAverage Metric: 53.00 / 63 (84.1%):  63%|██████▎   | 63/100 [01:07<00:26,  1.37it/s]\rAverage Metric: 54.00 / 64 (84.4%):  63%|██████▎   | 63/100 [01:09<00:26,  1.37it/s]\rAverage Metric: 54.00 / 64 (84.4%):  64%|██████▍   | 64/100 [01:09<00:34,  1.05it/s]\rAverage Metric: 55.00 / 65 (84.6%):  64%|██████▍   | 64/100 [01:09<00:34,  1.05it/s]\rAverage Metric: 55.00 / 65 (84.6%):  65%|██████▌   | 65/100 [01:09<00:29,  1.20it/s]\rAverage Metric: 56.00 / 66 (84.8%):  65%|██████▌   | 65/100 [01:09<00:29,  1.20it/s]\rAverage Metric: 56.00 / 66 (84.8%):  66%|██████▌   | 66/100 [01:09<00:23,  1.45it/s]\rAverage Metric: 56.00 / 67 (83.6%):  66%|██████▌   | 66/100 [01:10<00:23,  1.45it/s]\rAverage Metric: 56.00 / 67 (83.6%):  67%|██████▋   | 67/100 [01:10<00:20,  1.64it/s]\rAverage Metric: 57.00 / 68 (83.8%):  67%|██████▋   | 67/100 [01:10<00:20,  1.64it/s]\rAverage Metric: 58.00 / 69 (84.1%):  68%|██████▊   | 68/100 [01:14<00:19,  1.64it/s]\rAverage Metric: 58.00 / 69 (84.1%):  69%|██████▉   | 69/100 [01:14<00:41,  1.35s/it]\rAverage Metric: 59.00 / 70 (84.3%):  69%|██████▉   | 69/100 [01:16<00:41,  1.35s/it]\rAverage Metric: 59.00 / 70 (84.3%):  70%|███████   | 70/100 [01:16<00:42,  1.42s/it]\rAverage Metric: 60.00 / 71 (84.5%):  70%|███████   | 70/100 [01:18<00:42,  1.42s/it]\rAverage Metric: 60.00 / 71 (84.5%):  71%|███████   | 71/100 [01:18<00:42,  1.45s/it]\rAverage Metric: 61.00 / 72 (84.7%):  71%|███████   | 71/100 [01:18<00:42,  1.45s/it]\rAverage Metric: 61.00 / 72 (84.7%):  72%|███████▏  | 72/100 [01:18<00:30,  1.10s/it]\rAverage Metric: 62.00 / 73 (84.9%):  72%|███████▏  | 72/100 [01:19<00:30,  1.10s/it]\rAverage Metric: 62.00 / 73 (84.9%):  73%|███████▎  | 73/100 [01:19<00:28,  1.04s/it]\rAverage Metric: 63.00 / 74 (85.1%):  73%|███████▎  | 73/100 [01:19<00:28,  1.04s/it]\rAverage Metric: 63.00 / 74 (85.1%):  74%|███████▍  | 74/100 [01:19<00:21,  1.20it/s]\rAverage Metric: 64.00 / 75 (85.3%):  74%|███████▍  | 74/100 [01:22<00:21,  1.20it/s]\rAverage Metric: 64.00 / 75 (85.3%):  75%|███████▌  | 75/100 [01:22<00:35,  1.44s/it]\rAverage Metric: 65.00 / 76 (85.5%):  75%|███████▌  | 75/100 [01:23<00:35,  1.44s/it]\rAverage Metric: 65.00 / 76 (85.5%):  76%|███████▌  | 76/100 [01:23<00:29,  1.22s/it]\rAverage Metric: 66.00 / 77 (85.7%):  76%|███████▌  | 76/100 [01:24<00:29,  1.22s/it]\rAverage Metric: 66.00 / 77 (85.7%):  77%|███████▋  | 77/100 [01:24<00:28,  1.23s/it]\rAverage Metric: 67.00 / 78 (85.9%):  77%|███████▋  | 77/100 [01:24<00:28,  1.23s/it]\rAverage Metric: 67.00 / 78 (85.9%):  78%|███████▊  | 78/100 [01:24<00:19,  1.11it/s]\rAverage Metric: 68.00 / 79 (86.1%):  78%|███████▊  | 78/100 [01:26<00:19,  1.11it/s]\rAverage Metric: 68.00 / 79 (86.1%):  79%|███████▉  | 79/100 [01:26<00:26,  1.26s/it]\rAverage Metric: 69.00 / 80 (86.2%):  79%|███████▉  | 79/100 [01:26<00:26,  1.26s/it]\rAverage Metric: 69.00 / 80 (86.2%):  80%|████████  | 80/100 [01:26<00:19,  1.05it/s]\rAverage Metric: 70.00 / 81 (86.4%):  80%|████████  | 80/100 [01:27<00:19,  1.05it/s]\rAverage Metric: 70.00 / 81 (86.4%):  81%|████████  | 81/100 [01:27<00:14,  1.28it/s]\rAverage Metric: 71.00 / 82 (86.6%):  81%|████████  | 81/100 [01:27<00:14,  1.28it/s]\rAverage Metric: 71.00 / 82 (86.6%):  82%|████████▏ | 82/100 [01:27<00:11,  1.50it/s]\rAverage Metric: 72.00 / 83 (86.7%):  82%|████████▏ | 82/100 [01:28<00:11,  1.50it/s]\rAverage Metric: 72.00 / 83 (86.7%):  83%|████████▎ | 83/100 [01:28<00:11,  1.42it/s]\rAverage Metric: 73.00 / 84 (86.9%):  83%|████████▎ | 83/100 [01:31<00:11,  1.42it/s]\rAverage Metric: 73.00 / 84 (86.9%):  84%|████████▍ | 84/100 [01:31<00:21,  1.31s/it]\rAverage Metric: 74.00 / 85 (87.1%):  84%|████████▍ | 84/100 [01:33<00:21,  1.31s/it]\rAverage Metric: 74.00 / 85 (87.1%):  85%|████████▌ | 85/100 [01:33<00:24,  1.61s/it]\rAverage Metric: 75.00 / 86 (87.2%):  85%|████████▌ | 85/100 [01:33<00:24,  1.61s/it]\rAverage Metric: 76.00 / 87 (87.4%):  86%|████████▌ | 86/100 [01:33<00:22,  1.61s/it]\rAverage Metric: 76.00 / 88 (86.4%):  87%|████████▋ | 87/100 [01:35<00:20,  1.61s/it]\rAverage Metric: 76.00 / 88 (86.4%):  88%|████████▊ | 88/100 [01:35<00:12,  1.02s/it]\rAverage Metric: 77.00 / 89 (86.5%):  88%|████████▊ | 88/100 [01:35<00:12,  1.02s/it]\rAverage Metric: 77.00 / 89 (86.5%):  89%|████████▉ | 89/100 [01:35<00:09,  1.19it/s]\rAverage Metric: 78.00 / 90 (86.7%):  89%|████████▉ | 89/100 [01:38<00:09,  1.19it/s]\rAverage Metric: 78.00 / 90 (86.7%):  90%|█████████ | 90/100 [01:38<00:14,  1.41s/it]\rAverage Metric: 78.00 / 91 (85.7%):  90%|█████████ | 90/100 [01:38<00:14,  1.41s/it]\rAverage Metric: 78.00 / 91 (85.7%):  91%|█████████ | 91/100 [01:38<00:09,  1.09s/it]\rAverage Metric: 79.00 / 92 (85.9%):  91%|█████████ | 91/100 [01:39<00:09,  1.09s/it]\rAverage Metric: 79.00 / 92 (85.9%):  92%|█████████▏| 92/100 [01:39<00:09,  1.13s/it]\rAverage Metric: 80.00 / 93 (86.0%):  92%|█████████▏| 92/100 [01:41<00:09,  1.13s/it]\rAverage Metric: 80.00 / 93 (86.0%):  93%|█████████▎| 93/100 [01:41<00:08,  1.15s/it]\rAverage Metric: 80.00 / 94 (85.1%):  93%|█████████▎| 93/100 [01:42<00:08,  1.15s/it]\rAverage Metric: 80.00 / 94 (85.1%):  94%|█████████▍| 94/100 [01:42<00:07,  1.23s/it]\rAverage Metric: 81.00 / 95 (85.3%):  94%|█████████▍| 94/100 [01:43<00:07,  1.23s/it]\rAverage Metric: 81.00 / 95 (85.3%):  95%|█████████▌| 95/100 [01:43<00:06,  1.21s/it]\rAverage Metric: 82.00 / 96 (85.4%):  95%|█████████▌| 95/100 [01:44<00:06,  1.21s/it]\rAverage Metric: 82.00 / 96 (85.4%):  96%|█████████▌| 96/100 [01:44<00:04,  1.01s/it]\rAverage Metric: 83.00 / 97 (85.6%):  96%|█████████▌| 96/100 [01:45<00:04,  1.01s/it]\rAverage Metric: 83.00 / 97 (85.6%):  97%|█████████▋| 97/100 [01:45<00:03,  1.06s/it]"
     ]
    },
    {
     "name": "stderr",
     "output_type": "stream",
     "text": [
      "2025/04/22 22:27:13 WARNING dspy.adapters.json_adapter: Failed to use structured output format. Falling back to JSON mode. Error: Expected dict_keys(['reasoning', 'answer']) but got dict_keys(['reasoning'])\n"
     ]
    },
    {
     "name": "stdout",
     "output_type": "stream",
     "text": [
      "\rAverage Metric: 84.00 / 98 (85.7%):  97%|█████████▋| 97/100 [01:47<00:03,  1.06s/it]\rAverage Metric: 84.00 / 98 (85.7%):  98%|█████████▊| 98/100 [01:47<00:02,  1.29s/it]\rAverage Metric: 85.00 / 99 (85.9%):  98%|█████████▊| 98/100 [01:51<00:02,  1.29s/it]\rAverage Metric: 85.00 / 99 (85.9%):  99%|█████████▉| 99/100 [01:51<00:02,  2.10s/it]\rAverage Metric: 86.00 / 100 (86.0%):  99%|█████████▉| 99/100 [01:56<00:02,  2.10s/it]\rAverage Metric: 86.00 / 100 (86.0%): 100%|██████████| 100/100 [01:56<00:00,  3.13s/it]\rAverage Metric: 86.00 / 100 (86.0%): 100%|██████████| 100/100 [01:56<00:00,  1.17s/it]"
     ]
    },
    {
     "name": "stderr",
     "output_type": "stream",
     "text": [
      "2025/04/22 22:27:24 INFO dspy.evaluate.evaluate: Average Metric: 86 / 100 (86.0%)\n",
      "INFO:py4j.clientserver:Closing down clientserver connection\n",
      "INFO:py4j.clientserver:Closing down clientserver connection\n",
      "INFO:py4j.clientserver:Closing down clientserver connection\n",
      "INFO:py4j.clientserver:Closing down clientserver connection\n",
      "INFO:py4j.clientserver:Closing down clientserver connection\n",
      "INFO:py4j.clientserver:Closing down clientserver connection\n"
     ]
    },
    {
     "name": "stdout",
     "output_type": "stream",
     "text": [
      "\n"
     ]
    },
    {
     "name": "stderr",
     "output_type": "stream",
     "text": [
      "2025/04/22 22:27:24 INFO dspy.teleprompt.mipro_optimizer_v2: Default program score: 86.0\n",
      "\n",
      "/local_disk0/.ephemeral_nfs/envs/pythonEnv-b046c2c4-4596-41f5-82a4-73bdf0e1e06f/lib/python3.11/site-packages/optuna/_experimental.py:31: ExperimentalWarning: Argument ``multivariate`` is an experimental feature. The interface can change in the future.\n",
      "  warnings.warn(\n",
      "2025/04/22 22:27:24 INFO dspy.teleprompt.mipro_optimizer_v2: == Trial 2 / 11 - Minibatch ==\n"
     ]
    },
    {
     "name": "stdout",
     "output_type": "stream",
     "text": [
      "\r  0%|          | 0/4 [00:00<?, ?it/s]\rAverage Metric: 1.00 / 1 (100.0%):   0%|          | 0/4 [00:08<?, ?it/s]\rAverage Metric: 1.00 / 1 (100.0%):  25%|██▌       | 1/4 [00:08<00:26,  8.82s/it]\rAverage Metric: 2.00 / 2 (100.0%):  25%|██▌       | 1/4 [00:09<00:26,  8.82s/it]\rAverage Metric: 2.00 / 2 (100.0%):  50%|█████     | 2/4 [00:09<00:08,  4.08s/it]\rAverage Metric: 3.00 / 3 (100.0%):  50%|█████     | 2/4 [00:15<00:08,  4.08s/it]\rAverage Metric: 3.00 / 3 (100.0%):  75%|███████▌  | 3/4 [00:15<00:05,  5.04s/it]\rAverage Metric: 4.00 / 4 (100.0%):  75%|███████▌  | 3/4 [00:16<00:05,  5.04s/it]\rAverage Metric: 4.00 / 4 (100.0%): 100%|██████████| 4/4 [00:16<00:00,  3.37s/it]\rAverage Metric: 4.00 / 4 (100.0%): 100%|██████████| 4/4 [00:16<00:00,  4.15s/it]"
     ]
    },
    {
     "name": "stderr",
     "output_type": "stream",
     "text": [
      "2025/04/22 22:27:41 INFO dspy.evaluate.evaluate: Average Metric: 4 / 4 (100.0%)\n",
      "INFO:py4j.clientserver:Closing down clientserver connection\n",
      "INFO:py4j.clientserver:Closing down clientserver connection\n",
      "INFO:py4j.clientserver:Closing down clientserver connection\n",
      "INFO:py4j.clientserver:Closing down clientserver connection\n"
     ]
    },
    {
     "name": "stdout",
     "output_type": "stream",
     "text": [
      "\n"
     ]
    },
    {
     "name": "stderr",
     "output_type": "stream",
     "text": [
      "2025/04/22 22:27:42 INFO dspy.teleprompt.mipro_optimizer_v2: Score: 100.0 on minibatch of size 4 with parameters ['Predictor 0: Instruction 1', 'Predictor 0: Few-Shot Set 2'].\n",
      "2025/04/22 22:27:42 INFO dspy.teleprompt.mipro_optimizer_v2: Minibatch scores so far: [100.0]\n",
      "2025/04/22 22:27:42 INFO dspy.teleprompt.mipro_optimizer_v2: Full eval scores so far: [86.0]\n",
      "2025/04/22 22:27:42 INFO dspy.teleprompt.mipro_optimizer_v2: Best full score so far: 86.0\n",
      "2025/04/22 22:27:42 INFO dspy.teleprompt.mipro_optimizer_v2: =========================================\n",
      "\n",
      "\n",
      "2025/04/22 22:27:42 INFO dspy.teleprompt.mipro_optimizer_v2: == Trial 3 / 11 - Minibatch ==\n"
     ]
    },
    {
     "name": "stdout",
     "output_type": "stream",
     "text": [
      "\r  0%|          | 0/4 [00:00<?, ?it/s]\rAverage Metric: 1.00 / 1 (100.0%):   0%|          | 0/4 [00:03<?, ?it/s]\rAverage Metric: 1.00 / 1 (100.0%):  25%|██▌       | 1/4 [00:03<00:11,  3.93s/it]\rAverage Metric: 2.00 / 2 (100.0%):  25%|██▌       | 1/4 [00:05<00:11,  3.93s/it]\rAverage Metric: 2.00 / 2 (100.0%):  50%|█████     | 2/4 [00:05<00:05,  2.56s/it]\rAverage Metric: 3.00 / 3 (100.0%):  50%|█████     | 2/4 [00:06<00:05,  2.56s/it]\rAverage Metric: 3.00 / 3 (100.0%):  75%|███████▌  | 3/4 [00:06<00:01,  1.79s/it]\rAverage Metric: 4.00 / 4 (100.0%):  75%|███████▌  | 3/4 [00:10<00:01,  1.79s/it]\rAverage Metric: 4.00 / 4 (100.0%): 100%|██████████| 4/4 [00:10<00:00,  2.62s/it]\rAverage Metric: 4.00 / 4 (100.0%): 100%|██████████| 4/4 [00:10<00:00,  2.58s/it]"
     ]
    },
    {
     "name": "stderr",
     "output_type": "stream",
     "text": [
      "2025/04/22 22:27:53 INFO dspy.evaluate.evaluate: Average Metric: 4 / 4 (100.0%)\n",
      "INFO:py4j.clientserver:Closing down clientserver connection\n",
      "INFO:py4j.clientserver:Closing down clientserver connection\n",
      "INFO:py4j.clientserver:Closing down clientserver connection\n",
      "INFO:py4j.clientserver:Closing down clientserver connection\n"
     ]
    },
    {
     "name": "stdout",
     "output_type": "stream",
     "text": [
      "\n"
     ]
    },
    {
     "name": "stderr",
     "output_type": "stream",
     "text": [
      "2025/04/22 22:27:53 INFO dspy.teleprompt.mipro_optimizer_v2: Score: 100.0 on minibatch of size 4 with parameters ['Predictor 0: Instruction 3', 'Predictor 0: Few-Shot Set 0'].\n",
      "2025/04/22 22:27:53 INFO dspy.teleprompt.mipro_optimizer_v2: Minibatch scores so far: [100.0, 100.0]\n",
      "2025/04/22 22:27:53 INFO dspy.teleprompt.mipro_optimizer_v2: Full eval scores so far: [86.0]\n",
      "2025/04/22 22:27:53 INFO dspy.teleprompt.mipro_optimizer_v2: Best full score so far: 86.0\n",
      "2025/04/22 22:27:53 INFO dspy.teleprompt.mipro_optimizer_v2: =========================================\n",
      "\n",
      "\n",
      "2025/04/22 22:27:53 INFO dspy.teleprompt.mipro_optimizer_v2: == Trial 4 / 11 - Minibatch ==\n"
     ]
    },
    {
     "name": "stdout",
     "output_type": "stream",
     "text": [
      "\r  0%|          | 0/4 [00:00<?, ?it/s]\rAverage Metric: 0.00 / 1 (0.0%):   0%|          | 0/4 [00:04<?, ?it/s]\rAverage Metric: 0.00 / 1 (0.0%):  25%|██▌       | 1/4 [00:04<00:13,  4.48s/it]\rAverage Metric: 1.00 / 2 (50.0%):  25%|██▌       | 1/4 [00:04<00:13,  4.48s/it]\rAverage Metric: 2.00 / 3 (66.7%):  50%|█████     | 2/4 [00:04<00:08,  4.48s/it]\rAverage Metric: 2.00 / 3 (66.7%):  75%|███████▌  | 3/4 [00:04<00:01,  1.23s/it]\rAverage Metric: 3.00 / 4 (75.0%):  75%|███████▌  | 3/4 [00:07<00:01,  1.23s/it]\rAverage Metric: 3.00 / 4 (75.0%): 100%|██████████| 4/4 [00:07<00:00,  1.82s/it]\rAverage Metric: 3.00 / 4 (75.0%): 100%|██████████| 4/4 [00:07<00:00,  1.90s/it]"
     ]
    },
    {
     "name": "stderr",
     "output_type": "stream",
     "text": [
      "2025/04/22 22:28:02 INFO dspy.evaluate.evaluate: Average Metric: 3 / 4 (75.0%)\n",
      "INFO:py4j.clientserver:Closing down clientserver connection\n",
      "INFO:py4j.clientserver:Closing down clientserver connection\n",
      "INFO:py4j.clientserver:Closing down clientserver connection\n",
      "INFO:py4j.clientserver:Closing down clientserver connection\n"
     ]
    },
    {
     "name": "stdout",
     "output_type": "stream",
     "text": [
      "\n"
     ]
    },
    {
     "name": "stderr",
     "output_type": "stream",
     "text": [
      "2025/04/22 22:28:02 INFO dspy.teleprompt.mipro_optimizer_v2: Score: 75.0 on minibatch of size 4 with parameters ['Predictor 0: Instruction 0', 'Predictor 0: Few-Shot Set 2'].\n",
      "2025/04/22 22:28:02 INFO dspy.teleprompt.mipro_optimizer_v2: Minibatch scores so far: [100.0, 100.0, 75.0]\n",
      "2025/04/22 22:28:02 INFO dspy.teleprompt.mipro_optimizer_v2: Full eval scores so far: [86.0]\n",
      "2025/04/22 22:28:02 INFO dspy.teleprompt.mipro_optimizer_v2: Best full score so far: 86.0\n",
      "2025/04/22 22:28:02 INFO dspy.teleprompt.mipro_optimizer_v2: =========================================\n",
      "\n",
      "\n",
      "2025/04/22 22:28:02 INFO dspy.teleprompt.mipro_optimizer_v2: == Trial 5 / 11 - Minibatch ==\n"
     ]
    },
    {
     "name": "stdout",
     "output_type": "stream",
     "text": [
      "\r  0%|          | 0/4 [00:00<?, ?it/s]\rAverage Metric: 1.00 / 1 (100.0%):   0%|          | 0/4 [00:08<?, ?it/s]\rAverage Metric: 1.00 / 1 (100.0%):  25%|██▌       | 1/4 [00:08<00:25,  8.35s/it]\rAverage Metric: 2.00 / 2 (100.0%):  25%|██▌       | 1/4 [00:08<00:25,  8.35s/it]\rAverage Metric: 2.00 / 2 (100.0%):  50%|█████     | 2/4 [00:08<00:07,  3.60s/it]\rAverage Metric: 3.00 / 3 (100.0%):  50%|█████     | 2/4 [00:18<00:07,  3.60s/it]\rAverage Metric: 3.00 / 3 (100.0%):  75%|███████▌  | 3/4 [00:18<00:06,  6.33s/it]\rAverage Metric: 4.00 / 4 (100.0%):  75%|███████▌  | 3/4 [00:18<00:06,  6.33s/it]\rAverage Metric: 4.00 / 4 (100.0%): 100%|██████████| 4/4 [00:18<00:00,  3.98s/it]\rAverage Metric: 4.00 / 4 (100.0%): 100%|██████████| 4/4 [00:18<00:00,  4.64s/it]"
     ]
    },
    {
     "name": "stderr",
     "output_type": "stream",
     "text": [
      "2025/04/22 22:28:21 INFO dspy.evaluate.evaluate: Average Metric: 4 / 4 (100.0%)\n",
      "INFO:py4j.clientserver:Closing down clientserver connection\n",
      "INFO:py4j.clientserver:Closing down clientserver connection\n",
      "INFO:py4j.clientserver:Closing down clientserver connection\n",
      "INFO:py4j.clientserver:Closing down clientserver connection\n"
     ]
    },
    {
     "name": "stdout",
     "output_type": "stream",
     "text": [
      "\n"
     ]
    },
    {
     "name": "stderr",
     "output_type": "stream",
     "text": [
      "2025/04/22 22:28:22 INFO dspy.teleprompt.mipro_optimizer_v2: Score: 100.0 on minibatch of size 4 with parameters ['Predictor 0: Instruction 2', 'Predictor 0: Few-Shot Set 1'].\n",
      "2025/04/22 22:28:22 INFO dspy.teleprompt.mipro_optimizer_v2: Minibatch scores so far: [100.0, 100.0, 75.0, 100.0]\n",
      "2025/04/22 22:28:22 INFO dspy.teleprompt.mipro_optimizer_v2: Full eval scores so far: [86.0]\n",
      "2025/04/22 22:28:22 INFO dspy.teleprompt.mipro_optimizer_v2: Best full score so far: 86.0\n",
      "2025/04/22 22:28:22 INFO dspy.teleprompt.mipro_optimizer_v2: =========================================\n",
      "\n",
      "\n",
      "2025/04/22 22:28:22 INFO dspy.teleprompt.mipro_optimizer_v2: ===== Trial 6 / 11 - Full Evaluation =====\n",
      "2025/04/22 22:28:22 INFO dspy.teleprompt.mipro_optimizer_v2: Doing full eval on next top averaging program (Avg Score: 100.0) from minibatch trials...\n"
     ]
    },
    {
     "name": "stdout",
     "output_type": "stream",
     "text": [
      "\r  0%|          | 0/100 [00:00<?, ?it/s]\rAverage Metric: 1.00 / 1 (100.0%):   0%|          | 0/100 [00:03<?, ?it/s]\rAverage Metric: 1.00 / 1 (100.0%):   1%|          | 1/100 [00:03<05:34,  3.38s/it]\rAverage Metric: 2.00 / 2 (100.0%):   1%|          | 1/100 [00:04<05:34,  3.38s/it]\rAverage Metric: 2.00 / 2 (100.0%):   2%|▏         | 2/100 [00:04<03:20,  2.04s/it]\rAverage Metric: 3.00 / 3 (100.0%):   2%|▏         | 2/100 [00:07<03:20,  2.04s/it]\rAverage Metric: 3.00 / 3 (100.0%):   3%|▎         | 3/100 [00:07<03:57,  2.45s/it]\rAverage Metric: 4.00 / 4 (100.0%):   3%|▎         | 3/100 [00:08<03:57,  2.45s/it]\rAverage Metric: 4.00 / 4 (100.0%):   4%|▍         | 4/100 [00:08<02:52,  1.80s/it]\rAverage Metric: 5.00 / 5 (100.0%):   4%|▍         | 4/100 [00:08<02:52,  1.80s/it]\rAverage Metric: 5.00 / 5 (100.0%):   5%|▌         | 5/100 [00:08<02:04,  1.31s/it]\rAverage Metric: 6.00 / 6 (100.0%):   5%|▌         | 5/100 [00:09<02:04,  1.31s/it]\rAverage Metric: 6.00 / 6 (100.0%):   6%|▌         | 6/100 [00:09<01:50,  1.18s/it]\rAverage Metric: 7.00 / 7 (100.0%):   6%|▌         | 6/100 [00:12<01:50,  1.18s/it]\rAverage Metric: 7.00 / 7 (100.0%):   7%|▋         | 7/100 [00:12<02:31,  1.63s/it]\rAverage Metric: 8.00 / 8 (100.0%):   7%|▋         | 7/100 [00:14<02:31,  1.63s/it]\rAverage Metric: 8.00 / 8 (100.0%):   8%|▊         | 8/100 [00:14<02:40,  1.74s/it]\rAverage Metric: 9.00 / 9 (100.0%):   8%|▊         | 8/100 [00:14<02:40,  1.74s/it]\rAverage Metric: 9.00 / 9 (100.0%):   9%|▉         | 9/100 [00:14<02:01,  1.33s/it]\rAverage Metric: 9.00 / 10 (90.0%):   9%|▉         | 9/100 [00:16<02:01,  1.33s/it]\rAverage Metric: 9.00 / 10 (90.0%):  10%|█         | 10/100 [00:16<02:30,  1.67s/it]\rAverage Metric: 10.00 / 11 (90.9%):  10%|█         | 10/100 [00:17<02:30,  1.67s/it]\rAverage Metric: 10.00 / 11 (90.9%):  11%|█         | 11/100 [00:17<01:57,  1.33s/it]\rAverage Metric: 11.00 / 12 (91.7%):  11%|█         | 11/100 [00:17<01:57,  1.33s/it]\rAverage Metric: 11.00 / 12 (91.7%):  12%|█▏        | 12/100 [00:17<01:33,  1.06s/it]\rAverage Metric: 12.00 / 13 (92.3%):  12%|█▏        | 12/100 [00:18<01:33,  1.06s/it]\rAverage Metric: 12.00 / 13 (92.3%):  13%|█▎        | 13/100 [00:18<01:17,  1.12it/s]\rAverage Metric: 12.00 / 14 (85.7%):  13%|█▎        | 13/100 [00:18<01:17,  1.12it/s]\rAverage Metric: 12.00 / 14 (85.7%):  14%|█▍        | 14/100 [00:18<01:06,  1.30it/s]\rAverage Metric: 13.00 / 15 (86.7%):  14%|█▍        | 14/100 [00:22<01:06,  1.30it/s]\rAverage Metric: 13.00 / 15 (86.7%):  15%|█▌        | 15/100 [00:22<02:13,  1.57s/it]\rAverage Metric: 14.00 / 16 (87.5%):  15%|█▌        | 15/100 [00:23<02:13,  1.57s/it]\rAverage Metric: 14.00 / 16 (87.5%):  16%|█▌        | 16/100 [00:23<02:11,  1.57s/it]\rAverage Metric: 15.00 / 17 (88.2%):  16%|█▌        | 16/100 [00:24<02:11,  1.57s/it]\rAverage Metric: 15.00 / 17 (88.2%):  17%|█▋        | 17/100 [00:24<01:37,  1.17s/it]\rAverage Metric: 16.00 / 18 (88.9%):  17%|█▋        | 17/100 [00:28<01:37,  1.17s/it]\rAverage Metric: 16.00 / 18 (88.9%):  18%|█▊        | 18/100 [00:28<02:48,  2.05s/it]"
     ]
    },
    {
     "name": "stderr",
     "output_type": "stream",
     "text": [
      "2025/04/22 22:28:53 WARNING dspy.adapters.json_adapter: Failed to use structured output format. Falling back to JSON mode. Error: 'list' object has no attribute 'items'\n"
     ]
    },
    {
     "name": "stdout",
     "output_type": "stream",
     "text": [
      "\rAverage Metric: 16.00 / 19 (84.2%):  18%|█▊        | 18/100 [00:31<02:48,  2.05s/it]\rAverage Metric: 16.00 / 19 (84.2%):  19%|█▉        | 19/100 [00:31<03:14,  2.40s/it]\rAverage Metric: 16.00 / 20 (80.0%):  19%|█▉        | 19/100 [00:32<03:14,  2.40s/it]\rAverage Metric: 16.00 / 20 (80.0%):  20%|██        | 20/100 [00:32<02:32,  1.91s/it]\rAverage Metric: 17.00 / 21 (81.0%):  20%|██        | 20/100 [00:32<02:32,  1.91s/it]\rAverage Metric: 17.00 / 21 (81.0%):  21%|██        | 21/100 [00:32<01:59,  1.51s/it]\rAverage Metric: 18.00 / 22 (81.8%):  21%|██        | 21/100 [00:33<01:59,  1.51s/it]\rAverage Metric: 18.00 / 22 (81.8%):  22%|██▏       | 22/100 [00:33<01:29,  1.15s/it]\rAverage Metric: 19.00 / 23 (82.6%):  22%|██▏       | 22/100 [00:33<01:29,  1.15s/it]\rAverage Metric: 19.00 / 23 (82.6%):  23%|██▎       | 23/100 [00:33<01:13,  1.04it/s]\rAverage Metric: 20.00 / 24 (83.3%):  23%|██▎       | 23/100 [00:40<01:13,  1.04it/s]\rAverage Metric: 20.00 / 24 (83.3%):  24%|██▍       | 24/100 [00:40<03:22,  2.67s/it]\rAverage Metric: 21.00 / 25 (84.0%):  24%|██▍       | 24/100 [00:43<03:22,  2.67s/it]\rAverage Metric: 21.00 / 25 (84.0%):  25%|██▌       | 25/100 [00:43<03:32,  2.83s/it]\rAverage Metric: 22.00 / 26 (84.6%):  25%|██▌       | 25/100 [00:45<03:32,  2.83s/it]\rAverage Metric: 22.00 / 26 (84.6%):  26%|██▌       | 26/100 [00:45<02:59,  2.43s/it]\rAverage Metric: 23.00 / 27 (85.2%):  26%|██▌       | 26/100 [00:45<02:59,  2.43s/it]\rAverage Metric: 23.00 / 27 (85.2%):  27%|██▋       | 27/100 [00:45<02:20,  1.92s/it]\rAverage Metric: 24.00 / 28 (85.7%):  27%|██▋       | 27/100 [00:45<02:20,  1.92s/it]\rAverage Metric: 24.00 / 28 (85.7%):  28%|██▊       | 28/100 [00:45<01:40,  1.40s/it]\rAverage Metric: 25.00 / 29 (86.2%):  28%|██▊       | 28/100 [00:46<01:40,  1.40s/it]\rAverage Metric: 25.00 / 29 (86.2%):  29%|██▉       | 29/100 [00:46<01:23,  1.17s/it]\rAverage Metric: 26.00 / 30 (86.7%):  29%|██▉       | 29/100 [00:47<01:23,  1.17s/it]\rAverage Metric: 26.00 / 30 (86.7%):  30%|███       | 30/100 [00:47<01:26,  1.24s/it]\rAverage Metric: 27.00 / 31 (87.1%):  30%|███       | 30/100 [00:49<01:26,  1.24s/it]\rAverage Metric: 27.00 / 31 (87.1%):  31%|███       | 31/100 [00:49<01:22,  1.20s/it]\rAverage Metric: 27.00 / 32 (84.4%):  31%|███       | 31/100 [00:49<01:22,  1.20s/it]\rAverage Metric: 27.00 / 32 (84.4%):  32%|███▏      | 32/100 [00:49<00:59,  1.13it/s]\rAverage Metric: 28.00 / 33 (84.8%):  32%|███▏      | 32/100 [00:51<00:59,  1.13it/s]\rAverage Metric: 28.00 / 33 (84.8%):  33%|███▎      | 33/100 [00:51<01:17,  1.16s/it]\rAverage Metric: 28.00 / 34 (82.4%):  33%|███▎      | 33/100 [00:52<01:17,  1.16s/it]\rAverage Metric: 28.00 / 34 (82.4%):  34%|███▍      | 34/100 [00:52<01:15,  1.15s/it]\rAverage Metric: 29.00 / 35 (82.9%):  34%|███▍      | 34/100 [00:53<01:15,  1.15s/it]\rAverage Metric: 29.00 / 35 (82.9%):  35%|███▌      | 35/100 [00:53<01:21,  1.25s/it]\rAverage Metric: 30.00 / 36 (83.3%):  35%|███▌      | 35/100 [00:55<01:21,  1.25s/it]\rAverage Metric: 30.00 / 36 (83.3%):  36%|███▌      | 36/100 [00:55<01:37,  1.52s/it]\rAverage Metric: 31.00 / 37 (83.8%):  36%|███▌      | 36/100 [00:56<01:37,  1.52s/it]\rAverage Metric: 31.00 / 37 (83.8%):  37%|███▋      | 37/100 [00:56<01:26,  1.38s/it]\rAverage Metric: 32.00 / 38 (84.2%):  37%|███▋      | 37/100 [00:56<01:26,  1.38s/it]\rAverage Metric: 32.00 / 38 (84.2%):  38%|███▊      | 38/100 [00:56<01:02,  1.01s/it]\rAverage Metric: 33.00 / 39 (84.6%):  38%|███▊      | 38/100 [00:57<01:02,  1.01s/it]\rAverage Metric: 33.00 / 39 (84.6%):  39%|███▉      | 39/100 [00:57<00:55,  1.10it/s]\rAverage Metric: 34.00 / 40 (85.0%):  39%|███▉      | 39/100 [00:59<00:55,  1.10it/s]\rAverage Metric: 34.00 / 40 (85.0%):  40%|████      | 40/100 [00:59<01:12,  1.20s/it]\rAverage Metric: 34.00 / 41 (82.9%):  40%|████      | 40/100 [01:00<01:12,  1.20s/it]\rAverage Metric: 34.00 / 41 (82.9%):  41%|████      | 41/100 [01:00<01:05,  1.12s/it]\rAverage Metric: 35.00 / 42 (83.3%):  41%|████      | 41/100 [01:00<01:05,  1.12s/it]\rAverage Metric: 35.00 / 42 (83.3%):  42%|████▏     | 42/100 [01:00<00:51,  1.13it/s]\rAverage Metric: 35.00 / 43 (81.4%):  42%|████▏     | 42/100 [01:02<00:51,  1.13it/s]\rAverage Metric: 35.00 / 43 (81.4%):  43%|████▎     | 43/100 [01:02<00:57,  1.01s/it]\rAverage Metric: 36.00 / 44 (81.8%):  43%|████▎     | 43/100 [01:04<00:57,  1.01s/it]\rAverage Metric: 36.00 / 44 (81.8%):  44%|████▍     | 44/100 [01:04<01:20,  1.44s/it]\rAverage Metric: 37.00 / 45 (82.2%):  44%|████▍     | 44/100 [01:04<01:20,  1.44s/it]\rAverage Metric: 37.00 / 45 (82.2%):  45%|████▌     | 45/100 [01:04<01:01,  1.12s/it]\rAverage Metric: 38.00 / 46 (82.6%):  45%|████▌     | 45/100 [01:04<01:01,  1.12s/it]\rAverage Metric: 39.00 / 47 (83.0%):  46%|████▌     | 46/100 [01:07<01:00,  1.12s/it]\rAverage Metric: 39.00 / 47 (83.0%):  47%|████▋     | 47/100 [01:07<01:01,  1.17s/it]\rAverage Metric: 40.00 / 48 (83.3%):  47%|████▋     | 47/100 [01:09<01:01,  1.17s/it]\rAverage Metric: 40.00 / 48 (83.3%):  48%|████▊     | 48/100 [01:09<01:07,  1.30s/it]\rAverage Metric: 41.00 / 49 (83.7%):  48%|████▊     | 48/100 [01:09<01:07,  1.30s/it]\rAverage Metric: 41.00 / 49 (83.7%):  49%|████▉     | 49/100 [01:09<00:55,  1.10s/it]\rAverage Metric: 42.00 / 50 (84.0%):  49%|████▉     | 49/100 [01:10<00:55,  1.10s/it]\rAverage Metric: 42.00 / 50 (84.0%):  50%|█████     | 50/100 [01:10<00:56,  1.12s/it]\rAverage Metric: 43.00 / 51 (84.3%):  50%|█████     | 50/100 [01:11<00:56,  1.12s/it]\rAverage Metric: 43.00 / 51 (84.3%):  51%|█████     | 51/100 [01:11<00:43,  1.13it/s]\rAverage Metric: 44.00 / 52 (84.6%):  51%|█████     | 51/100 [01:12<00:43,  1.13it/s]\rAverage Metric: 44.00 / 52 (84.6%):  52%|█████▏    | 52/100 [01:12<00:44,  1.09it/s]\rAverage Metric: 45.00 / 53 (84.9%):  52%|█████▏    | 52/100 [01:12<00:44,  1.09it/s]\rAverage Metric: 45.00 / 53 (84.9%):  53%|█████▎    | 53/100 [01:12<00:35,  1.34it/s]\rAverage Metric: 46.00 / 54 (85.2%):  53%|█████▎    | 53/100 [01:15<00:35,  1.34it/s]\rAverage Metric: 46.00 / 54 (85.2%):  54%|█████▍    | 54/100 [01:15<01:10,  1.53s/it]"
     ]
    },
    {
     "name": "stderr",
     "output_type": "stream",
     "text": [
      "2025/04/22 22:29:39 WARNING dspy.adapters.json_adapter: Failed to use structured output format. Falling back to JSON mode. Error: 'list' object has no attribute 'items'\n"
     ]
    },
    {
     "name": "stdout",
     "output_type": "stream",
     "text": [
      "\rAverage Metric: 47.00 / 55 (85.5%):  54%|█████▍    | 54/100 [01:18<01:10,  1.53s/it]\rAverage Metric: 47.00 / 55 (85.5%):  55%|█████▌    | 55/100 [01:18<01:27,  1.94s/it]\rAverage Metric: 48.00 / 56 (85.7%):  55%|█████▌    | 55/100 [01:18<01:27,  1.94s/it]\rAverage Metric: 48.00 / 56 (85.7%):  56%|█████▌    | 56/100 [01:18<01:01,  1.41s/it]\rAverage Metric: 49.00 / 57 (86.0%):  56%|█████▌    | 56/100 [01:19<01:01,  1.41s/it]\rAverage Metric: 49.00 / 57 (86.0%):  57%|█████▋    | 57/100 [01:19<00:46,  1.08s/it]\rAverage Metric: 50.00 / 58 (86.2%):  57%|█████▋    | 57/100 [01:23<00:46,  1.08s/it]\rAverage Metric: 50.00 / 58 (86.2%):  58%|█████▊    | 58/100 [01:23<01:23,  1.98s/it]\rAverage Metric: 51.00 / 59 (86.4%):  58%|█████▊    | 58/100 [01:24<01:23,  1.98s/it]\rAverage Metric: 51.00 / 59 (86.4%):  59%|█████▉    | 59/100 [01:24<01:08,  1.66s/it]\rAverage Metric: 52.00 / 60 (86.7%):  59%|█████▉    | 59/100 [01:25<01:08,  1.66s/it]\rAverage Metric: 52.00 / 60 (86.7%):  60%|██████    | 60/100 [01:25<00:56,  1.41s/it]\rAverage Metric: 53.00 / 61 (86.9%):  60%|██████    | 60/100 [01:27<00:56,  1.41s/it]\rAverage Metric: 53.00 / 61 (86.9%):  61%|██████    | 61/100 [01:27<01:04,  1.66s/it]\rAverage Metric: 54.00 / 62 (87.1%):  61%|██████    | 61/100 [01:29<01:04,  1.66s/it]\rAverage Metric: 54.00 / 62 (87.1%):  62%|██████▏   | 62/100 [01:29<01:07,  1.79s/it]\rAverage Metric: 55.00 / 63 (87.3%):  62%|██████▏   | 62/100 [01:29<01:07,  1.79s/it]\rAverage Metric: 56.00 / 64 (87.5%):  63%|██████▎   | 63/100 [01:29<01:06,  1.79s/it]\rAverage Metric: 56.00 / 64 (87.5%):  64%|██████▍   | 64/100 [01:29<00:35,  1.00it/s]"
     ]
    },
    {
     "name": "stderr",
     "output_type": "stream",
     "text": [
      "2025/04/22 22:29:56 ERROR dspy.utils.parallelizer: Error for Example({'problem': 'Find $x$ such that $\\\\lceil x \\\\rceil \\\\cdot x = 135$. Express $x$ as a decimal.', 'level': 'Level 4', 'solution': 'First, we note that $x$ must be positive, since otherwise $\\\\lceil x \\\\rceil \\\\cdot x$ is nonpositive. Now, knowing that $\\\\lceil x \\\\rceil - 1 < x \\\\leq \\\\lceil x \\\\rceil,$ we see that $\\\\lceil x \\\\rceil$ must be $12,$ since $11 \\\\cdot 11 < 135 \\\\leq 12 \\\\cdot 12.$\\n\\nNow we see that $\\\\lceil x \\\\rceil \\\\cdot x = 12x = 135,$ so $x = \\\\frac{135}{12} = \\\\boxed{11.25}.$', 'type': 'Algebra'}) (input_keys={'problem'}): Both structured output format and JSON mode failed. Please choose a model that supports `response_format` argument. Original error: 'list' object has no attribute 'items'. Set `provide_traceback=True` for traceback.\n"
     ]
    },
    {
     "name": "stdout",
     "output_type": "stream",
     "text": [
      "\rAverage Metric: 56.00 / 64 (87.5%):  64%|██████▍   | 64/100 [01:33<00:35,  1.00it/s]\rAverage Metric: 56.00 / 64 (87.5%):  65%|██████▌   | 65/100 [01:33<00:59,  1.71s/it]\rAverage Metric: 57.00 / 65 (87.7%):  65%|██████▌   | 65/100 [01:35<00:59,  1.71s/it]\rAverage Metric: 57.00 / 65 (87.7%):  66%|██████▌   | 66/100 [01:35<00:57,  1.69s/it]\rAverage Metric: 58.00 / 66 (87.9%):  66%|██████▌   | 66/100 [01:35<00:57,  1.69s/it]\rAverage Metric: 58.00 / 66 (87.9%):  67%|██████▋   | 67/100 [01:35<00:47,  1.44s/it]\rAverage Metric: 59.00 / 67 (88.1%):  67%|██████▋   | 67/100 [01:37<00:47,  1.44s/it]\rAverage Metric: 59.00 / 67 (88.1%):  68%|██████▊   | 68/100 [01:37<00:50,  1.57s/it]\rAverage Metric: 60.00 / 68 (88.2%):  68%|██████▊   | 68/100 [01:38<00:50,  1.57s/it]\rAverage Metric: 60.00 / 68 (88.2%):  69%|██████▉   | 69/100 [01:38<00:40,  1.30s/it]\rAverage Metric: 61.00 / 69 (88.4%):  69%|██████▉   | 69/100 [01:38<00:40,  1.30s/it]\rAverage Metric: 61.00 / 69 (88.4%):  70%|███████   | 70/100 [01:38<00:30,  1.00s/it]\rAverage Metric: 61.00 / 70 (87.1%):  70%|███████   | 70/100 [01:42<00:30,  1.00s/it]\rAverage Metric: 61.00 / 70 (87.1%):  71%|███████   | 71/100 [01:42<00:50,  1.74s/it]\rAverage Metric: 62.00 / 71 (87.3%):  71%|███████   | 71/100 [01:42<00:50,  1.74s/it]\rAverage Metric: 62.00 / 71 (87.3%):  72%|███████▏  | 72/100 [01:42<00:38,  1.37s/it]\rAverage Metric: 63.00 / 72 (87.5%):  72%|███████▏  | 72/100 [01:44<00:38,  1.37s/it]\rAverage Metric: 63.00 / 72 (87.5%):  73%|███████▎  | 73/100 [01:44<00:42,  1.56s/it]\rAverage Metric: 64.00 / 73 (87.7%):  73%|███████▎  | 73/100 [01:44<00:42,  1.56s/it]\rAverage Metric: 65.00 / 74 (87.8%):  74%|███████▍  | 74/100 [01:45<00:40,  1.56s/it]\rAverage Metric: 65.00 / 74 (87.8%):  75%|███████▌  | 75/100 [01:45<00:25,  1.02s/it]\rAverage Metric: 66.00 / 75 (88.0%):  75%|███████▌  | 75/100 [01:48<00:25,  1.02s/it]\rAverage Metric: 66.00 / 75 (88.0%):  76%|███████▌  | 76/100 [01:48<00:35,  1.47s/it]\rAverage Metric: 67.00 / 76 (88.2%):  76%|███████▌  | 76/100 [01:48<00:35,  1.47s/it]\rAverage Metric: 67.00 / 76 (88.2%):  77%|███████▋  | 77/100 [01:48<00:29,  1.29s/it]\rAverage Metric: 68.00 / 77 (88.3%):  77%|███████▋  | 77/100 [01:49<00:29,  1.29s/it]\rAverage Metric: 68.00 / 77 (88.3%):  78%|███████▊  | 78/100 [01:49<00:21,  1.02it/s]\rAverage Metric: 69.00 / 78 (88.5%):  78%|███████▊  | 78/100 [01:50<00:21,  1.02it/s]\rAverage Metric: 69.00 / 78 (88.5%):  79%|███████▉  | 79/100 [01:50<00:21,  1.03s/it]\rAverage Metric: 70.00 / 79 (88.6%):  79%|███████▉  | 79/100 [01:51<00:21,  1.03s/it]\rAverage Metric: 70.00 / 79 (88.6%):  80%|████████  | 80/100 [01:51<00:23,  1.16s/it]\rAverage Metric: 71.00 / 80 (88.8%):  80%|████████  | 80/100 [01:54<00:23,  1.16s/it]\rAverage Metric: 71.00 / 80 (88.8%):  81%|████████  | 81/100 [01:54<00:30,  1.62s/it]\rAverage Metric: 72.00 / 81 (88.9%):  81%|████████  | 81/100 [01:54<00:30,  1.62s/it]\rAverage Metric: 72.00 / 81 (88.9%):  82%|████████▏ | 82/100 [01:54<00:21,  1.19s/it]\rAverage Metric: 73.00 / 82 (89.0%):  82%|████████▏ | 82/100 [01:55<00:21,  1.19s/it]\rAverage Metric: 73.00 / 82 (89.0%):  83%|████████▎ | 83/100 [01:55<00:19,  1.14s/it]\rAverage Metric: 74.00 / 83 (89.2%):  83%|████████▎ | 83/100 [01:59<00:19,  1.14s/it]\rAverage Metric: 74.00 / 83 (89.2%):  84%|████████▍ | 84/100 [01:59<00:30,  1.92s/it]\rAverage Metric: 75.00 / 84 (89.3%):  84%|████████▍ | 84/100 [02:00<00:30,  1.92s/it]\rAverage Metric: 75.00 / 84 (89.3%):  85%|████████▌ | 85/100 [02:00<00:26,  1.78s/it]\rAverage Metric: 76.00 / 85 (89.4%):  85%|████████▌ | 85/100 [02:01<00:26,  1.78s/it]\rAverage Metric: 76.00 / 85 (89.4%):  86%|████████▌ | 86/100 [02:01<00:19,  1.42s/it]\rAverage Metric: 77.00 / 86 (89.5%):  86%|████████▌ | 86/100 [02:02<00:19,  1.42s/it]\rAverage Metric: 77.00 / 86 (89.5%):  87%|████████▋ | 87/100 [02:02<00:15,  1.15s/it]\rAverage Metric: 78.00 / 87 (89.7%):  87%|████████▋ | 87/100 [02:02<00:15,  1.15s/it]\rAverage Metric: 78.00 / 87 (89.7%):  88%|████████▊ | 88/100 [02:02<00:11,  1.07it/s]\rAverage Metric: 79.00 / 88 (89.8%):  88%|████████▊ | 88/100 [02:03<00:11,  1.07it/s]\rAverage Metric: 79.00 / 88 (89.8%):  89%|████████▉ | 89/100 [02:03<00:09,  1.13it/s]\rAverage Metric: 80.00 / 89 (89.9%):  89%|████████▉ | 89/100 [02:08<00:09,  1.13it/s]\rAverage Metric: 80.00 / 89 (89.9%):  90%|█████████ | 90/100 [02:08<00:21,  2.14s/it]\rAverage Metric: 81.00 / 90 (90.0%):  90%|█████████ | 90/100 [02:08<00:21,  2.14s/it]\rAverage Metric: 81.00 / 90 (90.0%):  91%|█████████ | 91/100 [02:08<00:14,  1.60s/it]"
     ]
    },
    {
     "name": "stderr",
     "output_type": "stream",
     "text": [
      "2025/04/22 22:30:32 WARNING dspy.adapters.json_adapter: Failed to use structured output format. Falling back to JSON mode. Error: Expected dict_keys(['reasoning', 'answer']) but got dict_keys(['reasoning'])\n"
     ]
    },
    {
     "name": "stdout",
     "output_type": "stream",
     "text": [
      "\rAverage Metric: 81.00 / 91 (89.0%):  91%|█████████ | 91/100 [02:10<00:14,  1.60s/it]\rAverage Metric: 81.00 / 91 (89.0%):  92%|█████████▏| 92/100 [02:10<00:13,  1.63s/it]\rAverage Metric: 82.00 / 92 (89.1%):  92%|█████████▏| 92/100 [02:12<00:13,  1.63s/it]\rAverage Metric: 82.00 / 92 (89.1%):  93%|█████████▎| 93/100 [02:12<00:12,  1.76s/it]\rAverage Metric: 83.00 / 93 (89.2%):  93%|█████████▎| 93/100 [02:13<00:12,  1.76s/it]\rAverage Metric: 83.00 / 93 (89.2%):  94%|█████████▍| 94/100 [02:13<00:10,  1.67s/it]\rAverage Metric: 84.00 / 94 (89.4%):  94%|█████████▍| 94/100 [02:14<00:10,  1.67s/it]\rAverage Metric: 84.00 / 94 (89.4%):  95%|█████████▌| 95/100 [02:14<00:06,  1.35s/it]\rAverage Metric: 85.00 / 95 (89.5%):  95%|█████████▌| 95/100 [02:15<00:06,  1.35s/it]\rAverage Metric: 85.00 / 95 (89.5%):  96%|█████████▌| 96/100 [02:15<00:04,  1.22s/it]\rAverage Metric: 86.00 / 96 (89.6%):  96%|█████████▌| 96/100 [02:15<00:04,  1.22s/it]\rAverage Metric: 86.00 / 96 (89.6%):  97%|█████████▋| 97/100 [02:15<00:03,  1.03s/it]\rAverage Metric: 87.00 / 97 (89.7%):  97%|█████████▋| 97/100 [02:18<00:03,  1.03s/it]\rAverage Metric: 87.00 / 97 (89.7%):  98%|█████████▊| 98/100 [02:18<00:02,  1.37s/it]\rAverage Metric: 88.00 / 98 (89.8%):  98%|█████████▊| 98/100 [02:31<00:02,  1.37s/it]\rAverage Metric: 88.00 / 98 (89.8%):  99%|█████████▉| 99/100 [02:31<00:04,  4.98s/it]"
     ]
    },
    {
     "name": "stderr",
     "output_type": "stream",
     "text": [
      "2025/04/22 22:30:55 ERROR dspy.utils.parallelizer: Error for Example({'problem': 'The first term of a given sequence is 1, and each successive term is the sum of all the previous terms of the sequence. What is the value of the first term which exceeds 5000?', 'level': 'Level 4', 'solution': \"We calculate the first several terms directly and find the sequence starts\\n\\\\[ 1, 1, 2, 4, 8, 16, \\\\ldots \\\\] It appears the $n$th term is $2^{n-2}$ for $n\\\\geq 2$.  Since $2^{12}=4096$, the first power of 2 that exceeds 5000 is $2^{13}=\\\\boxed{8192}$.\\n\\nLet's prove by induction that the $n$th term of the sequence is $2^{n-2}$ for all integers $n\\\\geq 2$.  The base case $n=2$ holds since the second term of the sequence is the sum of all the terms before it, which is just 1.  For the induction step, let $n>2$ and suppose that the $(n-1)$st term is $2^{n-1-2}=2^{n-3}$.  Then the sum of the first $n-2$ terms of the sequence is $2^{n-3}$, since the $(n-1)$st term is equal to the sum of the first $n-2$ terms.  So the $n$th term, which is defined to be the sum of the first $n-1$ terms, is \\\\[\\\\underbrace{2^{n-3}}_{\\\\text{sum of first }n-2\\\\text{ terms}}+\\\\underbrace{2^{n-3}}_{(n-1)\\\\text{st term}}=2\\\\cdot2^{n-3}=2^{n-2}.\\\\]   This completes the induction step, so the statement is proved for all $n\\\\geq 2$.\", 'type': 'Algebra'}) (input_keys={'problem'}): Both structured output format and JSON mode failed. Please choose a model that supports `response_format` argument. Original error: Expected dict_keys(['reasoning', 'answer']) but got dict_keys(['reasoning']). Set `provide_traceback=True` for traceback.\n"
     ]
    },
    {
     "name": "stdout",
     "output_type": "stream",
     "text": [
      "\rAverage Metric: 88.00 / 98 (89.8%):  99%|█████████▉| 99/100 [02:32<00:04,  4.98s/it]\rAverage Metric: 88.00 / 98 (89.8%): 100%|██████████| 100/100 [02:32<00:00,  3.66s/it]\rAverage Metric: 88.00 / 98 (89.8%): 100%|██████████| 100/100 [02:32<00:00,  1.52s/it]"
     ]
    },
    {
     "name": "stderr",
     "output_type": "stream",
     "text": [
      "2025/04/22 22:30:55 INFO dspy.evaluate.evaluate: Average Metric: 88.0 / 100 (88.0%)\n",
      "INFO:py4j.clientserver:Closing down clientserver connection\n",
      "INFO:py4j.clientserver:Closing down clientserver connection\n",
      "INFO:py4j.clientserver:Closing down clientserver connection\n",
      "INFO:py4j.clientserver:Closing down clientserver connection\n",
      "INFO:py4j.clientserver:Closing down clientserver connection\n",
      "INFO:py4j.clientserver:Closing down clientserver connection\n"
     ]
    },
    {
     "name": "stdout",
     "output_type": "stream",
     "text": [
      "\n"
     ]
    },
    {
     "name": "stderr",
     "output_type": "stream",
     "text": [
      "2025/04/22 22:30:55 INFO dspy.teleprompt.mipro_optimizer_v2: \u001b[92mNew best full eval score!\u001b[0m Score: 88.0\n",
      "2025/04/22 22:30:55 INFO dspy.teleprompt.mipro_optimizer_v2: Full eval scores so far: [86.0, 88.0]\n",
      "2025/04/22 22:30:55 INFO dspy.teleprompt.mipro_optimizer_v2: Best full score so far: 88.0\n",
      "2025/04/22 22:30:55 INFO dspy.teleprompt.mipro_optimizer_v2: =======================\n",
      "2025/04/22 22:30:55 INFO dspy.teleprompt.mipro_optimizer_v2: \n",
      "\n",
      "2025/04/22 22:30:55 INFO dspy.teleprompt.mipro_optimizer_v2: == Trial 7 / 11 - Minibatch ==\n"
     ]
    },
    {
     "name": "stdout",
     "output_type": "stream",
     "text": [
      "\r  0%|          | 0/4 [00:00<?, ?it/s]\rAverage Metric: 0.00 / 1 (0.0%):   0%|          | 0/4 [00:00<?, ?it/s]\rAverage Metric: 0.00 / 1 (0.0%):  25%|██▌       | 1/4 [00:00<00:01,  2.99it/s]\rAverage Metric: 0.00 / 2 (0.0%):  25%|██▌       | 1/4 [00:00<00:01,  2.99it/s]\rAverage Metric: 1.00 / 3 (33.3%):  50%|█████     | 2/4 [00:00<00:00,  2.99it/s]\rAverage Metric: 2.00 / 4 (50.0%):  75%|███████▌  | 3/4 [00:00<00:00,  2.99it/s]\rAverage Metric: 2.00 / 4 (50.0%): 100%|██████████| 4/4 [00:00<00:00,  9.39it/s]"
     ]
    },
    {
     "name": "stderr",
     "output_type": "stream",
     "text": [
      "2025/04/22 22:30:56 INFO dspy.evaluate.evaluate: Average Metric: 2 / 4 (50.0%)\n",
      "INFO:py4j.clientserver:Closing down clientserver connection\n",
      "INFO:py4j.clientserver:Closing down clientserver connection\n",
      "INFO:py4j.clientserver:Closing down clientserver connection\n",
      "INFO:py4j.clientserver:Closing down clientserver connection\n"
     ]
    },
    {
     "name": "stdout",
     "output_type": "stream",
     "text": [
      "\n"
     ]
    },
    {
     "name": "stderr",
     "output_type": "stream",
     "text": [
      "2025/04/22 22:30:56 INFO dspy.teleprompt.mipro_optimizer_v2: Score: 50.0 on minibatch of size 4 with parameters ['Predictor 0: Instruction 0', 'Predictor 0: Few-Shot Set 0'].\n",
      "2025/04/22 22:30:56 INFO dspy.teleprompt.mipro_optimizer_v2: Minibatch scores so far: [100.0, 100.0, 75.0, 100.0, 50.0]\n",
      "2025/04/22 22:30:56 INFO dspy.teleprompt.mipro_optimizer_v2: Full eval scores so far: [86.0, 88.0]\n",
      "2025/04/22 22:30:56 INFO dspy.teleprompt.mipro_optimizer_v2: Best full score so far: 88.0\n",
      "2025/04/22 22:30:56 INFO dspy.teleprompt.mipro_optimizer_v2: =========================================\n",
      "\n",
      "\n",
      "2025/04/22 22:30:56 INFO dspy.teleprompt.mipro_optimizer_v2: == Trial 8 / 11 - Minibatch ==\n"
     ]
    },
    {
     "name": "stdout",
     "output_type": "stream",
     "text": [
      "\r  0%|          | 0/4 [00:00<?, ?it/s]\rAverage Metric: 0.00 / 1 (0.0%):   0%|          | 0/4 [00:00<?, ?it/s]\rAverage Metric: 0.00 / 1 (0.0%):  25%|██▌       | 1/4 [00:00<00:01,  2.80it/s]\rAverage Metric: 0.00 / 2 (0.0%):  25%|██▌       | 1/4 [00:00<00:01,  2.80it/s]\rAverage Metric: 1.00 / 3 (33.3%):  50%|█████     | 2/4 [00:00<00:00,  2.80it/s]\rAverage Metric: 2.00 / 4 (50.0%):  75%|███████▌  | 3/4 [00:00<00:00,  2.80it/s]\rAverage Metric: 2.00 / 4 (50.0%): 100%|██████████| 4/4 [00:00<00:00,  8.96it/s]"
     ]
    },
    {
     "name": "stderr",
     "output_type": "stream",
     "text": [
      "2025/04/22 22:30:58 INFO dspy.evaluate.evaluate: Average Metric: 2 / 4 (50.0%)\n",
      "INFO:py4j.clientserver:Closing down clientserver connection\n",
      "INFO:py4j.clientserver:Closing down clientserver connection\n",
      "INFO:py4j.clientserver:Closing down clientserver connection\n",
      "INFO:py4j.clientserver:Closing down clientserver connection\n"
     ]
    },
    {
     "name": "stdout",
     "output_type": "stream",
     "text": [
      "\n"
     ]
    },
    {
     "name": "stderr",
     "output_type": "stream",
     "text": [
      "2025/04/22 22:30:58 INFO dspy.teleprompt.mipro_optimizer_v2: Score: 50.0 on minibatch of size 4 with parameters ['Predictor 0: Instruction 0', 'Predictor 0: Few-Shot Set 0'].\n",
      "2025/04/22 22:30:58 INFO dspy.teleprompt.mipro_optimizer_v2: Minibatch scores so far: [100.0, 100.0, 75.0, 100.0, 50.0, 50.0]\n",
      "2025/04/22 22:30:58 INFO dspy.teleprompt.mipro_optimizer_v2: Full eval scores so far: [86.0, 88.0]\n",
      "2025/04/22 22:30:58 INFO dspy.teleprompt.mipro_optimizer_v2: Best full score so far: 88.0\n",
      "2025/04/22 22:30:58 INFO dspy.teleprompt.mipro_optimizer_v2: =========================================\n",
      "\n",
      "\n",
      "2025/04/22 22:30:58 INFO dspy.teleprompt.mipro_optimizer_v2: == Trial 9 / 11 - Minibatch ==\n"
     ]
    },
    {
     "name": "stdout",
     "output_type": "stream",
     "text": [
      "\r  0%|          | 0/4 [00:00<?, ?it/s]\rAverage Metric: 1.00 / 1 (100.0%):   0%|          | 0/4 [00:00<?, ?it/s]\rAverage Metric: 1.00 / 1 (100.0%):  25%|██▌       | 1/4 [00:00<00:01,  2.98it/s]\rAverage Metric: 2.00 / 2 (100.0%):  25%|██▌       | 1/4 [00:00<00:01,  2.98it/s]\rAverage Metric: 3.00 / 3 (100.0%):  50%|█████     | 2/4 [00:00<00:00,  2.98it/s]\rAverage Metric: 4.00 / 4 (100.0%):  75%|███████▌  | 3/4 [00:00<00:00,  2.98it/s]\rAverage Metric: 4.00 / 4 (100.0%): 100%|██████████| 4/4 [00:00<00:00, 10.82it/s]"
     ]
    },
    {
     "name": "stderr",
     "output_type": "stream",
     "text": [
      "2025/04/22 22:30:59 INFO dspy.evaluate.evaluate: Average Metric: 4 / 4 (100.0%)\n",
      "INFO:py4j.clientserver:Closing down clientserver connection\n",
      "INFO:py4j.clientserver:Closing down clientserver connection\n",
      "INFO:py4j.clientserver:Closing down clientserver connection\n",
      "INFO:py4j.clientserver:Closing down clientserver connection\n"
     ]
    },
    {
     "name": "stdout",
     "output_type": "stream",
     "text": [
      "\n"
     ]
    },
    {
     "name": "stderr",
     "output_type": "stream",
     "text": [
      "2025/04/22 22:30:59 INFO dspy.teleprompt.mipro_optimizer_v2: Score: 100.0 on minibatch of size 4 with parameters ['Predictor 0: Instruction 0', 'Predictor 0: Few-Shot Set 0'].\n",
      "2025/04/22 22:30:59 INFO dspy.teleprompt.mipro_optimizer_v2: Minibatch scores so far: [100.0, 100.0, 75.0, 100.0, 50.0, 50.0, 100.0]\n",
      "2025/04/22 22:30:59 INFO dspy.teleprompt.mipro_optimizer_v2: Full eval scores so far: [86.0, 88.0]\n",
      "2025/04/22 22:30:59 INFO dspy.teleprompt.mipro_optimizer_v2: Best full score so far: 88.0\n",
      "2025/04/22 22:30:59 INFO dspy.teleprompt.mipro_optimizer_v2: =========================================\n",
      "\n",
      "\n",
      "2025/04/22 22:30:59 INFO dspy.teleprompt.mipro_optimizer_v2: == Trial 10 / 11 - Minibatch ==\n"
     ]
    },
    {
     "name": "stdout",
     "output_type": "stream",
     "text": [
      "\r  0%|          | 0/4 [00:00<?, ?it/s]\rAverage Metric: 1.00 / 1 (100.0%):   0%|          | 0/4 [00:00<?, ?it/s]\rAverage Metric: 1.00 / 1 (100.0%):  25%|██▌       | 1/4 [00:00<00:01,  2.47it/s]\rAverage Metric: 2.00 / 2 (100.0%):  25%|██▌       | 1/4 [00:08<00:01,  2.47it/s]\rAverage Metric: 2.00 / 2 (100.0%):  50%|█████     | 2/4 [00:08<00:09,  4.76s/it]\rAverage Metric: 3.00 / 3 (100.0%):  50%|█████     | 2/4 [00:09<00:09,  4.76s/it]\rAverage Metric: 3.00 / 3 (100.0%):  75%|███████▌  | 3/4 [00:09<00:03,  3.39s/it]\rAverage Metric: 4.00 / 4 (100.0%):  75%|███████▌  | 3/4 [00:18<00:03,  3.39s/it]\rAverage Metric: 4.00 / 4 (100.0%): 100%|██████████| 4/4 [00:18<00:00,  5.59s/it]\rAverage Metric: 4.00 / 4 (100.0%): 100%|██████████| 4/4 [00:18<00:00,  4.74s/it]"
     ]
    },
    {
     "name": "stderr",
     "output_type": "stream",
     "text": [
      "2025/04/22 22:31:19 INFO dspy.evaluate.evaluate: Average Metric: 4 / 4 (100.0%)\n",
      "INFO:py4j.clientserver:Closing down clientserver connection\n",
      "INFO:py4j.clientserver:Closing down clientserver connection\n",
      "INFO:py4j.clientserver:Closing down clientserver connection\n",
      "INFO:py4j.clientserver:Closing down clientserver connection\n"
     ]
    },
    {
     "name": "stdout",
     "output_type": "stream",
     "text": [
      "\n"
     ]
    },
    {
     "name": "stderr",
     "output_type": "stream",
     "text": [
      "2025/04/22 22:31:19 INFO dspy.teleprompt.mipro_optimizer_v2: Score: 100.0 on minibatch of size 4 with parameters ['Predictor 0: Instruction 0', 'Predictor 0: Few-Shot Set 2'].\n",
      "2025/04/22 22:31:19 INFO dspy.teleprompt.mipro_optimizer_v2: Minibatch scores so far: [100.0, 100.0, 75.0, 100.0, 50.0, 50.0, 100.0, 100.0]\n",
      "2025/04/22 22:31:19 INFO dspy.teleprompt.mipro_optimizer_v2: Full eval scores so far: [86.0, 88.0]\n",
      "2025/04/22 22:31:19 INFO dspy.teleprompt.mipro_optimizer_v2: Best full score so far: 88.0\n",
      "2025/04/22 22:31:19 INFO dspy.teleprompt.mipro_optimizer_v2: ==========================================\n",
      "\n",
      "\n",
      "2025/04/22 22:31:19 INFO dspy.teleprompt.mipro_optimizer_v2: ===== Trial 11 / 11 - Full Evaluation =====\n",
      "2025/04/22 22:31:19 INFO dspy.teleprompt.mipro_optimizer_v2: Doing full eval on next top averaging program (Avg Score: 100.0) from minibatch trials...\n"
     ]
    },
    {
     "name": "stdout",
     "output_type": "stream",
     "text": [
      "\r  0%|          | 0/100 [00:00<?, ?it/s]\rAverage Metric: 1.00 / 1 (100.0%):   0%|          | 0/100 [00:02<?, ?it/s]\rAverage Metric: 1.00 / 1 (100.0%):   1%|          | 1/100 [00:02<04:27,  2.70s/it]\rAverage Metric: 2.00 / 2 (100.0%):   1%|          | 1/100 [00:04<04:27,  2.70s/it]\rAverage Metric: 2.00 / 2 (100.0%):   2%|▏         | 2/100 [00:04<03:17,  2.02s/it]\rAverage Metric: 3.00 / 3 (100.0%):   2%|▏         | 2/100 [00:08<03:17,  2.02s/it]\rAverage Metric: 3.00 / 3 (100.0%):   3%|▎         | 3/100 [00:08<05:06,  3.16s/it]\rAverage Metric: 4.00 / 4 (100.0%):   3%|▎         | 3/100 [00:08<05:06,  3.16s/it]\rAverage Metric: 5.00 / 5 (100.0%):   4%|▍         | 4/100 [00:10<05:03,  3.16s/it]\rAverage Metric: 5.00 / 5 (100.0%):   5%|▌         | 5/100 [00:10<02:49,  1.78s/it]\rAverage Metric: 6.00 / 6 (100.0%):   5%|▌         | 5/100 [00:11<02:49,  1.78s/it]\rAverage Metric: 6.00 / 6 (100.0%):   6%|▌         | 6/100 [00:11<02:44,  1.75s/it]\rAverage Metric: 6.00 / 7 (85.7%):   6%|▌         | 6/100 [00:14<02:44,  1.75s/it] \rAverage Metric: 6.00 / 7 (85.7%):   7%|▋         | 7/100 [00:14<03:13,  2.08s/it]\rAverage Metric: 7.00 / 8 (87.5%):   7%|▋         | 7/100 [00:15<03:13,  2.08s/it]\rAverage Metric: 7.00 / 8 (87.5%):   8%|▊         | 8/100 [00:15<02:45,  1.80s/it]\rAverage Metric: 8.00 / 9 (88.9%):   8%|▊         | 8/100 [00:16<02:45,  1.80s/it]\rAverage Metric: 8.00 / 9 (88.9%):   9%|▉         | 9/100 [00:16<02:12,  1.45s/it]\rAverage Metric: 9.00 / 10 (90.0%):   9%|▉         | 9/100 [00:18<02:12,  1.45s/it]\rAverage Metric: 9.00 / 10 (90.0%):  10%|█         | 10/100 [00:18<02:14,  1.49s/it]\rAverage Metric: 10.00 / 11 (90.9%):  10%|█         | 10/100 [00:19<02:14,  1.49s/it]\rAverage Metric: 10.00 / 11 (90.9%):  11%|█         | 11/100 [00:19<02:12,  1.49s/it]\rAverage Metric: 11.00 / 12 (91.7%):  11%|█         | 11/100 [00:19<02:12,  1.49s/it]\rAverage Metric: 11.00 / 12 (91.7%):  12%|█▏        | 12/100 [00:19<01:39,  1.13s/it]\rAverage Metric: 12.00 / 13 (92.3%):  12%|█▏        | 12/100 [00:22<01:39,  1.13s/it]\rAverage Metric: 12.00 / 13 (92.3%):  13%|█▎        | 13/100 [00:22<02:17,  1.58s/it]\rAverage Metric: 13.00 / 14 (92.9%):  13%|█▎        | 13/100 [00:23<02:17,  1.58s/it]\rAverage Metric: 13.00 / 14 (92.9%):  14%|█▍        | 14/100 [00:23<01:48,  1.26s/it]\rAverage Metric: 14.00 / 15 (93.3%):  14%|█▍        | 14/100 [00:25<01:48,  1.26s/it]\rAverage Metric: 14.00 / 15 (93.3%):  15%|█▌        | 15/100 [00:25<02:16,  1.61s/it]\rAverage Metric: 14.00 / 16 (87.5%):  15%|█▌        | 15/100 [00:25<02:16,  1.61s/it]\rAverage Metric: 14.00 / 16 (87.5%):  16%|█▌        | 16/100 [00:25<01:46,  1.27s/it]\rAverage Metric: 15.00 / 17 (88.2%):  16%|█▌        | 16/100 [00:26<01:46,  1.27s/it]\rAverage Metric: 15.00 / 17 (88.2%):  17%|█▋        | 17/100 [00:26<01:33,  1.12s/it]\rAverage Metric: 16.00 / 18 (88.9%):  17%|█▋        | 17/100 [00:27<01:33,  1.12s/it]\rAverage Metric: 16.00 / 18 (88.9%):  18%|█▊        | 18/100 [00:27<01:31,  1.11s/it]\rAverage Metric: 16.00 / 19 (84.2%):  18%|█▊        | 18/100 [00:28<01:31,  1.11s/it]\rAverage Metric: 16.00 / 19 (84.2%):  19%|█▉        | 19/100 [00:28<01:09,  1.17it/s]\rAverage Metric: 16.00 / 20 (80.0%):  19%|█▉        | 19/100 [00:31<01:09,  1.17it/s]\rAverage Metric: 16.00 / 20 (80.0%):  20%|██        | 20/100 [00:31<02:00,  1.51s/it]\rAverage Metric: 17.00 / 21 (81.0%):  20%|██        | 20/100 [00:31<02:00,  1.51s/it]\rAverage Metric: 17.00 / 21 (81.0%):  21%|██        | 21/100 [00:31<01:31,  1.15s/it]\rAverage Metric: 17.00 / 22 (77.3%):  21%|██        | 21/100 [00:32<01:31,  1.15s/it]\rAverage Metric: 17.00 / 22 (77.3%):  22%|██▏       | 22/100 [00:32<01:39,  1.28s/it]\rAverage Metric: 18.00 / 23 (78.3%):  22%|██▏       | 22/100 [00:35<01:39,  1.28s/it]\rAverage Metric: 18.00 / 23 (78.3%):  23%|██▎       | 23/100 [00:35<02:17,  1.78s/it]\rAverage Metric: 19.00 / 24 (79.2%):  23%|██▎       | 23/100 [00:38<02:17,  1.78s/it]\rAverage Metric: 19.00 / 24 (79.2%):  24%|██▍       | 24/100 [00:38<02:42,  2.14s/it]\rAverage Metric: 20.00 / 25 (80.0%):  24%|██▍       | 24/100 [00:39<02:42,  2.14s/it]\rAverage Metric: 20.00 / 25 (80.0%):  25%|██▌       | 25/100 [00:39<02:05,  1.68s/it]\rAverage Metric: 20.00 / 26 (76.9%):  25%|██▌       | 25/100 [00:40<02:05,  1.68s/it]\rAverage Metric: 20.00 / 26 (76.9%):  26%|██▌       | 26/100 [00:40<01:58,  1.61s/it]\rAverage Metric: 21.00 / 27 (77.8%):  26%|██▌       | 26/100 [00:40<01:58,  1.61s/it]\rAverage Metric: 22.00 / 28 (78.6%):  27%|██▋       | 27/100 [00:41<01:57,  1.61s/it]\rAverage Metric: 22.00 / 28 (78.6%):  28%|██▊       | 28/100 [00:41<01:14,  1.04s/it]\rAverage Metric: 23.00 / 29 (79.3%):  28%|██▊       | 28/100 [00:43<01:14,  1.04s/it]\rAverage Metric: 23.00 / 29 (79.3%):  29%|██▉       | 29/100 [00:43<01:33,  1.31s/it]\rAverage Metric: 24.00 / 30 (80.0%):  29%|██▉       | 29/100 [00:44<01:33,  1.31s/it]\rAverage Metric: 24.00 / 30 (80.0%):  30%|███       | 30/100 [00:44<01:22,  1.18s/it]\rAverage Metric: 25.00 / 31 (80.6%):  30%|███       | 30/100 [00:44<01:22,  1.18s/it]\rAverage Metric: 26.00 / 32 (81.2%):  31%|███       | 31/100 [00:46<01:21,  1.18s/it]\rAverage Metric: 26.00 / 32 (81.2%):  32%|███▏      | 32/100 [00:46<01:19,  1.17s/it]\rAverage Metric: 27.00 / 33 (81.8%):  32%|███▏      | 32/100 [00:47<01:19,  1.17s/it]\rAverage Metric: 28.00 / 34 (82.4%):  33%|███▎      | 33/100 [00:49<01:18,  1.17s/it]\rAverage Metric: 28.00 / 34 (82.4%):  34%|███▍      | 34/100 [00:49<01:21,  1.23s/it]\rAverage Metric: 28.00 / 35 (80.0%):  34%|███▍      | 34/100 [00:49<01:21,  1.23s/it]\rAverage Metric: 29.00 / 36 (80.6%):  35%|███▌      | 35/100 [00:51<01:20,  1.23s/it]\rAverage Metric: 29.00 / 36 (80.6%):  36%|███▌      | 36/100 [00:51<01:09,  1.08s/it]\rAverage Metric: 29.00 / 37 (78.4%):  36%|███▌      | 36/100 [00:51<01:09,  1.08s/it]\rAverage Metric: 29.00 / 37 (78.4%):  37%|███▋      | 37/100 [00:51<00:55,  1.13it/s]\rAverage Metric: 30.00 / 38 (78.9%):  37%|███▋      | 37/100 [00:52<00:55,  1.13it/s]\rAverage Metric: 30.00 / 38 (78.9%):  38%|███▊      | 38/100 [00:52<00:56,  1.09it/s]\rAverage Metric: 31.00 / 39 (79.5%):  38%|███▊      | 38/100 [00:53<00:56,  1.09it/s]\rAverage Metric: 31.00 / 39 (79.5%):  39%|███▉      | 39/100 [00:53<01:02,  1.02s/it]\rAverage Metric: 31.00 / 40 (77.5%):  39%|███▉      | 39/100 [00:55<01:02,  1.02s/it]\rAverage Metric: 31.00 / 40 (77.5%):  40%|████      | 40/100 [00:55<01:07,  1.12s/it]\rAverage Metric: 32.00 / 41 (78.0%):  40%|████      | 40/100 [00:56<01:07,  1.12s/it]\rAverage Metric: 32.00 / 41 (78.0%):  41%|████      | 41/100 [00:56<01:14,  1.27s/it]\rAverage Metric: 33.00 / 42 (78.6%):  41%|████      | 41/100 [00:58<01:14,  1.27s/it]\rAverage Metric: 33.00 / 42 (78.6%):  42%|████▏     | 42/100 [00:58<01:22,  1.43s/it]\rAverage Metric: 34.00 / 43 (79.1%):  42%|████▏     | 42/100 [00:59<01:22,  1.43s/it]\rAverage Metric: 34.00 / 43 (79.1%):  43%|████▎     | 43/100 [00:59<01:11,  1.25s/it]\rAverage Metric: 35.00 / 44 (79.5%):  43%|████▎     | 43/100 [01:00<01:11,  1.25s/it]\rAverage Metric: 35.00 / 44 (79.5%):  44%|████▍     | 44/100 [01:00<01:07,  1.20s/it]\rAverage Metric: 36.00 / 45 (80.0%):  44%|████▍     | 44/100 [01:01<01:07,  1.20s/it]\rAverage Metric: 36.00 / 45 (80.0%):  45%|████▌     | 45/100 [01:01<01:04,  1.17s/it]\rAverage Metric: 37.00 / 46 (80.4%):  45%|████▌     | 45/100 [01:02<01:04,  1.17s/it]\rAverage Metric: 37.00 / 46 (80.4%):  46%|████▌     | 46/100 [01:02<00:53,  1.00it/s]\rAverage Metric: 38.00 / 47 (80.9%):  46%|████▌     | 46/100 [01:02<00:53,  1.00it/s]\rAverage Metric: 38.00 / 47 (80.9%):  47%|████▋     | 47/100 [01:02<00:43,  1.21it/s]\rAverage Metric: 39.00 / 48 (81.2%):  47%|████▋     | 47/100 [01:03<00:43,  1.21it/s]\rAverage Metric: 39.00 / 48 (81.2%):  48%|████▊     | 48/100 [01:03<00:46,  1.13it/s]\rAverage Metric: 40.00 / 49 (81.6%):  48%|████▊     | 48/100 [01:06<00:46,  1.13it/s]\rAverage Metric: 40.00 / 49 (81.6%):  49%|████▉     | 49/100 [01:06<01:08,  1.35s/it]\rAverage Metric: 41.00 / 50 (82.0%):  49%|████▉     | 49/100 [01:06<01:08,  1.35s/it]\rAverage Metric: 42.00 / 51 (82.4%):  50%|█████     | 50/100 [01:06<01:07,  1.35s/it]\rAverage Metric: 42.00 / 51 (82.4%):  51%|█████     | 51/100 [01:06<00:38,  1.28it/s]\rAverage Metric: 43.00 / 52 (82.7%):  51%|█████     | 51/100 [01:06<00:38,  1.28it/s]\rAverage Metric: 43.00 / 52 (82.7%):  52%|█████▏    | 52/100 [01:06<00:30,  1.58it/s]\rAverage Metric: 44.00 / 53 (83.0%):  52%|█████▏    | 52/100 [01:07<00:30,  1.58it/s]\rAverage Metric: 44.00 / 53 (83.0%):  53%|█████▎    | 53/100 [01:07<00:36,  1.27it/s]\rAverage Metric: 45.00 / 54 (83.3%):  53%|█████▎    | 53/100 [01:08<00:36,  1.27it/s]\rAverage Metric: 45.00 / 54 (83.3%):  54%|█████▍    | 54/100 [01:08<00:41,  1.11it/s]\rAverage Metric: 46.00 / 55 (83.6%):  54%|█████▍    | 54/100 [01:11<00:41,  1.11it/s]\rAverage Metric: 46.00 / 55 (83.6%):  55%|█████▌    | 55/100 [01:11<01:05,  1.46s/it]\rAverage Metric: 47.00 / 56 (83.9%):  55%|█████▌    | 55/100 [01:11<01:05,  1.46s/it]\rAverage Metric: 47.00 / 56 (83.9%):  56%|█████▌    | 56/100 [01:11<00:47,  1.08s/it]\rAverage Metric: 48.00 / 57 (84.2%):  56%|█████▌    | 56/100 [01:13<00:47,  1.08s/it]\rAverage Metric: 48.00 / 57 (84.2%):  57%|█████▋    | 57/100 [01:13<00:56,  1.32s/it]\rAverage Metric: 49.00 / 58 (84.5%):  57%|█████▋    | 57/100 [01:14<00:56,  1.32s/it]\rAverage Metric: 49.00 / 58 (84.5%):  58%|█████▊    | 58/100 [01:14<00:43,  1.05s/it]\rAverage Metric: 50.00 / 59 (84.7%):  58%|█████▊    | 58/100 [01:17<00:43,  1.05s/it]\rAverage Metric: 50.00 / 59 (84.7%):  59%|█████▉    | 59/100 [01:17<01:03,  1.56s/it]\rAverage Metric: 51.00 / 60 (85.0%):  59%|█████▉    | 59/100 [01:18<01:03,  1.56s/it]\rAverage Metric: 51.00 / 60 (85.0%):  60%|██████    | 60/100 [01:18<00:56,  1.40s/it]\rAverage Metric: 52.00 / 61 (85.2%):  60%|██████    | 60/100 [01:18<00:56,  1.40s/it]\rAverage Metric: 52.00 / 61 (85.2%):  61%|██████    | 61/100 [01:18<00:41,  1.07s/it]\rAverage Metric: 52.00 / 62 (83.9%):  61%|██████    | 61/100 [01:19<00:41,  1.07s/it]\rAverage Metric: 52.00 / 62 (83.9%):  62%|██████▏   | 62/100 [01:19<00:42,  1.13s/it]\rAverage Metric: 53.00 / 63 (84.1%):  62%|██████▏   | 62/100 [01:20<00:42,  1.13s/it]\rAverage Metric: 53.00 / 63 (84.1%):  63%|██████▎   | 63/100 [01:20<00:36,  1.01it/s]\rAverage Metric: 54.00 / 64 (84.4%):  63%|██████▎   | 63/100 [01:20<00:36,  1.01it/s]\rAverage Metric: 55.00 / 65 (84.6%):  64%|██████▍   | 64/100 [01:24<00:35,  1.01it/s]\rAverage Metric: 55.00 / 65 (84.6%):  65%|██████▌   | 65/100 [01:24<00:54,  1.54s/it]\rAverage Metric: 56.00 / 66 (84.8%):  65%|██████▌   | 65/100 [01:24<00:54,  1.54s/it]\rAverage Metric: 57.00 / 67 (85.1%):  66%|██████▌   | 66/100 [01:25<00:52,  1.54s/it]\rAverage Metric: 57.00 / 67 (85.1%):  67%|██████▋   | 67/100 [01:25<00:34,  1.04s/it]\rAverage Metric: 58.00 / 68 (85.3%):  67%|██████▋   | 67/100 [01:25<00:34,  1.04s/it]\rAverage Metric: 58.00 / 68 (85.3%):  68%|██████▊   | 68/100 [01:25<00:27,  1.18it/s]\rAverage Metric: 59.00 / 69 (85.5%):  68%|██████▊   | 68/100 [01:25<00:27,  1.18it/s]\rAverage Metric: 59.00 / 69 (85.5%):  69%|██████▉   | 69/100 [01:25<00:23,  1.34it/s]\rAverage Metric: 60.00 / 70 (85.7%):  69%|██████▉   | 69/100 [01:27<00:23,  1.34it/s]\rAverage Metric: 60.00 / 70 (85.7%):  70%|███████   | 70/100 [01:27<00:26,  1.13it/s]\rAverage Metric: 61.00 / 71 (85.9%):  70%|███████   | 70/100 [01:30<00:26,  1.13it/s]\rAverage Metric: 61.00 / 71 (85.9%):  71%|███████   | 71/100 [01:30<00:46,  1.62s/it]\rAverage Metric: 62.00 / 72 (86.1%):  71%|███████   | 71/100 [01:31<00:46,  1.62s/it]\rAverage Metric: 62.00 / 72 (86.1%):  72%|███████▏  | 72/100 [01:31<00:36,  1.30s/it]\rAverage Metric: 63.00 / 73 (86.3%):  72%|███████▏  | 72/100 [01:31<00:36,  1.30s/it]\rAverage Metric: 63.00 / 73 (86.3%):  73%|███████▎  | 73/100 [01:31<00:26,  1.02it/s]\rAverage Metric: 63.00 / 74 (85.1%):  73%|███████▎  | 73/100 [01:33<00:26,  1.02it/s]\rAverage Metric: 63.00 / 74 (85.1%):  74%|███████▍  | 74/100 [01:33<00:30,  1.17s/it]\rAverage Metric: 64.00 / 75 (85.3%):  74%|███████▍  | 74/100 [01:34<00:30,  1.17s/it]\rAverage Metric: 64.00 / 75 (85.3%):  75%|███████▌  | 75/100 [01:34<00:33,  1.35s/it]\rAverage Metric: 65.00 / 76 (85.5%):  75%|███████▌  | 75/100 [01:35<00:33,  1.35s/it]\rAverage Metric: 65.00 / 76 (85.5%):  76%|███████▌  | 76/100 [01:35<00:24,  1.03s/it]\rAverage Metric: 66.00 / 77 (85.7%):  76%|███████▌  | 76/100 [01:35<00:24,  1.03s/it]\rAverage Metric: 66.00 / 77 (85.7%):  77%|███████▋  | 77/100 [01:35<00:20,  1.12it/s]\rAverage Metric: 67.00 / 78 (85.9%):  77%|███████▋  | 77/100 [01:38<00:20,  1.12it/s]\rAverage Metric: 67.00 / 78 (85.9%):  78%|███████▊  | 78/100 [01:38<00:32,  1.48s/it]\rAverage Metric: 68.00 / 79 (86.1%):  78%|███████▊  | 78/100 [01:38<00:32,  1.48s/it]\rAverage Metric: 69.00 / 80 (86.2%):  79%|███████▉  | 79/100 [01:39<00:31,  1.48s/it]\rAverage Metric: 69.00 / 80 (86.2%):  80%|████████  | 80/100 [01:39<00:19,  1.03it/s]\rAverage Metric: 70.00 / 81 (86.4%):  80%|████████  | 80/100 [01:40<00:19,  1.03it/s]\rAverage Metric: 70.00 / 81 (86.4%):  81%|████████  | 81/100 [01:40<00:17,  1.07it/s]\rAverage Metric: 71.00 / 82 (86.6%):  81%|████████  | 81/100 [01:40<00:17,  1.07it/s]\rAverage Metric: 71.00 / 82 (86.6%):  82%|████████▏ | 82/100 [01:40<00:16,  1.09it/s]\rAverage Metric: 72.00 / 83 (86.7%):  82%|████████▏ | 82/100 [01:40<00:16,  1.09it/s]\rAverage Metric: 73.00 / 84 (86.9%):  83%|████████▎ | 83/100 [01:44<00:15,  1.09it/s]\rAverage Metric: 73.00 / 84 (86.9%):  84%|████████▍ | 84/100 [01:44<00:20,  1.27s/it]\rAverage Metric: 74.00 / 85 (87.1%):  84%|████████▍ | 84/100 [01:45<00:20,  1.27s/it]\rAverage Metric: 74.00 / 85 (87.1%):  85%|████████▌ | 85/100 [01:45<00:18,  1.22s/it]\rAverage Metric: 75.00 / 86 (87.2%):  85%|████████▌ | 85/100 [01:46<00:18,  1.22s/it]\rAverage Metric: 75.00 / 86 (87.2%):  86%|████████▌ | 86/100 [01:46<00:15,  1.08s/it]\rAverage Metric: 76.00 / 87 (87.4%):  86%|████████▌ | 86/100 [01:46<00:15,  1.08s/it]\rAverage Metric: 76.00 / 87 (87.4%):  87%|████████▋ | 87/100 [01:46<00:12,  1.07it/s]\rAverage Metric: 76.00 / 88 (86.4%):  87%|████████▋ | 87/100 [01:46<00:12,  1.07it/s]\rAverage Metric: 77.00 / 89 (86.5%):  88%|████████▊ | 88/100 [01:47<00:11,  1.07it/s]\rAverage Metric: 77.00 / 89 (86.5%):  89%|████████▉ | 89/100 [01:47<00:08,  1.35it/s]\rAverage Metric: 78.00 / 90 (86.7%):  89%|████████▉ | 89/100 [01:51<00:08,  1.35it/s]\rAverage Metric: 78.00 / 90 (86.7%):  90%|█████████ | 90/100 [01:51<00:13,  1.39s/it]\rAverage Metric: 79.00 / 91 (86.8%):  90%|█████████ | 90/100 [01:51<00:13,  1.39s/it]\rAverage Metric: 79.00 / 91 (86.8%):  91%|█████████ | 91/100 [01:51<00:09,  1.11s/it]\rAverage Metric: 79.00 / 92 (85.9%):  91%|█████████ | 91/100 [01:53<00:09,  1.11s/it]\rAverage Metric: 79.00 / 92 (85.9%):  92%|█████████▏| 92/100 [01:53<00:10,  1.33s/it]\rAverage Metric: 80.00 / 93 (86.0%):  92%|█████████▏| 92/100 [01:54<00:10,  1.33s/it]\rAverage Metric: 80.00 / 93 (86.0%):  93%|█████████▎| 93/100 [01:54<00:09,  1.35s/it]\rAverage Metric: 80.00 / 94 (85.1%):  93%|█████████▎| 93/100 [01:55<00:09,  1.35s/it]\rAverage Metric: 80.00 / 94 (85.1%):  94%|█████████▍| 94/100 [01:55<00:07,  1.17s/it]\rAverage Metric: 81.00 / 95 (85.3%):  94%|█████████▍| 94/100 [01:55<00:07,  1.17s/it]\rAverage Metric: 81.00 / 95 (85.3%):  95%|█████████▌| 95/100 [01:55<00:04,  1.12it/s]\rAverage Metric: 81.00 / 96 (84.4%):  95%|█████████▌| 95/100 [01:56<00:04,  1.12it/s]\rAverage Metric: 81.00 / 96 (84.4%):  96%|█████████▌| 96/100 [01:56<00:03,  1.32it/s]\rAverage Metric: 82.00 / 97 (84.5%):  96%|█████████▌| 96/100 [01:56<00:03,  1.32it/s]\rAverage Metric: 82.00 / 97 (84.5%):  97%|█████████▋| 97/100 [01:56<00:01,  1.59it/s]\rAverage Metric: 83.00 / 98 (84.7%):  97%|█████████▋| 97/100 [01:58<00:01,  1.59it/s]\rAverage Metric: 83.00 / 98 (84.7%):  98%|█████████▊| 98/100 [01:58<00:02,  1.09s/it]\rAverage Metric: 84.00 / 99 (84.8%):  98%|█████████▊| 98/100 [02:00<00:02,  1.09s/it]\rAverage Metric: 84.00 / 99 (84.8%):  99%|█████████▉| 99/100 [02:00<00:01,  1.18s/it]\rAverage Metric: 85.00 / 100 (85.0%):  99%|█████████▉| 99/100 [02:06<00:01,  1.18s/it]\rAverage Metric: 85.00 / 100 (85.0%): 100%|██████████| 100/100 [02:06<00:00,  2.66s/it]\rAverage Metric: 85.00 / 100 (85.0%): 100%|██████████| 100/100 [02:06<00:00,  1.26s/it]"
     ]
    },
    {
     "name": "stderr",
     "output_type": "stream",
     "text": [
      "2025/04/22 22:33:26 INFO dspy.evaluate.evaluate: Average Metric: 85 / 100 (85.0%)\n",
      "INFO:py4j.clientserver:Closing down clientserver connection\n",
      "INFO:py4j.clientserver:Closing down clientserver connection\n",
      "INFO:py4j.clientserver:Closing down clientserver connection\n",
      "INFO:py4j.clientserver:Closing down clientserver connection\n",
      "INFO:py4j.clientserver:Closing down clientserver connection\n",
      "INFO:py4j.clientserver:Closing down clientserver connection\n"
     ]
    },
    {
     "name": "stdout",
     "output_type": "stream",
     "text": [
      "\n"
     ]
    },
    {
     "name": "stderr",
     "output_type": "stream",
     "text": [
      "2025/04/22 22:33:27 INFO dspy.teleprompt.mipro_optimizer_v2: Full eval scores so far: [86.0, 88.0, 85.0]\n",
      "2025/04/22 22:33:27 INFO dspy.teleprompt.mipro_optimizer_v2: Best full score so far: 88.0\n",
      "2025/04/22 22:33:27 INFO dspy.teleprompt.mipro_optimizer_v2: =======================\n",
      "2025/04/22 22:33:27 INFO dspy.teleprompt.mipro_optimizer_v2: \n",
      "\n",
      "2025/04/22 22:33:27 INFO dspy.teleprompt.mipro_optimizer_v2: Returning best identified program with score 88.0!\n"
     ]
    },
    {
     "data": {
      "application/vnd.jupyter.widget-view+json": {
       "model_id": "bef0283ebd6b42499b6abaa90b32f87b",
       "version_major": 2,
       "version_minor": 0
      },
      "text/plain": [
       "Downloading artifacts:   0%|          | 0/1 [00:00<?, ?it/s]"
      ]
     },
     "metadata": {},
     "output_type": "display_data"
    },
    {
     "data": {
      "application/databricks.mlflow.trace": "[\"tr-8f164c632cdf436aa52689fd7372caa8\", \"tr-d6521015b172418185418907027c1fe3\", \"tr-66b5fd4cd8384d92840fbbe3c729a8cb\", \"tr-464ac7f28329469683491402a081bbc4\", \"tr-9d0b396ce34b461cbf537083644e175d\", \"tr-1f60c0b657134372a90b97bdbc2a2f74\", \"tr-90c739c0fce64625be49444681564bbb\", \"tr-6acd7ad632654e059b80d1e5a4051262\", \"tr-daddec08928242c58fe0599d3f9a77da\", \"tr-5553bd0896c4437b9fbd2fbd584eec61\"]",
      "text/plain": [
       "[Trace(request_id=tr-8f164c632cdf436aa52689fd7372caa8), Trace(request_id=tr-d6521015b172418185418907027c1fe3), Trace(request_id=tr-66b5fd4cd8384d92840fbbe3c729a8cb), Trace(request_id=tr-464ac7f28329469683491402a081bbc4), Trace(request_id=tr-9d0b396ce34b461cbf537083644e175d), Trace(request_id=tr-1f60c0b657134372a90b97bdbc2a2f74), Trace(request_id=tr-90c739c0fce64625be49444681564bbb), Trace(request_id=tr-6acd7ad632654e059b80d1e5a4051262), Trace(request_id=tr-daddec08928242c58fe0599d3f9a77da), Trace(request_id=tr-5553bd0896c4437b9fbd2fbd584eec61)]"
      ]
     },
     "metadata": {},
     "output_type": "display_data"
    },
    {
     "name": "stderr",
     "output_type": "stream",
     "text": [
      "INFO:py4j.clientserver:Closing down clientserver connection\n"
     ]
    }
   ],
   "source": [
    "mipro = dspy.MIPROv2(\n",
    "    metric=math_evaluate,\n",
    "    max_bootstrapped_demos=4,\n",
    "    max_labeled_demos=4,\n",
    "    num_candidates=4,\n",
    "    auto=None,\n",
    ")\n",
    "\n",
    "optimized_math_program = mipro.compile(\n",
    "    math_program,\n",
    "    trainset=math_train[:100],\n",
    "    valset=math_train[100:200],\n",
    "    num_trials=8,\n",
    "    minibatch_size=4,\n",
    "    minibatch_full_eval_steps=4,\n",
    ")"
   ]
  },
  {
   "cell_type": "markdown",
   "metadata": {
    "application/vnd.databricks.v1+cell": {
     "cellMetadata": {},
     "inputWidgets": {},
     "nuid": "0e36717b-b4fa-47ca-a312-e6a19136fd12",
     "showTitle": false,
     "tableResultSettingsMap": {},
     "title": ""
    }
   },
   "source": [
    "Check out the performance of the optimized program."
   ]
  },
  {
   "cell_type": "code",
   "execution_count": 0,
   "metadata": {
    "application/vnd.databricks.v1+cell": {
     "cellMetadata": {
      "byteLimit": 2048000,
      "rowLimit": 10000
     },
     "inputWidgets": {},
     "nuid": "7022ae5c-8d75-412f-9442-34e2de9bd52d",
     "showTitle": false,
     "tableResultSettingsMap": {},
     "title": ""
    }
   },
   "outputs": [
    {
     "name": "stdout",
     "output_type": "stream",
     "text": [
      "\r  0%|          | 0/100 [00:00<?, ?it/s]\rAverage Metric: 1.00 / 1 (100.0%):   0%|          | 0/100 [00:04<?, ?it/s]\rAverage Metric: 1.00 / 1 (100.0%):   1%|          | 1/100 [00:04<07:52,  4.77s/it]\rAverage Metric: 2.00 / 2 (100.0%):   1%|          | 1/100 [00:05<07:52,  4.77s/it]\rAverage Metric: 2.00 / 2 (100.0%):   2%|▏         | 2/100 [00:05<04:06,  2.52s/it]\rAverage Metric: 3.00 / 3 (100.0%):   2%|▏         | 2/100 [00:06<04:06,  2.52s/it]\rAverage Metric: 3.00 / 3 (100.0%):   3%|▎         | 3/100 [00:06<02:32,  1.57s/it]\rAverage Metric: 4.00 / 4 (100.0%):   3%|▎         | 3/100 [00:06<02:32,  1.57s/it]\rAverage Metric: 4.00 / 4 (100.0%):   4%|▍         | 4/100 [00:06<01:46,  1.11s/it]\rAverage Metric: 4.00 / 5 (80.0%):   4%|▍         | 4/100 [00:09<01:46,  1.11s/it] \rAverage Metric: 4.00 / 5 (80.0%):   5%|▌         | 5/100 [00:09<03:03,  1.93s/it]\rAverage Metric: 5.00 / 6 (83.3%):   5%|▌         | 5/100 [00:11<03:03,  1.93s/it]\rAverage Metric: 5.00 / 6 (83.3%):   6%|▌         | 6/100 [00:11<02:40,  1.71s/it]\rAverage Metric: 6.00 / 7 (85.7%):   6%|▌         | 6/100 [00:11<02:40,  1.71s/it]\rAverage Metric: 6.00 / 7 (85.7%):   7%|▋         | 7/100 [00:11<01:54,  1.23s/it]\rAverage Metric: 7.00 / 8 (87.5%):   7%|▋         | 7/100 [00:12<01:54,  1.23s/it]\rAverage Metric: 7.00 / 8 (87.5%):   8%|▊         | 8/100 [00:12<01:55,  1.26s/it]\rAverage Metric: 7.00 / 9 (77.8%):   8%|▊         | 8/100 [00:13<01:55,  1.26s/it]\rAverage Metric: 7.00 / 9 (77.8%):   9%|▉         | 9/100 [00:13<01:34,  1.04s/it]\rAverage Metric: 8.00 / 10 (80.0%):   9%|▉         | 9/100 [00:13<01:34,  1.04s/it]\rAverage Metric: 8.00 / 10 (80.0%):  10%|█         | 10/100 [00:13<01:08,  1.32it/s]\rAverage Metric: 8.00 / 11 (72.7%):  10%|█         | 10/100 [00:13<01:08,  1.32it/s]\rAverage Metric: 8.00 / 11 (72.7%):  11%|█         | 11/100 [00:13<00:56,  1.58it/s]\rAverage Metric: 9.00 / 12 (75.0%):  11%|█         | 11/100 [00:14<00:56,  1.58it/s]\rAverage Metric: 9.00 / 12 (75.0%):  12%|█▏        | 12/100 [00:14<01:07,  1.30it/s]\rAverage Metric: 10.00 / 13 (76.9%):  12%|█▏        | 12/100 [00:15<01:07,  1.30it/s]\rAverage Metric: 10.00 / 13 (76.9%):  13%|█▎        | 13/100 [00:15<01:07,  1.30it/s]\rAverage Metric: 10.00 / 14 (71.4%):  13%|█▎        | 13/100 [00:17<01:07,  1.30it/s]\rAverage Metric: 10.00 / 14 (71.4%):  14%|█▍        | 14/100 [00:17<01:30,  1.05s/it]\rAverage Metric: 11.00 / 15 (73.3%):  14%|█▍        | 14/100 [00:17<01:30,  1.05s/it]\rAverage Metric: 11.00 / 15 (73.3%):  15%|█▌        | 15/100 [00:17<01:06,  1.28it/s]\rAverage Metric: 12.00 / 16 (75.0%):  15%|█▌        | 15/100 [00:18<01:06,  1.28it/s]\rAverage Metric: 12.00 / 16 (75.0%):  16%|█▌        | 16/100 [00:18<01:01,  1.37it/s]\rAverage Metric: 13.00 / 17 (76.5%):  16%|█▌        | 16/100 [00:18<01:01,  1.37it/s]\rAverage Metric: 13.00 / 17 (76.5%):  17%|█▋        | 17/100 [00:18<00:48,  1.71it/s]\rAverage Metric: 13.00 / 18 (72.2%):  17%|█▋        | 17/100 [00:18<00:48,  1.71it/s]\rAverage Metric: 13.00 / 18 (72.2%):  18%|█▊        | 18/100 [00:18<00:38,  2.15it/s]\rAverage Metric: 14.00 / 19 (73.7%):  18%|█▊        | 18/100 [00:19<00:38,  2.15it/s]\rAverage Metric: 14.00 / 19 (73.7%):  19%|█▉        | 19/100 [00:19<00:58,  1.39it/s]\rAverage Metric: 15.00 / 20 (75.0%):  19%|█▉        | 19/100 [00:20<00:58,  1.39it/s]\rAverage Metric: 15.00 / 20 (75.0%):  20%|██        | 20/100 [00:20<01:05,  1.22it/s]\rAverage Metric: 16.00 / 21 (76.2%):  20%|██        | 20/100 [00:21<01:05,  1.22it/s]\rAverage Metric: 16.00 / 21 (76.2%):  21%|██        | 21/100 [00:21<01:08,  1.15it/s]\rAverage Metric: 16.00 / 22 (72.7%):  21%|██        | 21/100 [00:22<01:08,  1.15it/s]\rAverage Metric: 16.00 / 22 (72.7%):  22%|██▏       | 22/100 [00:22<01:10,  1.10it/s]\rAverage Metric: 16.00 / 23 (69.6%):  22%|██▏       | 22/100 [00:23<01:10,  1.10it/s]\rAverage Metric: 16.00 / 23 (69.6%):  23%|██▎       | 23/100 [00:23<01:08,  1.12it/s]\rAverage Metric: 17.00 / 24 (70.8%):  23%|██▎       | 23/100 [00:27<01:08,  1.12it/s]\rAverage Metric: 17.00 / 24 (70.8%):  24%|██▍       | 24/100 [00:27<02:13,  1.76s/it]\rAverage Metric: 18.00 / 25 (72.0%):  24%|██▍       | 24/100 [00:29<02:13,  1.76s/it]\rAverage Metric: 18.00 / 25 (72.0%):  25%|██▌       | 25/100 [00:29<02:12,  1.77s/it]\rAverage Metric: 19.00 / 26 (73.1%):  25%|██▌       | 25/100 [00:29<02:12,  1.77s/it]\rAverage Metric: 19.00 / 26 (73.1%):  26%|██▌       | 26/100 [00:29<01:36,  1.30s/it]\rAverage Metric: 20.00 / 27 (74.1%):  26%|██▌       | 26/100 [00:29<01:36,  1.30s/it]\rAverage Metric: 20.00 / 27 (74.1%):  27%|██▋       | 27/100 [00:29<01:13,  1.01s/it]\rAverage Metric: 21.00 / 28 (75.0%):  27%|██▋       | 27/100 [00:30<01:13,  1.01s/it]\rAverage Metric: 21.00 / 28 (75.0%):  28%|██▊       | 28/100 [00:30<01:09,  1.04it/s]\rAverage Metric: 22.00 / 29 (75.9%):  28%|██▊       | 28/100 [00:34<01:09,  1.04it/s]\rAverage Metric: 22.00 / 29 (75.9%):  29%|██▉       | 29/100 [00:34<02:05,  1.77s/it]\rAverage Metric: 23.00 / 30 (76.7%):  29%|██▉       | 29/100 [00:35<02:05,  1.77s/it]\rAverage Metric: 23.00 / 30 (76.7%):  30%|███       | 30/100 [00:35<01:54,  1.63s/it]\rAverage Metric: 24.00 / 31 (77.4%):  30%|███       | 30/100 [00:36<01:54,  1.63s/it]\rAverage Metric: 24.00 / 31 (77.4%):  31%|███       | 31/100 [00:36<01:37,  1.41s/it]"
     ]
    },
    {
     "name": "stderr",
     "output_type": "stream",
     "text": [
      "2025/04/22 23:34:00 WARNING dspy.adapters.json_adapter: Failed to use structured output format. Falling back to JSON mode. Error: Expected dict_keys(['reasoning', 'answer']) but got dict_keys(['reasoning'])\n"
     ]
    },
    {
     "name": "stdout",
     "output_type": "stream",
     "text": [
      "\rAverage Metric: 24.00 / 32 (75.0%):  31%|███       | 31/100 [00:37<01:37,  1.41s/it]\rAverage Metric: 24.00 / 32 (75.0%):  32%|███▏      | 32/100 [00:37<01:17,  1.14s/it]\rAverage Metric: 25.00 / 33 (75.8%):  32%|███▏      | 32/100 [00:38<01:17,  1.14s/it]\rAverage Metric: 25.00 / 33 (75.8%):  33%|███▎      | 33/100 [00:38<01:15,  1.13s/it]\rAverage Metric: 26.00 / 34 (76.5%):  33%|███▎      | 33/100 [00:41<01:15,  1.13s/it]\rAverage Metric: 26.00 / 34 (76.5%):  34%|███▍      | 34/100 [00:41<01:56,  1.77s/it]\rAverage Metric: 27.00 / 35 (77.1%):  34%|███▍      | 34/100 [00:42<01:56,  1.77s/it]\rAverage Metric: 27.00 / 35 (77.1%):  35%|███▌      | 35/100 [00:42<01:32,  1.43s/it]\rAverage Metric: 28.00 / 36 (77.8%):  35%|███▌      | 35/100 [00:42<01:32,  1.43s/it]\rAverage Metric: 28.00 / 36 (77.8%):  36%|███▌      | 36/100 [00:42<01:06,  1.04s/it]\rAverage Metric: 28.00 / 37 (75.7%):  36%|███▌      | 36/100 [00:46<01:06,  1.04s/it]\rAverage Metric: 28.00 / 37 (75.7%):  37%|███▋      | 37/100 [00:46<01:57,  1.87s/it]\rAverage Metric: 28.00 / 38 (73.7%):  37%|███▋      | 37/100 [00:46<01:57,  1.87s/it]\rAverage Metric: 28.00 / 38 (73.7%):  38%|███▊      | 38/100 [00:46<01:24,  1.37s/it]\rAverage Metric: 29.00 / 39 (74.4%):  38%|███▊      | 38/100 [00:46<01:24,  1.37s/it]\rAverage Metric: 30.00 / 40 (75.0%):  39%|███▉      | 39/100 [00:46<01:23,  1.37s/it]\rAverage Metric: 30.00 / 40 (75.0%):  40%|████      | 40/100 [00:46<00:51,  1.16it/s]"
     ]
    },
    {
     "name": "stderr",
     "output_type": "stream",
     "text": [
      "2025/04/22 23:34:11 WARNING dspy.adapters.json_adapter: Failed to use structured output format. Falling back to JSON mode. Error: Expected dict_keys(['reasoning', 'answer']) but got dict_keys(['reasoning'])\n"
     ]
    },
    {
     "name": "stdout",
     "output_type": "stream",
     "text": [
      "\rAverage Metric: 31.00 / 41 (75.6%):  40%|████      | 40/100 [00:48<00:51,  1.16it/s]\rAverage Metric: 31.00 / 41 (75.6%):  41%|████      | 41/100 [00:48<01:05,  1.12s/it]\rAverage Metric: 31.00 / 42 (73.8%):  41%|████      | 41/100 [00:49<01:05,  1.12s/it]\rAverage Metric: 31.00 / 42 (73.8%):  42%|████▏     | 42/100 [00:49<00:53,  1.08it/s]\rAverage Metric: 32.00 / 43 (74.4%):  42%|████▏     | 42/100 [00:49<00:53,  1.08it/s]\rAverage Metric: 32.00 / 43 (74.4%):  43%|████▎     | 43/100 [00:49<00:50,  1.12it/s]\rAverage Metric: 33.00 / 44 (75.0%):  43%|████▎     | 43/100 [00:50<00:50,  1.12it/s]\rAverage Metric: 33.00 / 44 (75.0%):  44%|████▍     | 44/100 [00:50<00:50,  1.11it/s]\rAverage Metric: 33.00 / 45 (73.3%):  44%|████▍     | 44/100 [00:51<00:50,  1.11it/s]\rAverage Metric: 33.00 / 45 (73.3%):  45%|████▌     | 45/100 [00:51<00:48,  1.13it/s]\rAverage Metric: 34.00 / 46 (73.9%):  45%|████▌     | 45/100 [00:51<00:48,  1.13it/s]\rAverage Metric: 34.00 / 46 (73.9%):  46%|████▌     | 46/100 [00:51<00:38,  1.40it/s]\rAverage Metric: 35.00 / 47 (74.5%):  46%|████▌     | 46/100 [00:53<00:38,  1.40it/s]\rAverage Metric: 35.00 / 47 (74.5%):  47%|████▋     | 47/100 [00:53<00:53,  1.01s/it]\rAverage Metric: 36.00 / 48 (75.0%):  47%|████▋     | 47/100 [00:54<00:53,  1.01s/it]\rAverage Metric: 36.00 / 48 (75.0%):  48%|████▊     | 48/100 [00:54<00:51,  1.02it/s]\rAverage Metric: 37.00 / 49 (75.5%):  48%|████▊     | 48/100 [00:55<00:51,  1.02it/s]\rAverage Metric: 37.00 / 49 (75.5%):  49%|████▉     | 49/100 [00:55<00:42,  1.19it/s]\rAverage Metric: 38.00 / 50 (76.0%):  49%|████▉     | 49/100 [00:56<00:42,  1.19it/s]\rAverage Metric: 38.00 / 50 (76.0%):  50%|█████     | 50/100 [00:56<00:48,  1.02it/s]\rAverage Metric: 39.00 / 51 (76.5%):  50%|█████     | 50/100 [00:57<00:48,  1.02it/s]\rAverage Metric: 39.00 / 51 (76.5%):  51%|█████     | 51/100 [00:57<00:46,  1.05it/s]\rAverage Metric: 40.00 / 52 (76.9%):  51%|█████     | 51/100 [00:57<00:46,  1.05it/s]\rAverage Metric: 40.00 / 52 (76.9%):  52%|█████▏    | 52/100 [00:57<00:36,  1.30it/s]\rAverage Metric: 40.00 / 53 (75.5%):  52%|█████▏    | 52/100 [00:58<00:36,  1.30it/s]\rAverage Metric: 40.00 / 53 (75.5%):  53%|█████▎    | 53/100 [00:58<00:33,  1.40it/s]\rAverage Metric: 41.00 / 54 (75.9%):  53%|█████▎    | 53/100 [01:00<00:33,  1.40it/s]\rAverage Metric: 41.00 / 54 (75.9%):  54%|█████▍    | 54/100 [01:00<00:57,  1.26s/it]"
     ]
    },
    {
     "name": "stderr",
     "output_type": "stream",
     "text": [
      "2025/04/22 23:34:26 ERROR dspy.utils.parallelizer: Error for Example({'problem': 'Suppose the roots of the polynomial $x^2 - mx + n$ are positive prime integers (not necessarily distinct). Given that $m < 20,$ how many possible values of $n$ are there?', 'level': 'Level 5', 'solution': 'Let $p$ and $q$ be the prime roots. Then, we know that $m = p+q$ and $n = pq$. Since $m < 20$, the primes $p$ and $q$ must both be less than $20$.\\n\\nThe primes less than $20$ are $2,$ $3,$ $5,$ $7,$ $11,$ $13,$ $17,$ $19.$ Now we list all possible pairs $(p, q)$ such that $p + q < 20$, remembering to also include the cases in which $p=q$: \\\\[\\\\begin{aligned} & (2,2),(2,3),(2,5),(2,7),(2,11),(2,13),(2,17) \\\\\\\\\\n&(3,3),(3,5),(3,7),(3,11),(3,13) \\\\\\\\\\n&(5,5),(5,7),(5,11),(5,13) \\\\\\\\\\n&(7,7),(7,11) \\\\end{aligned}\\\\]There are $7 + 5 + 4 + 2 = 18$ pairs in total. Each pair produces a value for $n$, and furthermore, these values are all distinct, because every positive integer has a unique prime factorization. Therefore, there are $\\\\boxed{18}$ possible values for $n$.', 'type': 'Algebra'}) (input_keys={'problem'}): Both structured output format and JSON mode failed. Please choose a model that supports `response_format` argument. Original error: Expected dict_keys(['reasoning', 'answer']) but got dict_keys(['reasoning']). Set `provide_traceback=True` for traceback.\n"
     ]
    },
    {
     "name": "stdout",
     "output_type": "stream",
     "text": [
      "\rAverage Metric: 41.00 / 54 (75.9%):  54%|█████▍    | 54/100 [01:02<00:57,  1.26s/it]\rAverage Metric: 41.00 / 54 (75.9%):  55%|█████▌    | 55/100 [01:02<00:59,  1.31s/it]\rAverage Metric: 42.00 / 55 (76.4%):  55%|█████▌    | 55/100 [01:02<00:59,  1.31s/it]\rAverage Metric: 42.00 / 55 (76.4%):  56%|█████▌    | 56/100 [01:02<00:43,  1.01it/s]\rAverage Metric: 43.00 / 56 (76.8%):  56%|█████▌    | 56/100 [01:02<00:43,  1.01it/s]\rAverage Metric: 43.00 / 56 (76.8%):  57%|█████▋    | 57/100 [01:02<00:31,  1.38it/s]\rAverage Metric: 43.00 / 57 (75.4%):  57%|█████▋    | 57/100 [01:02<00:31,  1.38it/s]\rAverage Metric: 43.00 / 57 (75.4%):  58%|█████▊    | 58/100 [01:02<00:23,  1.83it/s]\rAverage Metric: 44.00 / 58 (75.9%):  58%|█████▊    | 58/100 [01:02<00:23,  1.83it/s]\rAverage Metric: 45.00 / 59 (76.3%):  59%|█████▉    | 59/100 [01:02<00:22,  1.83it/s]\rAverage Metric: 45.00 / 59 (76.3%):  60%|██████    | 60/100 [01:02<00:12,  3.09it/s]\rAverage Metric: 46.00 / 60 (76.7%):  60%|██████    | 60/100 [01:05<00:12,  3.09it/s]\rAverage Metric: 46.00 / 60 (76.7%):  61%|██████    | 61/100 [01:05<00:33,  1.18it/s]\rAverage Metric: 47.00 / 61 (77.0%):  61%|██████    | 61/100 [01:05<00:33,  1.18it/s]\rAverage Metric: 47.00 / 61 (77.0%):  62%|██████▏   | 62/100 [01:05<00:26,  1.44it/s]\rAverage Metric: 47.00 / 62 (75.8%):  62%|██████▏   | 62/100 [01:07<00:26,  1.44it/s]\rAverage Metric: 47.00 / 62 (75.8%):  63%|██████▎   | 63/100 [01:07<00:34,  1.07it/s]\rAverage Metric: 48.00 / 63 (76.2%):  63%|██████▎   | 63/100 [01:07<00:34,  1.07it/s]\rAverage Metric: 48.00 / 63 (76.2%):  64%|██████▍   | 64/100 [01:07<00:26,  1.35it/s]\rAverage Metric: 49.00 / 64 (76.6%):  64%|██████▍   | 64/100 [01:08<00:26,  1.35it/s]\rAverage Metric: 49.00 / 64 (76.6%):  65%|██████▌   | 65/100 [01:08<00:32,  1.07it/s]\rAverage Metric: 50.00 / 65 (76.9%):  65%|██████▌   | 65/100 [01:09<00:32,  1.07it/s]\rAverage Metric: 50.00 / 65 (76.9%):  66%|██████▌   | 66/100 [01:09<00:29,  1.14it/s]\rAverage Metric: 50.00 / 66 (75.8%):  66%|██████▌   | 66/100 [01:09<00:29,  1.14it/s]\rAverage Metric: 50.00 / 66 (75.8%):  67%|██████▋   | 67/100 [01:09<00:23,  1.43it/s]\rAverage Metric: 50.00 / 67 (74.6%):  67%|██████▋   | 67/100 [01:10<00:23,  1.43it/s]\rAverage Metric: 50.00 / 67 (74.6%):  68%|██████▊   | 68/100 [01:10<00:20,  1.58it/s]\rAverage Metric: 51.00 / 68 (75.0%):  68%|██████▊   | 68/100 [01:10<00:20,  1.58it/s]\rAverage Metric: 51.00 / 68 (75.0%):  69%|██████▉   | 69/100 [01:10<00:14,  2.09it/s]\rAverage Metric: 52.00 / 69 (75.4%):  69%|██████▉   | 69/100 [01:11<00:14,  2.09it/s]\rAverage Metric: 52.00 / 69 (75.4%):  70%|███████   | 70/100 [01:11<00:22,  1.31it/s]\rAverage Metric: 53.00 / 70 (75.7%):  70%|███████   | 70/100 [01:12<00:22,  1.31it/s]\rAverage Metric: 53.00 / 70 (75.7%):  71%|███████   | 71/100 [01:12<00:22,  1.29it/s]\rAverage Metric: 54.00 / 71 (76.1%):  71%|███████   | 71/100 [01:13<00:22,  1.29it/s]\rAverage Metric: 54.00 / 71 (76.1%):  72%|███████▏  | 72/100 [01:13<00:22,  1.22it/s]\rAverage Metric: 55.00 / 72 (76.4%):  72%|███████▏  | 72/100 [01:13<00:22,  1.22it/s]\rAverage Metric: 56.00 / 73 (76.7%):  73%|███████▎  | 73/100 [01:18<00:22,  1.22it/s]\rAverage Metric: 56.00 / 73 (76.7%):  74%|███████▍  | 74/100 [01:18<00:43,  1.66s/it]\rAverage Metric: 57.00 / 74 (77.0%):  74%|███████▍  | 74/100 [01:19<00:43,  1.66s/it]\rAverage Metric: 57.00 / 74 (77.0%):  75%|███████▌  | 75/100 [01:19<00:33,  1.34s/it]\rAverage Metric: 58.00 / 75 (77.3%):  75%|███████▌  | 75/100 [01:19<00:33,  1.34s/it]\rAverage Metric: 58.00 / 75 (77.3%):  76%|███████▌  | 76/100 [01:19<00:25,  1.08s/it]\rAverage Metric: 59.00 / 76 (77.6%):  76%|███████▌  | 76/100 [01:19<00:25,  1.08s/it]\rAverage Metric: 59.00 / 76 (77.6%):  77%|███████▋  | 77/100 [01:19<00:21,  1.07it/s]\rAverage Metric: 60.00 / 77 (77.9%):  77%|███████▋  | 77/100 [01:21<00:21,  1.07it/s]\rAverage Metric: 60.00 / 77 (77.9%):  78%|███████▊  | 78/100 [01:21<00:26,  1.19s/it]\rAverage Metric: 61.00 / 78 (78.2%):  78%|███████▊  | 78/100 [01:22<00:26,  1.19s/it]\rAverage Metric: 61.00 / 78 (78.2%):  79%|███████▉  | 79/100 [01:22<00:19,  1.08it/s]\rAverage Metric: 62.00 / 79 (78.5%):  79%|███████▉  | 79/100 [01:22<00:19,  1.08it/s]\rAverage Metric: 62.00 / 79 (78.5%):  80%|████████  | 80/100 [01:22<00:16,  1.21it/s]\rAverage Metric: 63.00 / 80 (78.8%):  80%|████████  | 80/100 [01:22<00:16,  1.21it/s]\rAverage Metric: 63.00 / 80 (78.8%):  81%|████████  | 81/100 [01:22<00:12,  1.56it/s]\rAverage Metric: 64.00 / 81 (79.0%):  81%|████████  | 81/100 [01:22<00:12,  1.56it/s]\rAverage Metric: 65.00 / 82 (79.3%):  82%|████████▏ | 82/100 [01:23<00:11,  1.56it/s]\rAverage Metric: 65.00 / 82 (79.3%):  83%|████████▎ | 83/100 [01:23<00:08,  1.97it/s]\rAverage Metric: 66.00 / 83 (79.5%):  83%|████████▎ | 83/100 [01:24<00:08,  1.97it/s]\rAverage Metric: 66.00 / 83 (79.5%):  84%|████████▍ | 84/100 [01:24<00:09,  1.70it/s]\rAverage Metric: 67.00 / 84 (79.8%):  84%|████████▍ | 84/100 [01:24<00:09,  1.70it/s]\rAverage Metric: 67.00 / 84 (79.8%):  85%|████████▌ | 85/100 [01:24<00:07,  2.10it/s]\rAverage Metric: 68.00 / 85 (80.0%):  85%|████████▌ | 85/100 [01:25<00:07,  2.10it/s]\rAverage Metric: 68.00 / 85 (80.0%):  86%|████████▌ | 86/100 [01:25<00:08,  1.72it/s]\rAverage Metric: 69.00 / 86 (80.2%):  86%|████████▌ | 86/100 [01:26<00:08,  1.72it/s]\rAverage Metric: 69.00 / 86 (80.2%):  87%|████████▋ | 87/100 [01:26<00:09,  1.43it/s]\rAverage Metric: 70.00 / 87 (80.5%):  87%|████████▋ | 87/100 [01:27<00:09,  1.43it/s]\rAverage Metric: 70.00 / 87 (80.5%):  88%|████████▊ | 88/100 [01:27<00:08,  1.38it/s]\rAverage Metric: 71.00 / 88 (80.7%):  88%|████████▊ | 88/100 [01:27<00:08,  1.38it/s]\rAverage Metric: 72.00 / 89 (80.9%):  89%|████████▉ | 89/100 [01:27<00:07,  1.38it/s]\rAverage Metric: 72.00 / 89 (80.9%):  90%|█████████ | 90/100 [01:27<00:04,  2.12it/s]\rAverage Metric: 73.00 / 90 (81.1%):  90%|█████████ | 90/100 [01:29<00:04,  2.12it/s]\rAverage Metric: 73.00 / 90 (81.1%):  91%|█████████ | 91/100 [01:29<00:06,  1.39it/s]\rAverage Metric: 74.00 / 91 (81.3%):  91%|█████████ | 91/100 [01:29<00:06,  1.39it/s]\rAverage Metric: 74.00 / 91 (81.3%):  92%|█████████▏| 92/100 [01:29<00:05,  1.45it/s]\rAverage Metric: 75.00 / 92 (81.5%):  92%|█████████▏| 92/100 [01:30<00:05,  1.45it/s]\rAverage Metric: 75.00 / 92 (81.5%):  93%|█████████▎| 93/100 [01:30<00:04,  1.50it/s]\rAverage Metric: 75.00 / 93 (80.6%):  93%|█████████▎| 93/100 [01:32<00:04,  1.50it/s]\rAverage Metric: 75.00 / 93 (80.6%):  94%|█████████▍| 94/100 [01:32<00:07,  1.22s/it]\rAverage Metric: 76.00 / 94 (80.9%):  94%|█████████▍| 94/100 [01:33<00:07,  1.22s/it]\rAverage Metric: 76.00 / 94 (80.9%):  95%|█████████▌| 95/100 [01:33<00:05,  1.12s/it]\rAverage Metric: 77.00 / 95 (81.1%):  95%|█████████▌| 95/100 [01:35<00:05,  1.12s/it]\rAverage Metric: 77.00 / 95 (81.1%):  96%|█████████▌| 96/100 [01:35<00:04,  1.18s/it]\rAverage Metric: 78.00 / 96 (81.2%):  96%|█████████▌| 96/100 [01:35<00:04,  1.18s/it]\rAverage Metric: 78.00 / 96 (81.2%):  97%|█████████▋| 97/100 [01:35<00:02,  1.12it/s]\rAverage Metric: 79.00 / 97 (81.4%):  97%|█████████▋| 97/100 [01:36<00:02,  1.12it/s]\rAverage Metric: 79.00 / 97 (81.4%):  98%|█████████▊| 98/100 [01:36<00:01,  1.05it/s]\rAverage Metric: 80.00 / 98 (81.6%):  98%|█████████▊| 98/100 [01:38<00:01,  1.05it/s]\rAverage Metric: 80.00 / 98 (81.6%):  99%|█████████▉| 99/100 [01:38<00:01,  1.28s/it]\rAverage Metric: 80.00 / 99 (80.8%):  99%|█████████▉| 99/100 [01:40<00:01,  1.28s/it]\rAverage Metric: 80.00 / 99 (80.8%): 100%|██████████| 100/100 [01:40<00:00,  1.64s/it]\rAverage Metric: 80.00 / 99 (80.8%): 100%|██████████| 100/100 [01:40<00:00,  1.01s/it]"
     ]
    },
    {
     "name": "stderr",
     "output_type": "stream",
     "text": [
      "2025/04/22 23:35:04 INFO dspy.evaluate.evaluate: Average Metric: 80.0 / 100 (80.0%)\n",
      "INFO:py4j.clientserver:Closing down clientserver connection\n",
      "INFO:py4j.clientserver:Closing down clientserver connection\n",
      "INFO:py4j.clientserver:Closing down clientserver connection\n",
      "INFO:py4j.clientserver:Closing down clientserver connection\n",
      "INFO:py4j.clientserver:Closing down clientserver connection\n"
     ]
    },
    {
     "name": "stdout",
     "output_type": "stream",
     "text": [
      "\n"
     ]
    },
    {
     "name": "stderr",
     "output_type": "stream",
     "text": [
      "INFO:py4j.clientserver:Closing down clientserver connection\n",
      "INFO:py4j.clientserver:Closing down clientserver connection\n"
     ]
    },
    {
     "data": {
      "text/html": [
       "<div>\n",
       "<style scoped>\n",
       "    .dataframe tbody tr th:only-of-type {\n",
       "        vertical-align: middle;\n",
       "    }\n",
       "\n",
       "    .dataframe tbody tr th {\n",
       "        vertical-align: top;\n",
       "    }\n",
       "\n",
       "    .dataframe thead th {\n",
       "        text-align: right;\n",
       "    }\n",
       "</style>\n",
       "<table border=\"1\" class=\"dataframe\">\n",
       "  <thead>\n",
       "    <tr style=\"text-align: right;\">\n",
       "      <th></th>\n",
       "      <th>problem</th>\n",
       "      <th>level</th>\n",
       "      <th>solution</th>\n",
       "      <th>type</th>\n",
       "      <th>reasoning</th>\n",
       "      <th>answer</th>\n",
       "      <th>math_evaluate</th>\n",
       "    </tr>\n",
       "  </thead>\n",
       "  <tbody>\n",
       "    <tr>\n",
       "      <th>0</th>\n",
       "      <td>How many vertical asymptotes does the graph of $y=\\frac{2}{x^2+x-6...</td>\n",
       "      <td>Level 3</td>\n",
       "      <td>The denominator of the rational function factors into $x^2+x-6=(x-...</td>\n",
       "      <td>Algebra</td>\n",
       "      <td>To find the vertical asymptotes of the function \\( y = \\frac{2}{x^...</td>\n",
       "      <td>2</td>\n",
       "      <td>✔️ [True]</td>\n",
       "    </tr>\n",
       "    <tr>\n",
       "      <th>1</th>\n",
       "      <td>What is the positive difference between $120\\%$ of 30 and $130\\%$ ...</td>\n",
       "      <td>Level 1</td>\n",
       "      <td>One hundred twenty percent of 30 is $120\\cdot30\\cdot\\frac{1}{100}=...</td>\n",
       "      <td>Algebra</td>\n",
       "      <td>To find the positive difference between 120% of 30 and 130% of 20,...</td>\n",
       "      <td>10</td>\n",
       "      <td>✔️ [True]</td>\n",
       "    </tr>\n",
       "    <tr>\n",
       "      <th>2</th>\n",
       "      <td>Find $x$ such that $\\lceil x \\rceil + x = \\dfrac{23}{7}$. Express ...</td>\n",
       "      <td>Level 4</td>\n",
       "      <td>First, we note that $x$ must be positive, since otherwise $\\lceil ...</td>\n",
       "      <td>Algebra</td>\n",
       "      <td>Let \\( x = n + f \\), where \\( n = \\lceil x \\rceil \\) is an integer...</td>\n",
       "      <td>\\frac{16}{7}</td>\n",
       "      <td></td>\n",
       "    </tr>\n",
       "    <tr>\n",
       "      <th>3</th>\n",
       "      <td>Evaluate $i^5+i^{-25}+i^{45}$.</td>\n",
       "      <td>Level 5</td>\n",
       "      <td>We have $i^5 = i^4\\cdot i = 1\\cdot (i) = i$. We also have $i^{-25}...</td>\n",
       "      <td>Algebra</td>\n",
       "      <td>To evaluate the expression \\( i^5 + i^{-25} + i^{45} \\), we first ...</td>\n",
       "      <td>i</td>\n",
       "      <td>✔️ [True]</td>\n",
       "    </tr>\n",
       "    <tr>\n",
       "      <th>4</th>\n",
       "      <td>If $2^8=4^x$, what is the value of $x$?</td>\n",
       "      <td>Level 1</td>\n",
       "      <td>Rewrite $4$ as $2^2$ to find $4^x=2^{2x}$.  Since $2^8=2^{2x}$, we...</td>\n",
       "      <td>Algebra</td>\n",
       "      <td>To solve the equation \\( 2^8 = 4^x \\), we first express \\( 4 \\) in...</td>\n",
       "      <td>4</td>\n",
       "      <td>✔️ [True]</td>\n",
       "    </tr>\n",
       "    <tr>\n",
       "      <th>5</th>\n",
       "      <td>What is the 100th term of the arithmetic sequence 6, 10, 14, 18, ...?</td>\n",
       "      <td>Level 2</td>\n",
       "      <td>The common difference is $10 - 6 = 4$, so the 100th term is $6+99\\...</td>\n",
       "      <td>Algebra</td>\n",
       "      <td>In an arithmetic sequence, the nth term can be calculated using th...</td>\n",
       "      <td>402</td>\n",
       "      <td>✔️ [True]</td>\n",
       "    </tr>\n",
       "    <tr>\n",
       "      <th>6</th>\n",
       "      <td>For what values of $x$ is it true that $x^2 - 5x - 4 \\le 10$? Expr...</td>\n",
       "      <td>Level 4</td>\n",
       "      <td>Re-arranging, $x^2 - 5x - 14 \\le 0$. The left-hand quadratic facto...</td>\n",
       "      <td>Algebra</td>\n",
       "      <td>To solve the inequality \\( x^2 - 5x - 4 \\le 10 \\), we first rearra...</td>\n",
       "      <td>[-2, 7]</td>\n",
       "      <td></td>\n",
       "    </tr>\n",
       "    <tr>\n",
       "      <th>7</th>\n",
       "      <td>Mr. Madoff invests 1000 dollars in a fund that compounds annually ...</td>\n",
       "      <td>Level 4</td>\n",
       "      <td>Let $r$ be the annual interest rate. Then after three years, Mr. M...</td>\n",
       "      <td>Algebra</td>\n",
       "      <td>To find the annual interest rate, we can use the formula for compo...</td>\n",
       "      <td>8</td>\n",
       "      <td></td>\n",
       "    </tr>\n",
       "    <tr>\n",
       "      <th>8</th>\n",
       "      <td>Four distinct integers $a$, $b$, $c$ and $d$ have the property tha...</td>\n",
       "      <td>Level 4</td>\n",
       "      <td>WLOG, let $a&lt;b&lt;c&lt;d$. The smallest sum is $a+b=10$. The second-smal...</td>\n",
       "      <td>Algebra</td>\n",
       "      <td>Let the four distinct integers be a, b, c, and d. The sums of the ...</td>\n",
       "      <td>4, 6, 14, 15</td>\n",
       "      <td>✔️ [True]</td>\n",
       "    </tr>\n",
       "    <tr>\n",
       "      <th>9</th>\n",
       "      <td>What is the smallest value of $x$ such that $|5x - 1| = |3x + 2|$?...</td>\n",
       "      <td>Level 5</td>\n",
       "      <td>There are two cases, when $5x-1=3x+2$ and when $5x-1=-(3x+2).$ The...</td>\n",
       "      <td>Algebra</td>\n",
       "      <td>To solve the equation \\(|5x - 1| = |3x + 2|\\), we need to consider...</td>\n",
       "      <td>-1/8</td>\n",
       "      <td></td>\n",
       "    </tr>\n",
       "    <tr>\n",
       "      <th>10</th>\n",
       "      <td>Let $f(x)=7x+5$ and $g(x)=x-1$.  If $h(x)=f(g(x))$, then what is t...</td>\n",
       "      <td>Level 4</td>\n",
       "      <td>\\[h(x)=f(g(x))=7(x-1)+5=7x-2.\\]Let's replace $h(x)$ with $y$ for s...</td>\n",
       "      <td>Algebra</td>\n",
       "      <td>To find the inverse of the function \\( h(x) = f(g(x)) \\), we first...</td>\n",
       "      <td>\\frac{x + 2}{7}</td>\n",
       "      <td>✔️ [True]</td>\n",
       "    </tr>\n",
       "    <tr>\n",
       "      <th>11</th>\n",
       "      <td>Find the sum of all integers that satisfy these conditions: \\[\\n|x...</td>\n",
       "      <td>Level 5</td>\n",
       "      <td>First, let's deal with $|x| + 1 &gt; 7$. Subtracting 1 from both side...</td>\n",
       "      <td>Algebra</td>\n",
       "      <td>To solve the inequalities \\(|x| + 1 &gt; 7\\) and \\(|x + 1| \\le 7\\), w...</td>\n",
       "      <td>-15</td>\n",
       "      <td>✔️ [True]</td>\n",
       "    </tr>\n",
       "    <tr>\n",
       "      <th>12</th>\n",
       "      <td>What is the number of units in the distance from the origin to the...</td>\n",
       "      <td>Level 2</td>\n",
       "      <td>We use the distance formula: $\\sqrt{(-8 - 0)^2 + (6 - 0)^2} = \\sqr...</td>\n",
       "      <td>Algebra</td>\n",
       "      <td>To find the distance from the origin (0, 0) to the point (-8, 6) i...</td>\n",
       "      <td>10</td>\n",
       "      <td>✔️ [True]</td>\n",
       "    </tr>\n",
       "    <tr>\n",
       "      <th>13</th>\n",
       "      <td>The two endpoints of a segment are at $(1,4)$ and $(1,10)$. What i...</td>\n",
       "      <td>Level 1</td>\n",
       "      <td>The midpoint of the segment is at $\\left(\\frac{1+1}{2},\\frac{4+10}...</td>\n",
       "      <td>Algebra</td>\n",
       "      <td>To find the midpoint of a segment with endpoints at (1, 4) and (1,...</td>\n",
       "      <td>8</td>\n",
       "      <td>✔️ [True]</td>\n",
       "    </tr>\n",
       "    <tr>\n",
       "      <th>14</th>\n",
       "      <td>Kite $ABCD$ (a quadrilateral with two pairs of adjacent equal side...</td>\n",
       "      <td>Level 3</td>\n",
       "      <td>As the problem suggests, we need to compute the lengths of the dia...</td>\n",
       "      <td>Algebra</td>\n",
       "      <td>To find the area of kite ABCD, we need to calculate the lengths of...</td>\n",
       "      <td>75</td>\n",
       "      <td>✔️ [True]</td>\n",
       "    </tr>\n",
       "    <tr>\n",
       "      <th>15</th>\n",
       "      <td>What is the smallest real number $x$ in the domain of the function...</td>\n",
       "      <td>Level 5</td>\n",
       "      <td>A real number $x$ is in the domain of $g$ if and only if $$(x-3)^2...</td>\n",
       "      <td>Algebra</td>\n",
       "      <td>To find the smallest real number \\( x \\) in the domain of the func...</td>\n",
       "      <td>5.5</td>\n",
       "      <td></td>\n",
       "    </tr>\n",
       "    <tr>\n",
       "      <th>16</th>\n",
       "      <td>Let \\[f(x) =\\n\\begin{cases}\\n3x + 5 &amp;\\text{if }x&lt;-3, \\\\\\n7-4x&amp;\\tex...</td>\n",
       "      <td>Level 2</td>\n",
       "      <td>Because $-10&lt;-3$, we use the first case to determine that $f(-10) ...</td>\n",
       "      <td>Algebra</td>\n",
       "      <td>To find \\( f(-10) \\), we need to determine which piece of the piec...</td>\n",
       "      <td>-25</td>\n",
       "      <td>✔️ [True]</td>\n",
       "    </tr>\n",
       "    <tr>\n",
       "      <th>17</th>\n",
       "      <td>If $A$, $B$ and $C$ are positive integers such that $\\frac{A\\sqrt{...</td>\n",
       "      <td>Level 3</td>\n",
       "      <td>Multiplying the numerator and denominator of the right hand side o...</td>\n",
       "      <td>Algebra</td>\n",
       "      <td>We start with the equation given in the problem: \\[ \\frac{A\\sqrt{B...</td>\n",
       "      <td>8</td>\n",
       "      <td>✔️ [True]</td>\n",
       "    </tr>\n",
       "    <tr>\n",
       "      <th>18</th>\n",
       "      <td>Ten treeks weigh as much as three squigs and one goolee. Two treek...</td>\n",
       "      <td>Level 3</td>\n",
       "      <td>Let $t,s,g$ be the weight of one treek, the weight of one squig, a...</td>\n",
       "      <td>Algebra</td>\n",
       "      <td>Let's denote the weights of the treek, squig, and goolee as T, S, ...</td>\n",
       "      <td>3</td>\n",
       "      <td>✔️ [True]</td>\n",
       "    </tr>\n",
       "    <tr>\n",
       "      <th>19</th>\n",
       "      <td>In a 8 fluid ounce bottle of Vitamin Water, there are 125 calories...</td>\n",
       "      <td>Level 1</td>\n",
       "      <td>We know that there are 125 calories in 8 fluid ounces of Vitamin W...</td>\n",
       "      <td>Algebra</td>\n",
       "      <td>To find the number of calories in a 12 fluid ounce bottle of Vitam...</td>\n",
       "      <td>187.5</td>\n",
       "      <td>✔️ [True]</td>\n",
       "    </tr>\n",
       "  </tbody>\n",
       "</table>\n",
       "</div>"
      ],
      "text/plain": [
       "                                                                  problem  ... math_evaluate\n",
       "0   How many vertical asymptotes does the graph of $y=\\frac{2}{x^2+x-6...  ...     ✔️ [True]\n",
       "1   What is the positive difference between $120\\%$ of 30 and $130\\%$ ...  ...     ✔️ [True]\n",
       "2   Find $x$ such that $\\lceil x \\rceil + x = \\dfrac{23}{7}$. Express ...  ...              \n",
       "3                                          Evaluate $i^5+i^{-25}+i^{45}$.  ...     ✔️ [True]\n",
       "4                                 If $2^8=4^x$, what is the value of $x$?  ...     ✔️ [True]\n",
       "5   What is the 100th term of the arithmetic sequence 6, 10, 14, 18, ...?  ...     ✔️ [True]\n",
       "6   For what values of $x$ is it true that $x^2 - 5x - 4 \\le 10$? Expr...  ...              \n",
       "7   Mr. Madoff invests 1000 dollars in a fund that compounds annually ...  ...              \n",
       "8   Four distinct integers $a$, $b$, $c$ and $d$ have the property tha...  ...     ✔️ [True]\n",
       "9   What is the smallest value of $x$ such that $|5x - 1| = |3x + 2|$?...  ...              \n",
       "10  Let $f(x)=7x+5$ and $g(x)=x-1$.  If $h(x)=f(g(x))$, then what is t...  ...     ✔️ [True]\n",
       "11  Find the sum of all integers that satisfy these conditions: \\[\\n|x...  ...     ✔️ [True]\n",
       "12  What is the number of units in the distance from the origin to the...  ...     ✔️ [True]\n",
       "13  The two endpoints of a segment are at $(1,4)$ and $(1,10)$. What i...  ...     ✔️ [True]\n",
       "14  Kite $ABCD$ (a quadrilateral with two pairs of adjacent equal side...  ...     ✔️ [True]\n",
       "15  What is the smallest real number $x$ in the domain of the function...  ...              \n",
       "16  Let \\[f(x) =\\n\\begin{cases}\\n3x + 5 &\\text{if }x<-3, \\\\\\n7-4x&\\tex...  ...     ✔️ [True]\n",
       "17  If $A$, $B$ and $C$ are positive integers such that $\\frac{A\\sqrt{...  ...     ✔️ [True]\n",
       "18  Ten treeks weigh as much as three squigs and one goolee. Two treek...  ...     ✔️ [True]\n",
       "19  In a 8 fluid ounce bottle of Vitamin Water, there are 125 calories...  ...     ✔️ [True]\n",
       "\n",
       "[20 rows x 7 columns]"
      ]
     },
     "metadata": {},
     "output_type": "display_data"
    },
    {
     "name": "stderr",
     "output_type": "stream",
     "text": [
      "INFO:py4j.clientserver:Closing down clientserver connection\n",
      "INFO:py4j.clientserver:Closing down clientserver connection\n",
      "INFO:py4j.clientserver:Closing down clientserver connection\n"
     ]
    },
    {
     "data": {
      "text/html": [
       "\n",
       "            <div style='\n",
       "                text-align: center;\n",
       "                font-size: 16px;\n",
       "                font-weight: bold;\n",
       "                color: #555;\n",
       "                margin: 10px 0;'>\n",
       "                ... 80 more rows not displayed ...\n",
       "            </div>\n",
       "            "
      ],
      "text/plain": [
       "<IPython.core.display.HTML object>"
      ]
     },
     "metadata": {},
     "output_type": "display_data"
    },
    {
     "data": {
      "application/databricks.mlflow.trace": "[\"tr-17294e7b5fee42a7a6eac609709a5704\", \"tr-376cebe0f0ca4effb3f4a0756d207385\", \"tr-5401e251236547d083d444c4100177e5\", \"tr-528ff0ad71374304b8ccbc3dc4bdb046\", \"tr-664e9a7c0cc340c8b94d3f0ad3163601\", \"tr-444776b305ee42a58910b626df075600\", \"tr-6585cf57e12a4932bf595310162b2122\", \"tr-d4340826056947dd9fc9e82d78aff0af\", \"tr-118d8a69def645b9af855cff84a5a59d\", \"tr-b44a1ba8679d43b9b6f85f60f6be3966\"]",
      "text/plain": [
       "[Trace(request_id=tr-17294e7b5fee42a7a6eac609709a5704), Trace(request_id=tr-376cebe0f0ca4effb3f4a0756d207385), Trace(request_id=tr-5401e251236547d083d444c4100177e5), Trace(request_id=tr-528ff0ad71374304b8ccbc3dc4bdb046), Trace(request_id=tr-664e9a7c0cc340c8b94d3f0ad3163601), Trace(request_id=tr-444776b305ee42a58910b626df075600), Trace(request_id=tr-6585cf57e12a4932bf595310162b2122), Trace(request_id=tr-d4340826056947dd9fc9e82d78aff0af), Trace(request_id=tr-118d8a69def645b9af855cff84a5a59d), Trace(request_id=tr-b44a1ba8679d43b9b6f85f60f6be3966)]"
      ]
     },
     "metadata": {},
     "output_type": "display_data"
    }
   ],
   "source": [
    "math_eval_score_optimized = math_evaluator(optimized_math_program, metric=math_evaluate)"
   ]
  },
  {
   "cell_type": "code",
   "execution_count": 0,
   "metadata": {
    "application/vnd.databricks.v1+cell": {
     "cellMetadata": {
      "byteLimit": 2048000,
      "rowLimit": 10000
     },
     "inputWidgets": {},
     "nuid": "5775f75a-8640-4ac4-9f85-88d6f18b4310",
     "showTitle": false,
     "tableResultSettingsMap": {},
     "title": ""
    }
   },
   "outputs": [
    {
     "data": {
      "text/plain": [
       "'You are a mathematician tasked with solving critical algebraic problems that will determine the fate of a prestigious mathematics competition. Given the problem statement, provide a thorough step-by-step reasoning process leading to the final answer. Make sure to connect theoretical concepts with practical applications, ensuring clarity and rigor in your solution. Use the fields `problem` to guide your response and produce the fields `reasoning` and `answer` accordingly.'"
      ]
     },
     "execution_count": 54,
     "metadata": {},
     "output_type": "execute_result"
    }
   ],
   "source": [
    "optimized_math_program.predict.signature.instructions"
   ]
  },
  {
   "cell_type": "code",
   "execution_count": 0,
   "metadata": {
    "application/vnd.databricks.v1+cell": {
     "cellMetadata": {
      "byteLimit": 2048000,
      "rowLimit": 10000
     },
     "inputWidgets": {},
     "nuid": "e90f91ea-264e-4f19-842b-ce7fba66440e",
     "showTitle": false,
     "tableResultSettingsMap": {},
     "title": ""
    }
   },
   "outputs": [
    {
     "data": {
      "text/plain": [
       "[Example({'augmented': True, 'problem': 'Let \\\\[f(x) = \\\\left\\\\{\\n\\\\begin{array}{cl} ax+3, &\\\\text{ if }x>2, \\\\\\\\\\nx-5 &\\\\text{ if } -2 \\\\le x \\\\le 2, \\\\\\\\\\n2x-b &\\\\text{ if } x <-2.\\n\\\\end{array}\\n\\\\right.\\\\]Find $a+b$ if the piecewise function is continuous (which means that its graph can be drawn without lifting your pencil from the paper).', 'reasoning': 'To ensure that the piecewise function \\\\( f(x) \\\\) is continuous, we need to check the continuity at the points where the definition of the function changes, which are at \\\\( x = -2 \\\\) and \\\\( x = 2 \\\\).\\\\n\\\\n1. **Continuity at \\\\( x = 2 \\\\)**:\\\\n   - From the left (using the second piece): \\\\( f(2) = 2 - 5 = -3 \\\\)\\\\n   - From the right (using the first piece): \\\\( f(2) = a(2) + 3 = 2a + 3 \\\\)\\\\n   - For continuity at \\\\( x = 2 \\\\): \\\\( 2a + 3 = -3 \\\\)\\\\n   - Solving for \\\\( a \\\\): \\\\( 2a = -6 \\\\) \\\\( \\\\Rightarrow a = -3 \\\\)\\\\n\\\\n2. **Continuity at \\\\( x = -2 \\\\)**:\\\\n   - From the left (using the third piece): \\\\( f(-2) = 2(-2) - b = -4 - b \\\\)\\\\n   - From the right (using the second piece): \\\\( f(-2) = -2 - 5 = -7 \\\\)\\\\n   - For continuity at \\\\( x = -2 \\\\): \\\\( -4 - b = -7 \\\\)\\\\n   - Solving for \\\\( b \\\\): \\\\( -b = -3 \\\\) \\\\( \\\\Rightarrow b = 3 \\\\)\\\\n\\\\nNow we have \\\\( a = -3 \\\\) and \\\\( b = 3 \\\\). Therefore, \\\\( a + b = -3 + 3 = 0 \\\\).', 'answer': '0'}) (input_keys=None),\n",
       " Example({'augmented': True, 'problem': 'A rectangular band formation is a formation with $m$ band members in each of $r$ rows, where $m$ and $r$ are integers. A particular band has less than 100 band members. The director arranges them in a rectangular formation and finds that he has two members left over. If he increases the number of members in each row by 1 and reduces the number of rows by 2, there are exactly enough places in the new formation for each band member. What is the largest number of members the band could have?', 'reasoning': 'Let the total number of band members be denoted as N. According to the problem, when arranged in a rectangular formation with m members in each of r rows, there are 2 members left over. This can be expressed as:  \\nN = m * r + 2.  \\n\\nWhen the number of members in each row is increased by 1 (to m + 1) and the number of rows is decreased by 2 (to r - 2), there are exactly enough places for all members, which gives us the equation:  \\nN = (m + 1) * (r - 2).  \\n\\nWe can set these two equations equal to each other:  \\nm * r + 2 = (m + 1) * (r - 2).  \\n\\nExpanding the right side:  \\nm * r + 2 = m * r - 2m + r - 2.  \\n\\nSubtracting m * r from both sides gives:  \\n2 = -2m + r - 2.  \\n\\nRearranging this leads to:  \\nr = 2m + 4.  \\n\\nNow substituting r back into the first equation:  \\nN = m * (2m + 4) + 2 = 2m^2 + 4m + 2.  \\n\\nTo find the maximum N under 100, we solve the inequality:  \\n2m^2 + 4m + 2 < 100.  \\n\\nDividing the entire inequality by 2 gives:  \\nm^2 + 2m + 1 < 50,  \\nwhich simplifies to:  \\n(m + 1)^2 < 50.  \\n\\nTaking the square root of both sides gives:  \\nm + 1 < 7.07,  \\nso m < 6.07.  \\n\\nThus, the maximum integer value for m is 6. Substituting m = 6 back into the equation for N:  \\nN = 2(6^2) + 4(6) + 2 = 2(36) + 24 + 2 = 72 + 24 + 2 = 98.  \\n\\nNow we check if this satisfies the conditions:  \\nIf m = 6, then r = 2(6) + 4 = 16.  \\n\\nThe original formation would be 6 members in 16 rows, which gives 96 members, leaving 2 members left over.  \\n\\nIn the new formation, with 7 members in each row and 14 rows, we have 7 * 14 = 98, which fits perfectly.  \\n\\nThus, the largest number of members the band could have is 98.', 'answer': '98'}) (input_keys=None),\n",
       " Example({'augmented': True, 'problem': 'What is the degree of the polynomial $(4 +5x^3 +100 +2\\\\pi x^4 + \\\\sqrt{10}x^4 +9)$?', 'reasoning': 'To find the degree of the polynomial, we first need to simplify the expression by combining like terms. The given polynomial is: 4 + 5x^3 + 100 + 2πx^4 + √10x^4 + 9. We can combine the constant terms (4, 100, and 9) to get 113. The polynomial can then be rewritten as: 113 + 5x^3 + (2π + √10)x^4. The highest power of x in this polynomial is 4, which comes from the term (2π + √10)x^4. Therefore, the degree of the polynomial is 4.', 'answer': '4'}) (input_keys=None),\n",
       " Example({'augmented': True, 'problem': 'Evaluate $\\\\left\\\\lceil3\\\\left(6-\\\\frac12\\\\right)\\\\right\\\\rceil$.', 'reasoning': 'First, we simplify the expression inside the parentheses: 6 - 1/2 = 6 - 0.5 = 5.5. Next, we multiply this result by 3: 3 * 5.5 = 16.5. Finally, we apply the ceiling function, which rounds 16.5 up to the nearest integer, resulting in 17.', 'answer': '17'}) (input_keys=None)]"
      ]
     },
     "execution_count": 55,
     "metadata": {},
     "output_type": "execute_result"
    }
   ],
   "source": [
    "optimized_math_program.predict.demos"
   ]
  },
  {
   "cell_type": "code",
   "execution_count": 0,
   "metadata": {
    "application/vnd.databricks.v1+cell": {
     "cellMetadata": {
      "byteLimit": 2048000,
      "rowLimit": 10000
     },
     "inputWidgets": {},
     "nuid": "62d40cdb-47da-4cd5-9eff-cb3320ad526c",
     "showTitle": false,
     "tableResultSettingsMap": {},
     "title": ""
    }
   },
   "outputs": [],
   "source": [
    "# Define a QA module with chain of thought\n",
    "qa = dspy.ChainOfThought(\"question -> answer\")\n",
    "\n",
    "\n",
    "# Define a reward function that checks for one-word answers\n",
    "def one_word_answer(args, pred):\n",
    "    score = 1.0 if len(pred.answer.split()) < 5 else 0.0\n",
    "    print(f\"Score: {score}\")\n",
    "    return score\n",
    "\n",
    "\n",
    "# Create a refined module that tries up to 3 times\n",
    "best_of_3 = dspy.Refine(module=qa, N=3, reward_fn=one_word_answer, threshold=1.0)\n",
    "\n",
    "# Use the refined module\n",
    "result = best_of_3(question=\"What's a good reason for working?\").answer\n",
    "\n",
    "print(result)\n"
   ]
  }
 ],
 "metadata": {
  "application/vnd.databricks.v1+notebook": {
   "computePreferences": null,
   "dashboards": [],
   "environmentMetadata": {
    "base_environment": "",
    "environment_version": "2"
   },
   "inputWidgetPreferences": null,
   "language": "python",
   "notebookMetadata": {
    "pythonIndentUnit": 4
   },
   "notebookName": "DSPy Workshop",
   "widgets": {}
  },
  "language_info": {
   "name": "python"
  }
 },
 "nbformat": 4,
 "nbformat_minor": 0
}
